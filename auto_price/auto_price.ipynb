{
 "cells": [
  {
   "cell_type": "markdown",
   "metadata": {},
   "source": [
    "# Определение стоимости автомобилей"
   ]
  },
  {
   "cell_type": "markdown",
   "metadata": {},
   "source": [
    "Задача проекта - создать модель, определяющую рыночную стоимость автомобиля. В нашем распоряжении исторические данные: технические характеристики, комплектации и цены автомобилей.\n",
    "\n",
    "Заказчику важны:\n",
    "\n",
    "- качество предсказания;\n",
    "- скорость предсказания;\n",
    "- время обучения."
   ]
  },
  {
   "cell_type": "code",
   "execution_count": 1,
   "metadata": {},
   "outputs": [],
   "source": [
    "import warnings\n",
    "warnings.filterwarnings('ignore')"
   ]
  },
  {
   "cell_type": "markdown",
   "metadata": {},
   "source": [
    "## Подготовка данных"
   ]
  },
  {
   "cell_type": "markdown",
   "metadata": {},
   "source": [
    "Загрузим необходимые нам библиотеки и ознакомимся с данными"
   ]
  },
  {
   "cell_type": "code",
   "execution_count": 2,
   "metadata": {},
   "outputs": [],
   "source": [
    "import pandas as pd\n",
    "import numpy as np\n",
    "import seaborn as sns\n",
    "import matplotlib.pyplot as plt\n",
    "\n",
    "from sklearn.pipeline import Pipeline\n",
    "from sklearn.compose import ColumnTransformer\n",
    "from sklearn.preprocessing import OneHotEncoder, StandardScaler\n",
    "from sklearn.model_selection import GridSearchCV, train_test_split, cross_val_score\n",
    "from sklearn.metrics import mean_squared_error, make_scorer\n",
    "\n",
    "from sklearn.ensemble import RandomForestRegressor\n",
    "from sklearn.linear_model import LinearRegression\n",
    "from sklearn.dummy import DummyRegressor\n",
    "import lightgbm as lgb"
   ]
  },
  {
   "cell_type": "code",
   "execution_count": 3,
   "metadata": {},
   "outputs": [
    {
     "name": "stdout",
     "output_type": "stream",
     "text": [
      "<class 'pandas.core.frame.DataFrame'>\n",
      "RangeIndex: 354369 entries, 0 to 354368\n",
      "Data columns (total 16 columns):\n",
      " #   Column             Non-Null Count   Dtype \n",
      "---  ------             --------------   ----- \n",
      " 0   DateCrawled        354369 non-null  object\n",
      " 1   Price              354369 non-null  int64 \n",
      " 2   VehicleType        316879 non-null  object\n",
      " 3   RegistrationYear   354369 non-null  int64 \n",
      " 4   Gearbox            334536 non-null  object\n",
      " 5   Power              354369 non-null  int64 \n",
      " 6   Model              334664 non-null  object\n",
      " 7   Kilometer          354369 non-null  int64 \n",
      " 8   RegistrationMonth  354369 non-null  int64 \n",
      " 9   FuelType           321474 non-null  object\n",
      " 10  Brand              354369 non-null  object\n",
      " 11  NotRepaired        283215 non-null  object\n",
      " 12  DateCreated        354369 non-null  object\n",
      " 13  NumberOfPictures   354369 non-null  int64 \n",
      " 14  PostalCode         354369 non-null  int64 \n",
      " 15  LastSeen           354369 non-null  object\n",
      "dtypes: int64(7), object(9)\n",
      "memory usage: 43.3+ MB\n"
     ]
    }
   ],
   "source": [
    "df = pd.read_csv('https://code.s3.yandex.net/datasets/autos.csv')\n",
    "df.info()"
   ]
  },
  {
   "cell_type": "code",
   "execution_count": 4,
   "metadata": {},
   "outputs": [
    {
     "data": {
      "text/html": [
       "<div>\n",
       "<style scoped>\n",
       "    .dataframe tbody tr th:only-of-type {\n",
       "        vertical-align: middle;\n",
       "    }\n",
       "\n",
       "    .dataframe tbody tr th {\n",
       "        vertical-align: top;\n",
       "    }\n",
       "\n",
       "    .dataframe thead th {\n",
       "        text-align: right;\n",
       "    }\n",
       "</style>\n",
       "<table border=\"1\" class=\"dataframe\">\n",
       "  <thead>\n",
       "    <tr style=\"text-align: right;\">\n",
       "      <th></th>\n",
       "      <th>DateCrawled</th>\n",
       "      <th>Price</th>\n",
       "      <th>VehicleType</th>\n",
       "      <th>RegistrationYear</th>\n",
       "      <th>Gearbox</th>\n",
       "      <th>Power</th>\n",
       "      <th>Model</th>\n",
       "      <th>Kilometer</th>\n",
       "      <th>RegistrationMonth</th>\n",
       "      <th>FuelType</th>\n",
       "      <th>Brand</th>\n",
       "      <th>NotRepaired</th>\n",
       "      <th>DateCreated</th>\n",
       "      <th>NumberOfPictures</th>\n",
       "      <th>PostalCode</th>\n",
       "      <th>LastSeen</th>\n",
       "    </tr>\n",
       "  </thead>\n",
       "  <tbody>\n",
       "    <tr>\n",
       "      <th>171088</th>\n",
       "      <td>2016-03-08 18:42:48</td>\n",
       "      <td>1799</td>\n",
       "      <td>coupe</td>\n",
       "      <td>1999</td>\n",
       "      <td>auto</td>\n",
       "      <td>193</td>\n",
       "      <td>clk</td>\n",
       "      <td>20000</td>\n",
       "      <td>7</td>\n",
       "      <td>petrol</td>\n",
       "      <td>mercedes_benz</td>\n",
       "      <td>no</td>\n",
       "      <td>2016-03-08 00:00:00</td>\n",
       "      <td>0</td>\n",
       "      <td>89518</td>\n",
       "      <td>2016-03-09 09:46:57</td>\n",
       "    </tr>\n",
       "    <tr>\n",
       "      <th>231258</th>\n",
       "      <td>2016-03-28 00:56:10</td>\n",
       "      <td>1000</td>\n",
       "      <td>small</td>\n",
       "      <td>2002</td>\n",
       "      <td>manual</td>\n",
       "      <td>83</td>\n",
       "      <td>other</td>\n",
       "      <td>150000</td>\n",
       "      <td>1</td>\n",
       "      <td>petrol</td>\n",
       "      <td>suzuki</td>\n",
       "      <td>no</td>\n",
       "      <td>2016-03-28 00:00:00</td>\n",
       "      <td>0</td>\n",
       "      <td>66589</td>\n",
       "      <td>2016-03-28 08:46:21</td>\n",
       "    </tr>\n",
       "    <tr>\n",
       "      <th>258109</th>\n",
       "      <td>2016-04-03 09:01:15</td>\n",
       "      <td>4699</td>\n",
       "      <td>coupe</td>\n",
       "      <td>2003</td>\n",
       "      <td>auto</td>\n",
       "      <td>218</td>\n",
       "      <td>clk</td>\n",
       "      <td>125000</td>\n",
       "      <td>6</td>\n",
       "      <td>petrol</td>\n",
       "      <td>mercedes_benz</td>\n",
       "      <td>yes</td>\n",
       "      <td>2016-04-03 00:00:00</td>\n",
       "      <td>0</td>\n",
       "      <td>75196</td>\n",
       "      <td>2016-04-07 09:44:54</td>\n",
       "    </tr>\n",
       "    <tr>\n",
       "      <th>325651</th>\n",
       "      <td>2016-03-18 18:46:15</td>\n",
       "      <td>1999</td>\n",
       "      <td>wagon</td>\n",
       "      <td>2001</td>\n",
       "      <td>manual</td>\n",
       "      <td>131</td>\n",
       "      <td>passat</td>\n",
       "      <td>150000</td>\n",
       "      <td>7</td>\n",
       "      <td>gasoline</td>\n",
       "      <td>volkswagen</td>\n",
       "      <td>no</td>\n",
       "      <td>2016-03-18 00:00:00</td>\n",
       "      <td>0</td>\n",
       "      <td>36391</td>\n",
       "      <td>2016-03-18 18:46:15</td>\n",
       "    </tr>\n",
       "  </tbody>\n",
       "</table>\n",
       "</div>"
      ],
      "text/plain": [
       "                DateCrawled  Price VehicleType  RegistrationYear Gearbox  \\\n",
       "171088  2016-03-08 18:42:48   1799       coupe              1999    auto   \n",
       "231258  2016-03-28 00:56:10   1000       small              2002  manual   \n",
       "258109  2016-04-03 09:01:15   4699       coupe              2003    auto   \n",
       "325651  2016-03-18 18:46:15   1999       wagon              2001  manual   \n",
       "\n",
       "        Power   Model  Kilometer  RegistrationMonth  FuelType          Brand  \\\n",
       "171088    193     clk      20000                  7    petrol  mercedes_benz   \n",
       "231258     83   other     150000                  1    petrol         suzuki   \n",
       "258109    218     clk     125000                  6    petrol  mercedes_benz   \n",
       "325651    131  passat     150000                  7  gasoline     volkswagen   \n",
       "\n",
       "       NotRepaired          DateCreated  NumberOfPictures  PostalCode  \\\n",
       "171088          no  2016-03-08 00:00:00                 0       89518   \n",
       "231258          no  2016-03-28 00:00:00                 0       66589   \n",
       "258109         yes  2016-04-03 00:00:00                 0       75196   \n",
       "325651          no  2016-03-18 00:00:00                 0       36391   \n",
       "\n",
       "                   LastSeen  \n",
       "171088  2016-03-09 09:46:57  \n",
       "231258  2016-03-28 08:46:21  \n",
       "258109  2016-04-07 09:44:54  \n",
       "325651  2016-03-18 18:46:15  "
      ]
     },
     "execution_count": 4,
     "metadata": {},
     "output_type": "execute_result"
    }
   ],
   "source": [
    "df[df.duplicated()]"
   ]
  },
  {
   "cell_type": "markdown",
   "metadata": {},
   "source": [
    "В датафрейме 4 дубликата - избавимся от них:"
   ]
  },
  {
   "cell_type": "code",
   "execution_count": 5,
   "metadata": {},
   "outputs": [
    {
     "data": {
      "text/plain": [
       "4"
      ]
     },
     "execution_count": 5,
     "metadata": {},
     "output_type": "execute_result"
    }
   ],
   "source": [
    "df.drop_duplicates().reset_index(drop=True)\n",
    "df.duplicated().sum()"
   ]
  },
  {
   "cell_type": "code",
   "execution_count": 6,
   "metadata": {},
   "outputs": [
    {
     "data": {
      "text/html": [
       "<div>\n",
       "<style scoped>\n",
       "    .dataframe tbody tr th:only-of-type {\n",
       "        vertical-align: middle;\n",
       "    }\n",
       "\n",
       "    .dataframe tbody tr th {\n",
       "        vertical-align: top;\n",
       "    }\n",
       "\n",
       "    .dataframe thead th {\n",
       "        text-align: right;\n",
       "    }\n",
       "</style>\n",
       "<table border=\"1\" class=\"dataframe\">\n",
       "  <thead>\n",
       "    <tr style=\"text-align: right;\">\n",
       "      <th></th>\n",
       "      <th>DateCrawled</th>\n",
       "      <th>Price</th>\n",
       "      <th>VehicleType</th>\n",
       "      <th>RegistrationYear</th>\n",
       "      <th>Gearbox</th>\n",
       "      <th>Power</th>\n",
       "      <th>Model</th>\n",
       "      <th>Kilometer</th>\n",
       "      <th>RegistrationMonth</th>\n",
       "      <th>FuelType</th>\n",
       "      <th>Brand</th>\n",
       "      <th>NotRepaired</th>\n",
       "      <th>DateCreated</th>\n",
       "      <th>NumberOfPictures</th>\n",
       "      <th>PostalCode</th>\n",
       "      <th>LastSeen</th>\n",
       "    </tr>\n",
       "  </thead>\n",
       "  <tbody>\n",
       "    <tr>\n",
       "      <th>0</th>\n",
       "      <td>2016-03-24 11:52:17</td>\n",
       "      <td>480</td>\n",
       "      <td>NaN</td>\n",
       "      <td>1993</td>\n",
       "      <td>manual</td>\n",
       "      <td>0</td>\n",
       "      <td>golf</td>\n",
       "      <td>150000</td>\n",
       "      <td>0</td>\n",
       "      <td>petrol</td>\n",
       "      <td>volkswagen</td>\n",
       "      <td>NaN</td>\n",
       "      <td>2016-03-24 00:00:00</td>\n",
       "      <td>0</td>\n",
       "      <td>70435</td>\n",
       "      <td>2016-04-07 03:16:57</td>\n",
       "    </tr>\n",
       "    <tr>\n",
       "      <th>1</th>\n",
       "      <td>2016-03-24 10:58:45</td>\n",
       "      <td>18300</td>\n",
       "      <td>coupe</td>\n",
       "      <td>2011</td>\n",
       "      <td>manual</td>\n",
       "      <td>190</td>\n",
       "      <td>NaN</td>\n",
       "      <td>125000</td>\n",
       "      <td>5</td>\n",
       "      <td>gasoline</td>\n",
       "      <td>audi</td>\n",
       "      <td>yes</td>\n",
       "      <td>2016-03-24 00:00:00</td>\n",
       "      <td>0</td>\n",
       "      <td>66954</td>\n",
       "      <td>2016-04-07 01:46:50</td>\n",
       "    </tr>\n",
       "    <tr>\n",
       "      <th>2</th>\n",
       "      <td>2016-03-14 12:52:21</td>\n",
       "      <td>9800</td>\n",
       "      <td>suv</td>\n",
       "      <td>2004</td>\n",
       "      <td>auto</td>\n",
       "      <td>163</td>\n",
       "      <td>grand</td>\n",
       "      <td>125000</td>\n",
       "      <td>8</td>\n",
       "      <td>gasoline</td>\n",
       "      <td>jeep</td>\n",
       "      <td>NaN</td>\n",
       "      <td>2016-03-14 00:00:00</td>\n",
       "      <td>0</td>\n",
       "      <td>90480</td>\n",
       "      <td>2016-04-05 12:47:46</td>\n",
       "    </tr>\n",
       "    <tr>\n",
       "      <th>3</th>\n",
       "      <td>2016-03-17 16:54:04</td>\n",
       "      <td>1500</td>\n",
       "      <td>small</td>\n",
       "      <td>2001</td>\n",
       "      <td>manual</td>\n",
       "      <td>75</td>\n",
       "      <td>golf</td>\n",
       "      <td>150000</td>\n",
       "      <td>6</td>\n",
       "      <td>petrol</td>\n",
       "      <td>volkswagen</td>\n",
       "      <td>no</td>\n",
       "      <td>2016-03-17 00:00:00</td>\n",
       "      <td>0</td>\n",
       "      <td>91074</td>\n",
       "      <td>2016-03-17 17:40:17</td>\n",
       "    </tr>\n",
       "    <tr>\n",
       "      <th>4</th>\n",
       "      <td>2016-03-31 17:25:20</td>\n",
       "      <td>3600</td>\n",
       "      <td>small</td>\n",
       "      <td>2008</td>\n",
       "      <td>manual</td>\n",
       "      <td>69</td>\n",
       "      <td>fabia</td>\n",
       "      <td>90000</td>\n",
       "      <td>7</td>\n",
       "      <td>gasoline</td>\n",
       "      <td>skoda</td>\n",
       "      <td>no</td>\n",
       "      <td>2016-03-31 00:00:00</td>\n",
       "      <td>0</td>\n",
       "      <td>60437</td>\n",
       "      <td>2016-04-06 10:17:21</td>\n",
       "    </tr>\n",
       "  </tbody>\n",
       "</table>\n",
       "</div>"
      ],
      "text/plain": [
       "           DateCrawled  Price VehicleType  RegistrationYear Gearbox  Power  \\\n",
       "0  2016-03-24 11:52:17    480         NaN              1993  manual      0   \n",
       "1  2016-03-24 10:58:45  18300       coupe              2011  manual    190   \n",
       "2  2016-03-14 12:52:21   9800         suv              2004    auto    163   \n",
       "3  2016-03-17 16:54:04   1500       small              2001  manual     75   \n",
       "4  2016-03-31 17:25:20   3600       small              2008  manual     69   \n",
       "\n",
       "   Model  Kilometer  RegistrationMonth  FuelType       Brand NotRepaired  \\\n",
       "0   golf     150000                  0    petrol  volkswagen         NaN   \n",
       "1    NaN     125000                  5  gasoline        audi         yes   \n",
       "2  grand     125000                  8  gasoline        jeep         NaN   \n",
       "3   golf     150000                  6    petrol  volkswagen          no   \n",
       "4  fabia      90000                  7  gasoline       skoda          no   \n",
       "\n",
       "           DateCreated  NumberOfPictures  PostalCode             LastSeen  \n",
       "0  2016-03-24 00:00:00                 0       70435  2016-04-07 03:16:57  \n",
       "1  2016-03-24 00:00:00                 0       66954  2016-04-07 01:46:50  \n",
       "2  2016-03-14 00:00:00                 0       90480  2016-04-05 12:47:46  \n",
       "3  2016-03-17 00:00:00                 0       91074  2016-03-17 17:40:17  \n",
       "4  2016-03-31 00:00:00                 0       60437  2016-04-06 10:17:21  "
      ]
     },
     "execution_count": 6,
     "metadata": {},
     "output_type": "execute_result"
    }
   ],
   "source": [
    "df.head()"
   ]
  },
  {
   "cell_type": "code",
   "execution_count": 7,
   "metadata": {},
   "outputs": [
    {
     "data": {
      "text/plain": [
       "DateCrawled              0\n",
       "Price                    0\n",
       "VehicleType          37490\n",
       "RegistrationYear         0\n",
       "Gearbox              19833\n",
       "Power                    0\n",
       "Model                19705\n",
       "Kilometer                0\n",
       "RegistrationMonth        0\n",
       "FuelType             32895\n",
       "Brand                    0\n",
       "NotRepaired          71154\n",
       "DateCreated              0\n",
       "NumberOfPictures         0\n",
       "PostalCode               0\n",
       "LastSeen                 0\n",
       "dtype: int64"
      ]
     },
     "execution_count": 7,
     "metadata": {},
     "output_type": "execute_result"
    }
   ],
   "source": [
    "df.isnull().sum()"
   ]
  },
  {
   "cell_type": "markdown",
   "metadata": {},
   "source": [
    "Датасет содержит информацию о дате скачивания анкеты из базы, цене авто, годе и месяце регистрации автомобиля, технических характеристиках, комплектации авто, а так же о том, была машина в ремонте или нет, когда была создана анкета, количестве фотографий автомобиля, почтовом индексе пользователя и дате его последней активности. \n",
    "\n",
    "В датасете требуется привести данные к нужному формату: все даты сохранены в формате object.\n",
    "\n",
    "Пропуски в датасете содержатся только в столбцах с категориальными данными (\"тип двигателя\", \"тип КП\", \"модель\", \"тип топлива\", \"был ремонт\"). Неизвестные значения в столбце model заполнены значением 'other' - заполним так же остальные пропуски в этом столбце. В остальных столбцах с пропусками заполним их значением unknown."
   ]
  },
  {
   "cell_type": "code",
   "execution_count": 8,
   "metadata": {},
   "outputs": [
    {
     "name": "stdout",
     "output_type": "stream",
     "text": [
      "<class 'pandas.core.frame.DataFrame'>\n",
      "RangeIndex: 354369 entries, 0 to 354368\n",
      "Data columns (total 16 columns):\n",
      " #   Column             Non-Null Count   Dtype \n",
      "---  ------             --------------   ----- \n",
      " 0   DateCrawled        354369 non-null  object\n",
      " 1   Price              354369 non-null  int64 \n",
      " 2   VehicleType        354369 non-null  object\n",
      " 3   RegistrationYear   354369 non-null  int64 \n",
      " 4   Gearbox            354369 non-null  object\n",
      " 5   Power              354369 non-null  int64 \n",
      " 6   Model              354369 non-null  object\n",
      " 7   Kilometer          354369 non-null  int64 \n",
      " 8   RegistrationMonth  354369 non-null  int64 \n",
      " 9   FuelType           354369 non-null  object\n",
      " 10  Brand              354369 non-null  object\n",
      " 11  NotRepaired        354369 non-null  object\n",
      " 12  DateCreated        354369 non-null  object\n",
      " 13  NumberOfPictures   354369 non-null  int64 \n",
      " 14  PostalCode         354369 non-null  int64 \n",
      " 15  LastSeen           354369 non-null  object\n",
      "dtypes: int64(7), object(9)\n",
      "memory usage: 43.3+ MB\n"
     ]
    }
   ],
   "source": [
    "df['Model'] = df['Model'].fillna('other')\n",
    "df = df.fillna('unknown')\n",
    "df.info()"
   ]
  },
  {
   "cell_type": "code",
   "execution_count": 9,
   "metadata": {},
   "outputs": [
    {
     "data": {
      "text/plain": [
       "10115    819\n",
       "65428    613\n",
       "66333    343\n",
       "32257    317\n",
       "44145    317\n",
       "        ... \n",
       "21782      1\n",
       "9517       1\n",
       "29367      1\n",
       "38325      1\n",
       "82404      1\n",
       "Name: PostalCode, Length: 8143, dtype: int64"
      ]
     },
     "execution_count": 9,
     "metadata": {},
     "output_type": "execute_result"
    }
   ],
   "source": [
    "df['PostalCode'].value_counts()"
   ]
  },
  {
   "cell_type": "markdown",
   "metadata": {},
   "source": [
    "Столбец \"Почтовый индекс\" содержит **не** уникальные значения, т.е. не является id.\n",
    "\n",
    "Посмотрим на данные в столбце Количество фотографий:"
   ]
  },
  {
   "cell_type": "code",
   "execution_count": 10,
   "metadata": {},
   "outputs": [
    {
     "data": {
      "text/plain": [
       "0    354369\n",
       "Name: NumberOfPictures, dtype: int64"
      ]
     },
     "execution_count": 10,
     "metadata": {},
     "output_type": "execute_result"
    }
   ],
   "source": [
    "df['NumberOfPictures'].value_counts()"
   ]
  },
  {
   "cell_type": "markdown",
   "metadata": {},
   "source": [
    "Столбец Количество фотографий целиком состоит из нулей - судя по всему, произошла ошибка при загрузке данных. Вввиду того, что у нас отсутствует возможность запросить эти данные, столбец нужно удалить - в нашем исследовании он нам не поможет. \n",
    "\n",
    "Приведем данные в столбцах с датами к нужному формату:"
   ]
  },
  {
   "cell_type": "code",
   "execution_count": 11,
   "metadata": {},
   "outputs": [
    {
     "name": "stdout",
     "output_type": "stream",
     "text": [
      "<class 'pandas.core.frame.DataFrame'>\n",
      "RangeIndex: 354369 entries, 0 to 354368\n",
      "Data columns (total 16 columns):\n",
      " #   Column             Non-Null Count   Dtype         \n",
      "---  ------             --------------   -----         \n",
      " 0   DateCrawled        354369 non-null  object        \n",
      " 1   Price              354369 non-null  int64         \n",
      " 2   VehicleType        354369 non-null  object        \n",
      " 3   RegistrationYear   354369 non-null  int64         \n",
      " 4   Gearbox            354369 non-null  object        \n",
      " 5   Power              354369 non-null  int64         \n",
      " 6   Model              354369 non-null  object        \n",
      " 7   Kilometer          354369 non-null  int64         \n",
      " 8   RegistrationMonth  354369 non-null  int64         \n",
      " 9   FuelType           354369 non-null  object        \n",
      " 10  Brand              354369 non-null  object        \n",
      " 11  NotRepaired        354369 non-null  object        \n",
      " 12  DateCreated        354369 non-null  datetime64[ns]\n",
      " 13  NumberOfPictures   354369 non-null  int64         \n",
      " 14  PostalCode         354369 non-null  int64         \n",
      " 15  LastSeen           354369 non-null  datetime64[ns]\n",
      "dtypes: datetime64[ns](2), int64(7), object(7)\n",
      "memory usage: 43.3+ MB\n"
     ]
    }
   ],
   "source": [
    "df['DateCreated'] = pd.to_datetime(df['DateCreated'], format='%Y-%m-%d %H:%M:%S')\n",
    "df['LastSeen'] = pd.to_datetime(df['LastSeen'], format='%Y-%m-%d %H:%M:%S')\n",
    "df.info()"
   ]
  },
  {
   "cell_type": "markdown",
   "metadata": {},
   "source": [
    "Сама по себе информация о дате последней активности и дате создания объявления не представляет ценности для будущей модели. На их основе создадим и добавим столбцы с информацией об общем времени активности объявления. Нули округлим до единицы."
   ]
  },
  {
   "cell_type": "code",
   "execution_count": 12,
   "metadata": {},
   "outputs": [
    {
     "data": {
      "text/html": [
       "<div>\n",
       "<style scoped>\n",
       "    .dataframe tbody tr th:only-of-type {\n",
       "        vertical-align: middle;\n",
       "    }\n",
       "\n",
       "    .dataframe tbody tr th {\n",
       "        vertical-align: top;\n",
       "    }\n",
       "\n",
       "    .dataframe thead th {\n",
       "        text-align: right;\n",
       "    }\n",
       "</style>\n",
       "<table border=\"1\" class=\"dataframe\">\n",
       "  <thead>\n",
       "    <tr style=\"text-align: right;\">\n",
       "      <th></th>\n",
       "      <th>DateCrawled</th>\n",
       "      <th>Price</th>\n",
       "      <th>VehicleType</th>\n",
       "      <th>RegistrationYear</th>\n",
       "      <th>Gearbox</th>\n",
       "      <th>Power</th>\n",
       "      <th>Model</th>\n",
       "      <th>Kilometer</th>\n",
       "      <th>RegistrationMonth</th>\n",
       "      <th>FuelType</th>\n",
       "      <th>Brand</th>\n",
       "      <th>NotRepaired</th>\n",
       "      <th>DateCreated</th>\n",
       "      <th>NumberOfPictures</th>\n",
       "      <th>PostalCode</th>\n",
       "      <th>LastSeen</th>\n",
       "      <th>days_active</th>\n",
       "    </tr>\n",
       "  </thead>\n",
       "  <tbody>\n",
       "    <tr>\n",
       "      <th>0</th>\n",
       "      <td>2016-03-24 11:52:17</td>\n",
       "      <td>480</td>\n",
       "      <td>unknown</td>\n",
       "      <td>1993</td>\n",
       "      <td>manual</td>\n",
       "      <td>0</td>\n",
       "      <td>golf</td>\n",
       "      <td>150000</td>\n",
       "      <td>0</td>\n",
       "      <td>petrol</td>\n",
       "      <td>volkswagen</td>\n",
       "      <td>unknown</td>\n",
       "      <td>2016-03-24</td>\n",
       "      <td>0</td>\n",
       "      <td>70435</td>\n",
       "      <td>2016-04-07 03:16:57</td>\n",
       "      <td>14</td>\n",
       "    </tr>\n",
       "    <tr>\n",
       "      <th>1</th>\n",
       "      <td>2016-03-24 10:58:45</td>\n",
       "      <td>18300</td>\n",
       "      <td>coupe</td>\n",
       "      <td>2011</td>\n",
       "      <td>manual</td>\n",
       "      <td>190</td>\n",
       "      <td>other</td>\n",
       "      <td>125000</td>\n",
       "      <td>5</td>\n",
       "      <td>gasoline</td>\n",
       "      <td>audi</td>\n",
       "      <td>yes</td>\n",
       "      <td>2016-03-24</td>\n",
       "      <td>0</td>\n",
       "      <td>66954</td>\n",
       "      <td>2016-04-07 01:46:50</td>\n",
       "      <td>14</td>\n",
       "    </tr>\n",
       "    <tr>\n",
       "      <th>2</th>\n",
       "      <td>2016-03-14 12:52:21</td>\n",
       "      <td>9800</td>\n",
       "      <td>suv</td>\n",
       "      <td>2004</td>\n",
       "      <td>auto</td>\n",
       "      <td>163</td>\n",
       "      <td>grand</td>\n",
       "      <td>125000</td>\n",
       "      <td>8</td>\n",
       "      <td>gasoline</td>\n",
       "      <td>jeep</td>\n",
       "      <td>unknown</td>\n",
       "      <td>2016-03-14</td>\n",
       "      <td>0</td>\n",
       "      <td>90480</td>\n",
       "      <td>2016-04-05 12:47:46</td>\n",
       "      <td>22</td>\n",
       "    </tr>\n",
       "    <tr>\n",
       "      <th>3</th>\n",
       "      <td>2016-03-17 16:54:04</td>\n",
       "      <td>1500</td>\n",
       "      <td>small</td>\n",
       "      <td>2001</td>\n",
       "      <td>manual</td>\n",
       "      <td>75</td>\n",
       "      <td>golf</td>\n",
       "      <td>150000</td>\n",
       "      <td>6</td>\n",
       "      <td>petrol</td>\n",
       "      <td>volkswagen</td>\n",
       "      <td>no</td>\n",
       "      <td>2016-03-17</td>\n",
       "      <td>0</td>\n",
       "      <td>91074</td>\n",
       "      <td>2016-03-17 17:40:17</td>\n",
       "      <td>1</td>\n",
       "    </tr>\n",
       "    <tr>\n",
       "      <th>4</th>\n",
       "      <td>2016-03-31 17:25:20</td>\n",
       "      <td>3600</td>\n",
       "      <td>small</td>\n",
       "      <td>2008</td>\n",
       "      <td>manual</td>\n",
       "      <td>69</td>\n",
       "      <td>fabia</td>\n",
       "      <td>90000</td>\n",
       "      <td>7</td>\n",
       "      <td>gasoline</td>\n",
       "      <td>skoda</td>\n",
       "      <td>no</td>\n",
       "      <td>2016-03-31</td>\n",
       "      <td>0</td>\n",
       "      <td>60437</td>\n",
       "      <td>2016-04-06 10:17:21</td>\n",
       "      <td>6</td>\n",
       "    </tr>\n",
       "  </tbody>\n",
       "</table>\n",
       "</div>"
      ],
      "text/plain": [
       "           DateCrawled  Price VehicleType  RegistrationYear Gearbox  Power  \\\n",
       "0  2016-03-24 11:52:17    480     unknown              1993  manual      0   \n",
       "1  2016-03-24 10:58:45  18300       coupe              2011  manual    190   \n",
       "2  2016-03-14 12:52:21   9800         suv              2004    auto    163   \n",
       "3  2016-03-17 16:54:04   1500       small              2001  manual     75   \n",
       "4  2016-03-31 17:25:20   3600       small              2008  manual     69   \n",
       "\n",
       "   Model  Kilometer  RegistrationMonth  FuelType       Brand NotRepaired  \\\n",
       "0   golf     150000                  0    petrol  volkswagen     unknown   \n",
       "1  other     125000                  5  gasoline        audi         yes   \n",
       "2  grand     125000                  8  gasoline        jeep     unknown   \n",
       "3   golf     150000                  6    petrol  volkswagen          no   \n",
       "4  fabia      90000                  7  gasoline       skoda          no   \n",
       "\n",
       "  DateCreated  NumberOfPictures  PostalCode            LastSeen  days_active  \n",
       "0  2016-03-24                 0       70435 2016-04-07 03:16:57           14  \n",
       "1  2016-03-24                 0       66954 2016-04-07 01:46:50           14  \n",
       "2  2016-03-14                 0       90480 2016-04-05 12:47:46           22  \n",
       "3  2016-03-17                 0       91074 2016-03-17 17:40:17            1  \n",
       "4  2016-03-31                 0       60437 2016-04-06 10:17:21            6  "
      ]
     },
     "execution_count": 12,
     "metadata": {},
     "output_type": "execute_result"
    }
   ],
   "source": [
    "df['days_active'] = (df['LastSeen'] - df['DateCreated']).astype('timedelta64[D]').astype('int')\n",
    "df['days_active'] = df['days_active'].replace(0, 1)\n",
    "df.head()"
   ]
  },
  {
   "cell_type": "markdown",
   "metadata": {},
   "source": [
    "Добавим столбец \"месяц создания объявления\" для того, чтобы взять в расчёт возможную сезонность продаж авто, и посмотрим на получившиеся значения:"
   ]
  },
  {
   "cell_type": "code",
   "execution_count": 13,
   "metadata": {},
   "outputs": [],
   "source": [
    "df['month_created'] = pd.DatetimeIndex(df['DateCreated']).month"
   ]
  },
  {
   "cell_type": "code",
   "execution_count": 14,
   "metadata": {},
   "outputs": [
    {
     "data": {
      "text/plain": [
       "3     296759\n",
       "4      57119\n",
       "2        397\n",
       "1         70\n",
       "11         9\n",
       "12         9\n",
       "9          3\n",
       "8          2\n",
       "6          1\n",
       "Name: month_created, dtype: int64"
      ]
     },
     "execution_count": 14,
     "metadata": {},
     "output_type": "execute_result"
    }
   ],
   "source": [
    "df['month_created'].value_counts()"
   ]
  },
  {
   "cell_type": "code",
   "execution_count": 15,
   "metadata": {},
   "outputs": [
    {
     "data": {
      "image/png": "[encoded data removed]",
      "text/plain": [
       "<Figure size 432x288 with 1 Axes>"
      ]
     },
     "metadata": {
      "needs_background": "light"
     },
     "output_type": "display_data"
    }
   ],
   "source": [
    "df['month_created'].hist();"
   ]
  },
  {
   "cell_type": "markdown",
   "metadata": {},
   "source": [
    "Удивительно, но 84% объявлений было выложено в марте, и ещё 16% - в апреле. Связано ли это с тем, когда произошла загрузка данных?"
   ]
  },
  {
   "cell_type": "code",
   "execution_count": 16,
   "metadata": {},
   "outputs": [
    {
     "data": {
      "text/plain": [
       "3    296824\n",
       "4     57545\n",
       "Name: MonthCrawled, dtype: int64"
      ]
     },
     "execution_count": 16,
     "metadata": {},
     "output_type": "execute_result"
    }
   ],
   "source": [
    "df['MonthCrawled'] = pd.DatetimeIndex(df['DateCrawled']).month \n",
    "df['MonthCrawled'].value_counts()"
   ]
  },
  {
   "cell_type": "code",
   "execution_count": 17,
   "metadata": {},
   "outputs": [
    {
     "data": {
      "text/plain": [
       "2016    354343\n",
       "2015        25\n",
       "2014         1\n",
       "Name: YearCreated, dtype: int64"
      ]
     },
     "execution_count": 17,
     "metadata": {},
     "output_type": "execute_result"
    }
   ],
   "source": [
    "df['YearCreated'] = pd.DatetimeIndex(df['DateCreated']).year \n",
    "df['YearCreated'].value_counts()"
   ]
  },
  {
   "cell_type": "code",
   "execution_count": 18,
   "metadata": {},
   "outputs": [
    {
     "data": {
      "text/plain": [
       "4    200214\n",
       "3    154155\n",
       "Name: LastSeenMonth, dtype: int64"
      ]
     },
     "execution_count": 18,
     "metadata": {},
     "output_type": "execute_result"
    }
   ],
   "source": [
    "df['LastSeenMonth'] = pd.DatetimeIndex(df['LastSeen']).month \n",
    "df['LastSeenMonth'].value_counts()"
   ]
  },
  {
   "cell_type": "markdown",
   "metadata": {},
   "source": [
    "Да, связано: данные загрузили в апреле-мае 2016, таким образом в нашем датасете в основном содержатся объявления, созданные в апреле-мае того же года и незначительная часть тех, что были созданы раньше. Очевидно, что датасет содержит только те объявления, которые были активны на момент скачивания - данные в столбце \"Месяц последней активности пользователя\" почти полностью совпадает с месяцем скачивания объявления.\n",
    "\n",
    "Мы могли бы учитывать сезонность продаж, которая, в свою очередь, могла бы влиять на цену автомобиля, если бы в нашем распоряжении были данные о дате создания анкеты как активных, так и уже неактивных объявлений. Поскольку таких данных нет, с большой вероятностью данные о дате создания объявления не помогут нам в создании модели, предсказывающей цену.\n",
    "\n",
    "Удалим ненужные столбцы:"
   ]
  },
  {
   "cell_type": "code",
   "execution_count": 19,
   "metadata": {},
   "outputs": [
    {
     "name": "stdout",
     "output_type": "stream",
     "text": [
      "<class 'pandas.core.frame.DataFrame'>\n",
      "RangeIndex: 354369 entries, 0 to 354368\n",
      "Data columns (total 21 columns):\n",
      " #   Column             Non-Null Count   Dtype         \n",
      "---  ------             --------------   -----         \n",
      " 0   DateCrawled        354369 non-null  object        \n",
      " 1   Price              354369 non-null  int64         \n",
      " 2   VehicleType        354369 non-null  object        \n",
      " 3   RegistrationYear   354369 non-null  int64         \n",
      " 4   Gearbox            354369 non-null  object        \n",
      " 5   Power              354369 non-null  int64         \n",
      " 6   Model              354369 non-null  object        \n",
      " 7   Kilometer          354369 non-null  int64         \n",
      " 8   RegistrationMonth  354369 non-null  int64         \n",
      " 9   FuelType           354369 non-null  object        \n",
      " 10  Brand              354369 non-null  object        \n",
      " 11  NotRepaired        354369 non-null  object        \n",
      " 12  DateCreated        354369 non-null  datetime64[ns]\n",
      " 13  NumberOfPictures   354369 non-null  int64         \n",
      " 14  PostalCode         354369 non-null  int64         \n",
      " 15  LastSeen           354369 non-null  datetime64[ns]\n",
      " 16  days_active        354369 non-null  int32         \n",
      " 17  month_created      354369 non-null  int64         \n",
      " 18  MonthCrawled       354369 non-null  int64         \n",
      " 19  YearCreated        354369 non-null  int64         \n",
      " 20  LastSeenMonth      354369 non-null  int64         \n",
      "dtypes: datetime64[ns](2), int32(1), int64(11), object(7)\n",
      "memory usage: 55.4+ MB\n"
     ]
    }
   ],
   "source": [
    "df.info()"
   ]
  },
  {
   "cell_type": "code",
   "execution_count": 20,
   "metadata": {},
   "outputs": [
    {
     "data": {
      "text/html": [
       "<div>\n",
       "<style scoped>\n",
       "    .dataframe tbody tr th:only-of-type {\n",
       "        vertical-align: middle;\n",
       "    }\n",
       "\n",
       "    .dataframe tbody tr th {\n",
       "        vertical-align: top;\n",
       "    }\n",
       "\n",
       "    .dataframe thead th {\n",
       "        text-align: right;\n",
       "    }\n",
       "</style>\n",
       "<table border=\"1\" class=\"dataframe\">\n",
       "  <thead>\n",
       "    <tr style=\"text-align: right;\">\n",
       "      <th></th>\n",
       "      <th>Price</th>\n",
       "      <th>VehicleType</th>\n",
       "      <th>RegistrationYear</th>\n",
       "      <th>Gearbox</th>\n",
       "      <th>Power</th>\n",
       "      <th>Model</th>\n",
       "      <th>Kilometer</th>\n",
       "      <th>FuelType</th>\n",
       "      <th>Brand</th>\n",
       "      <th>NotRepaired</th>\n",
       "    </tr>\n",
       "  </thead>\n",
       "  <tbody>\n",
       "    <tr>\n",
       "      <th>0</th>\n",
       "      <td>480</td>\n",
       "      <td>unknown</td>\n",
       "      <td>1993</td>\n",
       "      <td>manual</td>\n",
       "      <td>0</td>\n",
       "      <td>golf</td>\n",
       "      <td>150000</td>\n",
       "      <td>petrol</td>\n",
       "      <td>volkswagen</td>\n",
       "      <td>unknown</td>\n",
       "    </tr>\n",
       "    <tr>\n",
       "      <th>1</th>\n",
       "      <td>18300</td>\n",
       "      <td>coupe</td>\n",
       "      <td>2011</td>\n",
       "      <td>manual</td>\n",
       "      <td>190</td>\n",
       "      <td>other</td>\n",
       "      <td>125000</td>\n",
       "      <td>gasoline</td>\n",
       "      <td>audi</td>\n",
       "      <td>yes</td>\n",
       "    </tr>\n",
       "    <tr>\n",
       "      <th>2</th>\n",
       "      <td>9800</td>\n",
       "      <td>suv</td>\n",
       "      <td>2004</td>\n",
       "      <td>auto</td>\n",
       "      <td>163</td>\n",
       "      <td>grand</td>\n",
       "      <td>125000</td>\n",
       "      <td>gasoline</td>\n",
       "      <td>jeep</td>\n",
       "      <td>unknown</td>\n",
       "    </tr>\n",
       "    <tr>\n",
       "      <th>3</th>\n",
       "      <td>1500</td>\n",
       "      <td>small</td>\n",
       "      <td>2001</td>\n",
       "      <td>manual</td>\n",
       "      <td>75</td>\n",
       "      <td>golf</td>\n",
       "      <td>150000</td>\n",
       "      <td>petrol</td>\n",
       "      <td>volkswagen</td>\n",
       "      <td>no</td>\n",
       "    </tr>\n",
       "    <tr>\n",
       "      <th>4</th>\n",
       "      <td>3600</td>\n",
       "      <td>small</td>\n",
       "      <td>2008</td>\n",
       "      <td>manual</td>\n",
       "      <td>69</td>\n",
       "      <td>fabia</td>\n",
       "      <td>90000</td>\n",
       "      <td>gasoline</td>\n",
       "      <td>skoda</td>\n",
       "      <td>no</td>\n",
       "    </tr>\n",
       "  </tbody>\n",
       "</table>\n",
       "</div>"
      ],
      "text/plain": [
       "   Price VehicleType  RegistrationYear Gearbox  Power  Model  Kilometer  \\\n",
       "0    480     unknown              1993  manual      0   golf     150000   \n",
       "1  18300       coupe              2011  manual    190  other     125000   \n",
       "2   9800         suv              2004    auto    163  grand     125000   \n",
       "3   1500       small              2001  manual     75   golf     150000   \n",
       "4   3600       small              2008  manual     69  fabia      90000   \n",
       "\n",
       "   FuelType       Brand NotRepaired  \n",
       "0    petrol  volkswagen     unknown  \n",
       "1  gasoline        audi         yes  \n",
       "2  gasoline        jeep     unknown  \n",
       "3    petrol  volkswagen          no  \n",
       "4  gasoline       skoda          no  "
      ]
     },
     "execution_count": 20,
     "metadata": {},
     "output_type": "execute_result"
    }
   ],
   "source": [
    "df = df.drop(['NumberOfPictures', 'DateCrawled', 'RegistrationMonth', 'PostalCode',\n",
    "              'LastSeen', 'DateCreated', 'days_active', 'month_created', 'MonthCrawled',\n",
    "              'YearCreated', 'LastSeenMonth'], axis = 1)\n",
    "df.head()"
   ]
  },
  {
   "cell_type": "markdown",
   "metadata": {},
   "source": [
    "Переименуем столбцы: уберём верхний регистр и добавим пробелы там, где необходимо:"
   ]
  },
  {
   "cell_type": "code",
   "execution_count": 21,
   "metadata": {},
   "outputs": [
    {
     "name": "stdout",
     "output_type": "stream",
     "text": [
      "<class 'pandas.core.frame.DataFrame'>\n",
      "RangeIndex: 354369 entries, 0 to 354368\n",
      "Data columns (total 10 columns):\n",
      " #   Column        Non-Null Count   Dtype \n",
      "---  ------        --------------   ----- \n",
      " 0   price         354369 non-null  int64 \n",
      " 1   vehicle_type  354369 non-null  object\n",
      " 2   reg_year      354369 non-null  int64 \n",
      " 3   gearbox       354369 non-null  object\n",
      " 4   power         354369 non-null  int64 \n",
      " 5   model         354369 non-null  object\n",
      " 6   kilometer     354369 non-null  int64 \n",
      " 7   fuel_type     354369 non-null  object\n",
      " 8   brand         354369 non-null  object\n",
      " 9   not_repaired  354369 non-null  object\n",
      "dtypes: int64(4), object(6)\n",
      "memory usage: 27.0+ MB\n"
     ]
    }
   ],
   "source": [
    "df.columns = df.columns.str.lower()\n",
    "df = df.rename(columns={\"vehicletype\": \"vehicle_type\",\n",
    "                        \"registrationyear\": \"reg_year\",\n",
    "                        \"fueltype\": \"fuel_type\",\n",
    "                        \"notrepaired\": \"not_repaired\"\n",
    "                       })\n",
    "df.info()"
   ]
  },
  {
   "cell_type": "markdown",
   "metadata": {},
   "source": [
    "Рассмотрим данные в графе \"мощность\":"
   ]
  },
  {
   "cell_type": "code",
   "execution_count": 22,
   "metadata": {},
   "outputs": [
    {
     "data": {
      "text/plain": [
       "0        40225\n",
       "75       24023\n",
       "60       15897\n",
       "150      14590\n",
       "101      13298\n",
       "         ...  \n",
       "323          1\n",
       "3454         1\n",
       "1056         1\n",
       "13636        1\n",
       "1158         1\n",
       "Name: power, Length: 712, dtype: int64"
      ]
     },
     "execution_count": 22,
     "metadata": {},
     "output_type": "execute_result"
    }
   ],
   "source": [
    "df['power'].value_counts()"
   ]
  },
  {
   "cell_type": "code",
   "execution_count": 23,
   "metadata": {},
   "outputs": [
    {
     "data": {
      "image/png": "[encoded data removed]",
      "text/plain": [
       "<Figure size 1080x504 with 1 Axes>"
      ]
     },
     "metadata": {
      "needs_background": "light"
     },
     "output_type": "display_data"
    }
   ],
   "source": [
    "df.plot(kind='hist', y='power', histtype='step', bins=2500, figsize=(15, 7), grid = True);"
   ]
  },
  {
   "cell_type": "code",
   "execution_count": 24,
   "metadata": {},
   "outputs": [
    {
     "data": {
      "image/png": "[encoded data removed]",
      "text/plain": [
       "<Figure size 432x288 with 1 Axes>"
      ]
     },
     "metadata": {
      "needs_background": "light"
     },
     "output_type": "display_data"
    }
   ],
   "source": [
    "df.boxplot(['power']);"
   ]
  },
  {
   "cell_type": "markdown",
   "metadata": {},
   "source": [
    "В столбце \"мощность\" много нулей, а так же содержатся выбросы - неправдоподобно большие значения мощности. Основываясь на открытых данных, определим верхнюю границу мощности на 650 л.с. Значения выше заменим на нули и будем заполнять как пропуски."
   ]
  },
  {
   "cell_type": "code",
   "execution_count": 25,
   "metadata": {},
   "outputs": [
    {
     "data": {
      "text/html": [
       "<div>\n",
       "<style scoped>\n",
       "    .dataframe tbody tr th:only-of-type {\n",
       "        vertical-align: middle;\n",
       "    }\n",
       "\n",
       "    .dataframe tbody tr th {\n",
       "        vertical-align: top;\n",
       "    }\n",
       "\n",
       "    .dataframe thead th {\n",
       "        text-align: right;\n",
       "    }\n",
       "</style>\n",
       "<table border=\"1\" class=\"dataframe\">\n",
       "  <thead>\n",
       "    <tr style=\"text-align: right;\">\n",
       "      <th></th>\n",
       "      <th>price</th>\n",
       "      <th>vehicle_type</th>\n",
       "      <th>reg_year</th>\n",
       "      <th>gearbox</th>\n",
       "      <th>power</th>\n",
       "      <th>model</th>\n",
       "      <th>kilometer</th>\n",
       "      <th>fuel_type</th>\n",
       "      <th>brand</th>\n",
       "      <th>not_repaired</th>\n",
       "    </tr>\n",
       "  </thead>\n",
       "  <tbody>\n",
       "    <tr>\n",
       "      <th>1816</th>\n",
       "      <td>3200</td>\n",
       "      <td>small</td>\n",
       "      <td>2004</td>\n",
       "      <td>manual</td>\n",
       "      <td>1398</td>\n",
       "      <td>corolla</td>\n",
       "      <td>5000</td>\n",
       "      <td>petrol</td>\n",
       "      <td>toyota</td>\n",
       "      <td>no</td>\n",
       "    </tr>\n",
       "    <tr>\n",
       "      <th>2102</th>\n",
       "      <td>0</td>\n",
       "      <td>sedan</td>\n",
       "      <td>1999</td>\n",
       "      <td>unknown</td>\n",
       "      <td>1799</td>\n",
       "      <td>vectra</td>\n",
       "      <td>150000</td>\n",
       "      <td>petrol</td>\n",
       "      <td>opel</td>\n",
       "      <td>yes</td>\n",
       "    </tr>\n",
       "    <tr>\n",
       "      <th>3746</th>\n",
       "      <td>0</td>\n",
       "      <td>unknown</td>\n",
       "      <td>2017</td>\n",
       "      <td>manual</td>\n",
       "      <td>750</td>\n",
       "      <td>other</td>\n",
       "      <td>150000</td>\n",
       "      <td>petrol</td>\n",
       "      <td>smart</td>\n",
       "      <td>no</td>\n",
       "    </tr>\n",
       "    <tr>\n",
       "      <th>4060</th>\n",
       "      <td>3100</td>\n",
       "      <td>sedan</td>\n",
       "      <td>2005</td>\n",
       "      <td>manual</td>\n",
       "      <td>953</td>\n",
       "      <td>colt</td>\n",
       "      <td>150000</td>\n",
       "      <td>gasoline</td>\n",
       "      <td>mitsubishi</td>\n",
       "      <td>no</td>\n",
       "    </tr>\n",
       "    <tr>\n",
       "      <th>5328</th>\n",
       "      <td>500</td>\n",
       "      <td>wagon</td>\n",
       "      <td>1999</td>\n",
       "      <td>manual</td>\n",
       "      <td>1001</td>\n",
       "      <td>astra</td>\n",
       "      <td>150000</td>\n",
       "      <td>petrol</td>\n",
       "      <td>opel</td>\n",
       "      <td>unknown</td>\n",
       "    </tr>\n",
       "    <tr>\n",
       "      <th>...</th>\n",
       "      <td>...</td>\n",
       "      <td>...</td>\n",
       "      <td>...</td>\n",
       "      <td>...</td>\n",
       "      <td>...</td>\n",
       "      <td>...</td>\n",
       "      <td>...</td>\n",
       "      <td>...</td>\n",
       "      <td>...</td>\n",
       "      <td>...</td>\n",
       "    </tr>\n",
       "    <tr>\n",
       "      <th>348883</th>\n",
       "      <td>7500</td>\n",
       "      <td>sedan</td>\n",
       "      <td>2011</td>\n",
       "      <td>manual</td>\n",
       "      <td>1548</td>\n",
       "      <td>scenic</td>\n",
       "      <td>90000</td>\n",
       "      <td>petrol</td>\n",
       "      <td>renault</td>\n",
       "      <td>unknown</td>\n",
       "    </tr>\n",
       "    <tr>\n",
       "      <th>348968</th>\n",
       "      <td>250</td>\n",
       "      <td>small</td>\n",
       "      <td>1999</td>\n",
       "      <td>manual</td>\n",
       "      <td>1241</td>\n",
       "      <td>ypsilon</td>\n",
       "      <td>150000</td>\n",
       "      <td>petrol</td>\n",
       "      <td>lancia</td>\n",
       "      <td>yes</td>\n",
       "    </tr>\n",
       "    <tr>\n",
       "      <th>351947</th>\n",
       "      <td>1500</td>\n",
       "      <td>bus</td>\n",
       "      <td>2001</td>\n",
       "      <td>manual</td>\n",
       "      <td>1001</td>\n",
       "      <td>zafira</td>\n",
       "      <td>5000</td>\n",
       "      <td>gasoline</td>\n",
       "      <td>opel</td>\n",
       "      <td>no</td>\n",
       "    </tr>\n",
       "    <tr>\n",
       "      <th>353493</th>\n",
       "      <td>12500</td>\n",
       "      <td>unknown</td>\n",
       "      <td>2017</td>\n",
       "      <td>manual</td>\n",
       "      <td>2000</td>\n",
       "      <td>other</td>\n",
       "      <td>60000</td>\n",
       "      <td>gasoline</td>\n",
       "      <td>chrysler</td>\n",
       "      <td>no</td>\n",
       "    </tr>\n",
       "    <tr>\n",
       "      <th>354260</th>\n",
       "      <td>399</td>\n",
       "      <td>other</td>\n",
       "      <td>1994</td>\n",
       "      <td>unknown</td>\n",
       "      <td>1103</td>\n",
       "      <td>3er</td>\n",
       "      <td>150000</td>\n",
       "      <td>unknown</td>\n",
       "      <td>bmw</td>\n",
       "      <td>unknown</td>\n",
       "    </tr>\n",
       "  </tbody>\n",
       "</table>\n",
       "<p>362 rows × 10 columns</p>\n",
       "</div>"
      ],
      "text/plain": [
       "        price vehicle_type  reg_year  gearbox  power    model  kilometer  \\\n",
       "1816     3200        small      2004   manual   1398  corolla       5000   \n",
       "2102        0        sedan      1999  unknown   1799   vectra     150000   \n",
       "3746        0      unknown      2017   manual    750    other     150000   \n",
       "4060     3100        sedan      2005   manual    953     colt     150000   \n",
       "5328      500        wagon      1999   manual   1001    astra     150000   \n",
       "...       ...          ...       ...      ...    ...      ...        ...   \n",
       "348883   7500        sedan      2011   manual   1548   scenic      90000   \n",
       "348968    250        small      1999   manual   1241  ypsilon     150000   \n",
       "351947   1500          bus      2001   manual   1001   zafira       5000   \n",
       "353493  12500      unknown      2017   manual   2000    other      60000   \n",
       "354260    399        other      1994  unknown   1103      3er     150000   \n",
       "\n",
       "       fuel_type       brand not_repaired  \n",
       "1816      petrol      toyota           no  \n",
       "2102      petrol        opel          yes  \n",
       "3746      petrol       smart           no  \n",
       "4060    gasoline  mitsubishi           no  \n",
       "5328      petrol        opel      unknown  \n",
       "...          ...         ...          ...  \n",
       "348883    petrol     renault      unknown  \n",
       "348968    petrol      lancia          yes  \n",
       "351947  gasoline        opel           no  \n",
       "353493  gasoline    chrysler           no  \n",
       "354260   unknown         bmw      unknown  \n",
       "\n",
       "[362 rows x 10 columns]"
      ]
     },
     "execution_count": 25,
     "metadata": {},
     "output_type": "execute_result"
    }
   ],
   "source": [
    "df[df['power'] > 650]"
   ]
  },
  {
   "cell_type": "code",
   "execution_count": 26,
   "metadata": {},
   "outputs": [
    {
     "data": {
      "text/plain": [
       "0      40587\n",
       "75     24023\n",
       "60     15897\n",
       "150    14590\n",
       "101    13298\n",
       "       ...  \n",
       "337        1\n",
       "339        1\n",
       "459        1\n",
       "489        1\n",
       "612        1\n",
       "Name: power, Length: 453, dtype: int64"
      ]
     },
     "execution_count": 26,
     "metadata": {},
     "output_type": "execute_result"
    }
   ],
   "source": [
    "for i in range(len(df)):\n",
    "    if df.loc[i, 'power'] > 650:\n",
    "        df.loc[i, 'power'] = 0\n",
    "        \n",
    "df['power'].value_counts()"
   ]
  },
  {
   "cell_type": "markdown",
   "metadata": {},
   "source": [
    "Будем исходить из того, что автомобили одного бренда, модели и типа кузова укомплектованы примерно одинаковыми по мощности двигателями. Создадим сводную таблицу, в которой отобразим среднее значение мощности исходя из указанных характеристик автомобиля. Сохраним эту таблицу в двух вариантах - с мультииндексом и без него."
   ]
  },
  {
   "cell_type": "code",
   "execution_count": 27,
   "metadata": {},
   "outputs": [
    {
     "data": {
      "text/html": [
       "<div>\n",
       "<style scoped>\n",
       "    .dataframe tbody tr th:only-of-type {\n",
       "        vertical-align: middle;\n",
       "    }\n",
       "\n",
       "    .dataframe tbody tr th {\n",
       "        vertical-align: top;\n",
       "    }\n",
       "\n",
       "    .dataframe thead th {\n",
       "        text-align: right;\n",
       "    }\n",
       "</style>\n",
       "<table border=\"1\" class=\"dataframe\">\n",
       "  <thead>\n",
       "    <tr style=\"text-align: right;\">\n",
       "      <th></th>\n",
       "      <th></th>\n",
       "      <th></th>\n",
       "      <th>power</th>\n",
       "    </tr>\n",
       "    <tr>\n",
       "      <th>brand</th>\n",
       "      <th>model</th>\n",
       "      <th>vehicle_type</th>\n",
       "      <th></th>\n",
       "    </tr>\n",
       "  </thead>\n",
       "  <tbody>\n",
       "    <tr>\n",
       "      <th rowspan=\"5\" valign=\"top\">alfa_romeo</th>\n",
       "      <th rowspan=\"5\" valign=\"top\">145</th>\n",
       "      <th>coupe</th>\n",
       "      <td>103.000000</td>\n",
       "    </tr>\n",
       "    <tr>\n",
       "      <th>other</th>\n",
       "      <td>100.000000</td>\n",
       "    </tr>\n",
       "    <tr>\n",
       "      <th>sedan</th>\n",
       "      <td>120.916667</td>\n",
       "    </tr>\n",
       "    <tr>\n",
       "      <th>small</th>\n",
       "      <td>108.888889</td>\n",
       "    </tr>\n",
       "    <tr>\n",
       "      <th>unknown</th>\n",
       "      <td>103.833333</td>\n",
       "    </tr>\n",
       "    <tr>\n",
       "      <th>...</th>\n",
       "      <th>...</th>\n",
       "      <th>...</th>\n",
       "      <td>...</td>\n",
       "    </tr>\n",
       "    <tr>\n",
       "      <th rowspan=\"5\" valign=\"top\">volvo</th>\n",
       "      <th>v70</th>\n",
       "      <th>wagon</th>\n",
       "      <td>168.274783</td>\n",
       "    </tr>\n",
       "    <tr>\n",
       "      <th rowspan=\"4\" valign=\"top\">xc_reihe</th>\n",
       "      <th>sedan</th>\n",
       "      <td>160.000000</td>\n",
       "    </tr>\n",
       "    <tr>\n",
       "      <th>suv</th>\n",
       "      <td>187.677725</td>\n",
       "    </tr>\n",
       "    <tr>\n",
       "      <th>unknown</th>\n",
       "      <td>175.600000</td>\n",
       "    </tr>\n",
       "    <tr>\n",
       "      <th>wagon</th>\n",
       "      <td>182.487805</td>\n",
       "    </tr>\n",
       "  </tbody>\n",
       "</table>\n",
       "<p>1649 rows × 1 columns</p>\n",
       "</div>"
      ],
      "text/plain": [
       "                                       power\n",
       "brand      model    vehicle_type            \n",
       "alfa_romeo 145      coupe         103.000000\n",
       "                    other         100.000000\n",
       "                    sedan         120.916667\n",
       "                    small         108.888889\n",
       "                    unknown       103.833333\n",
       "...                                      ...\n",
       "volvo      v70      wagon         168.274783\n",
       "           xc_reihe sedan         160.000000\n",
       "                    suv           187.677725\n",
       "                    unknown       175.600000\n",
       "                    wagon         182.487805\n",
       "\n",
       "[1649 rows x 1 columns]"
      ]
     },
     "execution_count": 27,
     "metadata": {},
     "output_type": "execute_result"
    }
   ],
   "source": [
    "mean_powers = df.query('power > 10').pivot_table(index=['brand','model','vehicle_type'],values='power',aggfunc='mean')\n",
    "mean_powers_reseted = mean_powers.reset_index()\n",
    "mean_powers"
   ]
  },
  {
   "cell_type": "markdown",
   "metadata": {},
   "source": [
    "Проверим, не потеряли ли мы данные: сравним количество уникальных значений в сводной таблице и в исходной:"
   ]
  },
  {
   "cell_type": "code",
   "execution_count": 28,
   "metadata": {},
   "outputs": [
    {
     "name": "stdout",
     "output_type": "stream",
     "text": [
      "40 40\n",
      "249 250\n",
      "9 9\n"
     ]
    }
   ],
   "source": [
    "print(len(mean_powers_reseted['brand'].unique()),len(df['brand'].unique()))\n",
    "print(len(mean_powers_reseted['model'].unique()),len(df['model'].unique()))\n",
    "print(len(mean_powers_reseted['vehicle_type'].unique()),len(df['vehicle_type'].unique()))"
   ]
  },
  {
   "cell_type": "markdown",
   "metadata": {},
   "source": [
    "Отыщем потерявшуюся модель:"
   ]
  },
  {
   "cell_type": "code",
   "execution_count": 29,
   "metadata": {},
   "outputs": [
    {
     "name": "stdout",
     "output_type": "stream",
     "text": [
      "234296    serie_1\n",
      "280216    serie_1\n",
      "Name: model, dtype: object\n"
     ]
    }
   ],
   "source": [
    "full_models = df['model']\n",
    "powered_models = mean_powers_reseted['model']\n",
    "missing = df.query('model not in @powered_models')\n",
    "print(missing['model'])"
   ]
  },
  {
   "cell_type": "markdown",
   "metadata": {},
   "source": [
    "Мы потеряли Land Rover Serie 1 - таких объявлений всего два. Опираясь на открытые источники, выясняем, что мощность двигателя этих автомобилей примерно равна 50 л.с. - заполним вручную."
   ]
  },
  {
   "cell_type": "code",
   "execution_count": 30,
   "metadata": {},
   "outputs": [],
   "source": [
    "df.loc[234296, 'power'] = 50\n",
    "df.loc[280216, 'power'] = 50"
   ]
  },
  {
   "cell_type": "markdown",
   "metadata": {},
   "source": [
    "Напишем функцию, заменяющую неправдоподобно низкие значения мощности двигателя (меньше 11 л.с. включая 0) средним значением мощности для автомобилей того же бренда, модели и типа кузова:"
   ]
  },
  {
   "cell_type": "code",
   "execution_count": 31,
   "metadata": {},
   "outputs": [],
   "source": [
    "def power(row):\n",
    "    power = row['power'] \n",
    "    brand = row['brand']\n",
    "    model = row['model']\n",
    "    vehicle_type = row['vehicle_type']\n",
    "    new_power = power\n",
    "    if power < 11:\n",
    "        try:\n",
    "            new_power = mean_powers.loc[(brand, model, vehicle_type)].iloc[0]\n",
    "        except:\n",
    "            new_power = 0\n",
    "    return new_power\n",
    " \n",
    "df['power'] = df.apply(power, axis = 1)"
   ]
  },
  {
   "cell_type": "code",
   "execution_count": 32,
   "metadata": {},
   "outputs": [
    {
     "data": {
      "text/plain": [
       "75.000000     24040\n",
       "60.000000     15903\n",
       "150.000000    14611\n",
       "101.000000    13302\n",
       "140.000000    12855\n",
       "              ...  \n",
       "67.222222         1\n",
       "97.500000         1\n",
       "99.600000         1\n",
       "157.800000        1\n",
       "442.000000        1\n",
       "Name: power, Length: 1494, dtype: int64"
      ]
     },
     "execution_count": 32,
     "metadata": {},
     "output_type": "execute_result"
    }
   ],
   "source": [
    "df['power'].value_counts()"
   ]
  },
  {
   "cell_type": "code",
   "execution_count": 33,
   "metadata": {},
   "outputs": [
    {
     "data": {
      "text/html": [
       "<div>\n",
       "<style scoped>\n",
       "    .dataframe tbody tr th:only-of-type {\n",
       "        vertical-align: middle;\n",
       "    }\n",
       "\n",
       "    .dataframe tbody tr th {\n",
       "        vertical-align: top;\n",
       "    }\n",
       "\n",
       "    .dataframe thead th {\n",
       "        text-align: right;\n",
       "    }\n",
       "</style>\n",
       "<table border=\"1\" class=\"dataframe\">\n",
       "  <thead>\n",
       "    <tr style=\"text-align: right;\">\n",
       "      <th></th>\n",
       "      <th>price</th>\n",
       "      <th>vehicle_type</th>\n",
       "      <th>reg_year</th>\n",
       "      <th>gearbox</th>\n",
       "      <th>power</th>\n",
       "      <th>model</th>\n",
       "      <th>kilometer</th>\n",
       "      <th>fuel_type</th>\n",
       "      <th>brand</th>\n",
       "      <th>not_repaired</th>\n",
       "    </tr>\n",
       "  </thead>\n",
       "  <tbody>\n",
       "    <tr>\n",
       "      <th>193</th>\n",
       "      <td>1200</td>\n",
       "      <td>coupe</td>\n",
       "      <td>1990</td>\n",
       "      <td>manual</td>\n",
       "      <td>45.0</td>\n",
       "      <td>other</td>\n",
       "      <td>150000</td>\n",
       "      <td>petrol</td>\n",
       "      <td>volkswagen</td>\n",
       "      <td>unknown</td>\n",
       "    </tr>\n",
       "    <tr>\n",
       "      <th>208</th>\n",
       "      <td>2250</td>\n",
       "      <td>small</td>\n",
       "      <td>2001</td>\n",
       "      <td>unknown</td>\n",
       "      <td>41.0</td>\n",
       "      <td>fortwo</td>\n",
       "      <td>150000</td>\n",
       "      <td>gasoline</td>\n",
       "      <td>smart</td>\n",
       "      <td>no</td>\n",
       "    </tr>\n",
       "    <tr>\n",
       "      <th>212</th>\n",
       "      <td>1200</td>\n",
       "      <td>small</td>\n",
       "      <td>2002</td>\n",
       "      <td>manual</td>\n",
       "      <td>45.0</td>\n",
       "      <td>lupo</td>\n",
       "      <td>150000</td>\n",
       "      <td>petrol</td>\n",
       "      <td>volkswagen</td>\n",
       "      <td>no</td>\n",
       "    </tr>\n",
       "    <tr>\n",
       "      <th>232</th>\n",
       "      <td>1000</td>\n",
       "      <td>suv</td>\n",
       "      <td>1982</td>\n",
       "      <td>manual</td>\n",
       "      <td>41.0</td>\n",
       "      <td>other</td>\n",
       "      <td>150000</td>\n",
       "      <td>petrol</td>\n",
       "      <td>suzuki</td>\n",
       "      <td>unknown</td>\n",
       "    </tr>\n",
       "    <tr>\n",
       "      <th>322</th>\n",
       "      <td>3300</td>\n",
       "      <td>small</td>\n",
       "      <td>2006</td>\n",
       "      <td>auto</td>\n",
       "      <td>41.0</td>\n",
       "      <td>fortwo</td>\n",
       "      <td>125000</td>\n",
       "      <td>gasoline</td>\n",
       "      <td>smart</td>\n",
       "      <td>no</td>\n",
       "    </tr>\n",
       "    <tr>\n",
       "      <th>...</th>\n",
       "      <td>...</td>\n",
       "      <td>...</td>\n",
       "      <td>...</td>\n",
       "      <td>...</td>\n",
       "      <td>...</td>\n",
       "      <td>...</td>\n",
       "      <td>...</td>\n",
       "      <td>...</td>\n",
       "      <td>...</td>\n",
       "      <td>...</td>\n",
       "    </tr>\n",
       "    <tr>\n",
       "      <th>354175</th>\n",
       "      <td>0</td>\n",
       "      <td>unknown</td>\n",
       "      <td>1995</td>\n",
       "      <td>manual</td>\n",
       "      <td>45.0</td>\n",
       "      <td>polo</td>\n",
       "      <td>150000</td>\n",
       "      <td>petrol</td>\n",
       "      <td>volkswagen</td>\n",
       "      <td>unknown</td>\n",
       "    </tr>\n",
       "    <tr>\n",
       "      <th>354223</th>\n",
       "      <td>200</td>\n",
       "      <td>small</td>\n",
       "      <td>1991</td>\n",
       "      <td>manual</td>\n",
       "      <td>45.0</td>\n",
       "      <td>polo</td>\n",
       "      <td>150000</td>\n",
       "      <td>petrol</td>\n",
       "      <td>volkswagen</td>\n",
       "      <td>yes</td>\n",
       "    </tr>\n",
       "    <tr>\n",
       "      <th>354266</th>\n",
       "      <td>399</td>\n",
       "      <td>small</td>\n",
       "      <td>1992</td>\n",
       "      <td>manual</td>\n",
       "      <td>45.0</td>\n",
       "      <td>polo</td>\n",
       "      <td>150000</td>\n",
       "      <td>petrol</td>\n",
       "      <td>volkswagen</td>\n",
       "      <td>unknown</td>\n",
       "    </tr>\n",
       "    <tr>\n",
       "      <th>354277</th>\n",
       "      <td>0</td>\n",
       "      <td>small</td>\n",
       "      <td>1999</td>\n",
       "      <td>manual</td>\n",
       "      <td>37.0</td>\n",
       "      <td>arosa</td>\n",
       "      <td>150000</td>\n",
       "      <td>petrol</td>\n",
       "      <td>seat</td>\n",
       "      <td>yes</td>\n",
       "    </tr>\n",
       "    <tr>\n",
       "      <th>354316</th>\n",
       "      <td>3300</td>\n",
       "      <td>coupe</td>\n",
       "      <td>1957</td>\n",
       "      <td>manual</td>\n",
       "      <td>40.0</td>\n",
       "      <td>other</td>\n",
       "      <td>100000</td>\n",
       "      <td>petrol</td>\n",
       "      <td>trabant</td>\n",
       "      <td>no</td>\n",
       "    </tr>\n",
       "  </tbody>\n",
       "</table>\n",
       "<p>6238 rows × 10 columns</p>\n",
       "</div>"
      ],
      "text/plain": [
       "        price vehicle_type  reg_year  gearbox  power   model  kilometer  \\\n",
       "193      1200        coupe      1990   manual   45.0   other     150000   \n",
       "208      2250        small      2001  unknown   41.0  fortwo     150000   \n",
       "212      1200        small      2002   manual   45.0    lupo     150000   \n",
       "232      1000          suv      1982   manual   41.0   other     150000   \n",
       "322      3300        small      2006     auto   41.0  fortwo     125000   \n",
       "...       ...          ...       ...      ...    ...     ...        ...   \n",
       "354175      0      unknown      1995   manual   45.0    polo     150000   \n",
       "354223    200        small      1991   manual   45.0    polo     150000   \n",
       "354266    399        small      1992   manual   45.0    polo     150000   \n",
       "354277      0        small      1999   manual   37.0   arosa     150000   \n",
       "354316   3300        coupe      1957   manual   40.0   other     100000   \n",
       "\n",
       "       fuel_type       brand not_repaired  \n",
       "193       petrol  volkswagen      unknown  \n",
       "208     gasoline       smart           no  \n",
       "212       petrol  volkswagen           no  \n",
       "232       petrol      suzuki      unknown  \n",
       "322     gasoline       smart           no  \n",
       "...          ...         ...          ...  \n",
       "354175    petrol  volkswagen      unknown  \n",
       "354223    petrol  volkswagen          yes  \n",
       "354266    petrol  volkswagen      unknown  \n",
       "354277    petrol        seat          yes  \n",
       "354316    petrol     trabant           no  \n",
       "\n",
       "[6238 rows x 10 columns]"
      ]
     },
     "execution_count": 33,
     "metadata": {},
     "output_type": "execute_result"
    }
   ],
   "source": [
    "df[df['power']<50]"
   ]
  },
  {
   "cell_type": "markdown",
   "metadata": {},
   "source": [
    "После всех преобразований в нашем датасете осталось около 6 тысяч объявлений со значением мощности ниже 50 л.с. Такие данные не актуальны для нашего исследования, удалим их и посмотрим на распределение значений мощности в датасете после проведённой работы:"
   ]
  },
  {
   "cell_type": "code",
   "execution_count": 34,
   "metadata": {},
   "outputs": [],
   "source": [
    "df.drop(df[df['power']<50].index, inplace=True)"
   ]
  },
  {
   "cell_type": "code",
   "execution_count": 35,
   "metadata": {},
   "outputs": [
    {
     "data": {
      "image/png": "[encoded data removed]",
      "text/plain": [
       "<Figure size 432x288 with 1 Axes>"
      ]
     },
     "metadata": {
      "needs_background": "light"
     },
     "output_type": "display_data"
    }
   ],
   "source": [
    "df.plot(kind='hist', y='power', bins=30, grid = True, title='Распределение значений мощности двигателя');"
   ]
  },
  {
   "cell_type": "markdown",
   "metadata": {},
   "source": [
    "Посмотрим на уникальные значения в столбце Год регистрации:"
   ]
  },
  {
   "cell_type": "code",
   "execution_count": 36,
   "metadata": {
    "scrolled": true
   },
   "outputs": [
    {
     "data": {
      "text/plain": [
       "[1000,\n",
       " 1001,\n",
       " 1039,\n",
       " 1111,\n",
       " 1200,\n",
       " 1234,\n",
       " 1253,\n",
       " 1255,\n",
       " 1300,\n",
       " 1400,\n",
       " 1500,\n",
       " 1600,\n",
       " 1602,\n",
       " 1688,\n",
       " 1800,\n",
       " 1910,\n",
       " 1915,\n",
       " 1919,\n",
       " 1920,\n",
       " 1923,\n",
       " 1925,\n",
       " 1928,\n",
       " 1929,\n",
       " 1930,\n",
       " 1932,\n",
       " 1933,\n",
       " 1934,\n",
       " 1935,\n",
       " 1936,\n",
       " 1937,\n",
       " 1938,\n",
       " 1940,\n",
       " 1941,\n",
       " 1942,\n",
       " 1943,\n",
       " 1944,\n",
       " 1945,\n",
       " 1946,\n",
       " 1947,\n",
       " 1948,\n",
       " 1949,\n",
       " 1950,\n",
       " 1951,\n",
       " 1952,\n",
       " 1953,\n",
       " 1954,\n",
       " 1955,\n",
       " 1956,\n",
       " 1957,\n",
       " 1958,\n",
       " 1959,\n",
       " 1960,\n",
       " 1961,\n",
       " 1962,\n",
       " 1963,\n",
       " 1964,\n",
       " 1965,\n",
       " 1966,\n",
       " 1967,\n",
       " 1968,\n",
       " 1969,\n",
       " 1970,\n",
       " 1971,\n",
       " 1972,\n",
       " 1973,\n",
       " 1974,\n",
       " 1975,\n",
       " 1976,\n",
       " 1977,\n",
       " 1978,\n",
       " 1979,\n",
       " 1980,\n",
       " 1981,\n",
       " 1982,\n",
       " 1983,\n",
       " 1984,\n",
       " 1985,\n",
       " 1986,\n",
       " 1987,\n",
       " 1988,\n",
       " 1989,\n",
       " 1990,\n",
       " 1991,\n",
       " 1992,\n",
       " 1993,\n",
       " 1994,\n",
       " 1995,\n",
       " 1996,\n",
       " 1997,\n",
       " 1998,\n",
       " 1999,\n",
       " 2000,\n",
       " 2001,\n",
       " 2002,\n",
       " 2003,\n",
       " 2004,\n",
       " 2005,\n",
       " 2006,\n",
       " 2007,\n",
       " 2008,\n",
       " 2009,\n",
       " 2010,\n",
       " 2011,\n",
       " 2012,\n",
       " 2013,\n",
       " 2014,\n",
       " 2015,\n",
       " 2016,\n",
       " 2017,\n",
       " 2018,\n",
       " 2019,\n",
       " 2066,\n",
       " 2200,\n",
       " 2222,\n",
       " 2290,\n",
       " 2500,\n",
       " 2800,\n",
       " 2900,\n",
       " 3000,\n",
       " 3200,\n",
       " 3500,\n",
       " 3700,\n",
       " 3800,\n",
       " 4000,\n",
       " 4100,\n",
       " 4500,\n",
       " 4800,\n",
       " 5000,\n",
       " 5300,\n",
       " 5555,\n",
       " 5600,\n",
       " 5900,\n",
       " 5911,\n",
       " 6000,\n",
       " 6500,\n",
       " 7000,\n",
       " 7100,\n",
       " 7500,\n",
       " 7800,\n",
       " 8000,\n",
       " 8200,\n",
       " 8455,\n",
       " 8500,\n",
       " 8888,\n",
       " 9000,\n",
       " 9229,\n",
       " 9450,\n",
       " 9996,\n",
       " 9999]"
      ]
     },
     "execution_count": 36,
     "metadata": {},
     "output_type": "execute_result"
    }
   ],
   "source": [
    "sorted(df['reg_year'].unique())"
   ]
  },
  {
   "cell_type": "markdown",
   "metadata": {},
   "source": [
    "Сомнения вызывают объявления со значением года регистрации меньше 1910 и больше 2019, это аномалии. Для исследования нам так же не нужны данные старше 50 лет, будем обучать модель на актуальных данных."
   ]
  },
  {
   "cell_type": "code",
   "execution_count": 37,
   "metadata": {},
   "outputs": [
    {
     "data": {
      "text/plain": [
       "-1149"
      ]
     },
     "execution_count": 37,
     "metadata": {},
     "output_type": "execute_result"
    }
   ],
   "source": [
    "len(df[(df['reg_year']>1969)&(df['reg_year']<2019)]) - len(df)"
   ]
  },
  {
   "cell_type": "code",
   "execution_count": 38,
   "metadata": {},
   "outputs": [],
   "source": [
    "df.drop(df[(df['reg_year']<1969)].index, inplace=True)\n",
    "df.drop(df[(df['reg_year']>2019)].index, inplace=True)"
   ]
  },
  {
   "cell_type": "code",
   "execution_count": 39,
   "metadata": {},
   "outputs": [
    {
     "data": {
      "text/plain": [
       "array([1993, 2011, 2004, 2001, 2008, 1995, 1980, 2014, 1998, 2005, 2016,\n",
       "       2007, 2009, 2002, 2018, 1997, 1990, 2017, 1981, 2003, 1994, 1991,\n",
       "       1984, 2006, 1999, 2012, 2010, 2000, 1992, 2013, 1996, 1985, 1989,\n",
       "       2015, 1976, 1983, 1969, 1971, 1987, 1973, 1982, 1988, 1986, 1974,\n",
       "       1979, 1970, 1978, 1972, 1977, 1975, 2019], dtype=int64)"
      ]
     },
     "execution_count": 39,
     "metadata": {},
     "output_type": "execute_result"
    }
   ],
   "source": [
    "df.reset_index(drop=True)\n",
    "df['reg_year'].unique()"
   ]
  },
  {
   "cell_type": "code",
   "execution_count": 40,
   "metadata": {},
   "outputs": [
    {
     "data": {
      "text/plain": [
       "array([150000, 125000,  90000,  40000,  30000,  70000, 100000,  60000,\n",
       "         5000,  20000,  80000,  50000,  10000], dtype=int64)"
      ]
     },
     "execution_count": 40,
     "metadata": {},
     "output_type": "execute_result"
    }
   ],
   "source": [
    "df['kilometer'].unique()"
   ]
  },
  {
   "cell_type": "markdown",
   "metadata": {},
   "source": [
    "Рассмотрим распределение в столбце Цена:"
   ]
  },
  {
   "cell_type": "code",
   "execution_count": 41,
   "metadata": {},
   "outputs": [
    {
     "data": {
      "text/plain": [
       "0       10318\n",
       "500      5397\n",
       "1500     5295\n",
       "1000     4544\n",
       "1200     4519\n",
       "        ...  \n",
       "2683        1\n",
       "634         1\n",
       "378         1\n",
       "1401        1\n",
       "8188        1\n",
       "Name: price, Length: 3717, dtype: int64"
      ]
     },
     "execution_count": 41,
     "metadata": {},
     "output_type": "execute_result"
    }
   ],
   "source": [
    "df['price'].value_counts()"
   ]
  },
  {
   "cell_type": "code",
   "execution_count": 42,
   "metadata": {},
   "outputs": [
    {
     "data": {
      "image/png": "[encoded data removed]",
      "text/plain": [
       "<Figure size 432x288 with 1 Axes>"
      ]
     },
     "metadata": {
      "needs_background": "light"
     },
     "output_type": "display_data"
    }
   ],
   "source": [
    "df[df['price'] > 0].boxplot(['price']);"
   ]
  },
  {
   "cell_type": "markdown",
   "metadata": {},
   "source": [
    "Столбец содержит большое количество нулей и выбросов, но поскольку этот параметр является таргетом в нашей выборке, никаких модификаций с ним мы проводить не будем."
   ]
  },
  {
   "cell_type": "markdown",
   "metadata": {},
   "source": [
    "Предобработка завершена. Посмотрим на наши данные:"
   ]
  },
  {
   "cell_type": "code",
   "execution_count": 43,
   "metadata": {},
   "outputs": [
    {
     "data": {
      "text/html": [
       "<div>\n",
       "<style scoped>\n",
       "    .dataframe tbody tr th:only-of-type {\n",
       "        vertical-align: middle;\n",
       "    }\n",
       "\n",
       "    .dataframe tbody tr th {\n",
       "        vertical-align: top;\n",
       "    }\n",
       "\n",
       "    .dataframe thead th {\n",
       "        text-align: right;\n",
       "    }\n",
       "</style>\n",
       "<table border=\"1\" class=\"dataframe\">\n",
       "  <thead>\n",
       "    <tr style=\"text-align: right;\">\n",
       "      <th></th>\n",
       "      <th>price</th>\n",
       "      <th>reg_year</th>\n",
       "      <th>power</th>\n",
       "      <th>kilometer</th>\n",
       "    </tr>\n",
       "  </thead>\n",
       "  <tbody>\n",
       "    <tr>\n",
       "      <th>count</th>\n",
       "      <td>347103.000000</td>\n",
       "      <td>347103.000000</td>\n",
       "      <td>347103.000000</td>\n",
       "      <td>347103.000000</td>\n",
       "    </tr>\n",
       "    <tr>\n",
       "      <th>mean</th>\n",
       "      <td>4458.555204</td>\n",
       "      <td>2003.356367</td>\n",
       "      <td>120.489791</td>\n",
       "      <td>128625.119921</td>\n",
       "    </tr>\n",
       "    <tr>\n",
       "      <th>std</th>\n",
       "      <td>4518.349390</td>\n",
       "      <td>6.871467</td>\n",
       "      <td>52.079598</td>\n",
       "      <td>37457.693092</td>\n",
       "    </tr>\n",
       "    <tr>\n",
       "      <th>min</th>\n",
       "      <td>0.000000</td>\n",
       "      <td>1969.000000</td>\n",
       "      <td>50.000000</td>\n",
       "      <td>5000.000000</td>\n",
       "    </tr>\n",
       "    <tr>\n",
       "      <th>25%</th>\n",
       "      <td>1100.000000</td>\n",
       "      <td>1999.000000</td>\n",
       "      <td>80.000000</td>\n",
       "      <td>125000.000000</td>\n",
       "    </tr>\n",
       "    <tr>\n",
       "      <th>50%</th>\n",
       "      <td>2799.000000</td>\n",
       "      <td>2003.000000</td>\n",
       "      <td>110.007143</td>\n",
       "      <td>150000.000000</td>\n",
       "    </tr>\n",
       "    <tr>\n",
       "      <th>75%</th>\n",
       "      <td>6499.000000</td>\n",
       "      <td>2008.000000</td>\n",
       "      <td>147.000000</td>\n",
       "      <td>150000.000000</td>\n",
       "    </tr>\n",
       "    <tr>\n",
       "      <th>max</th>\n",
       "      <td>20000.000000</td>\n",
       "      <td>2019.000000</td>\n",
       "      <td>650.000000</td>\n",
       "      <td>150000.000000</td>\n",
       "    </tr>\n",
       "  </tbody>\n",
       "</table>\n",
       "</div>"
      ],
      "text/plain": [
       "               price       reg_year          power      kilometer\n",
       "count  347103.000000  347103.000000  347103.000000  347103.000000\n",
       "mean     4458.555204    2003.356367     120.489791  128625.119921\n",
       "std      4518.349390       6.871467      52.079598   37457.693092\n",
       "min         0.000000    1969.000000      50.000000    5000.000000\n",
       "25%      1100.000000    1999.000000      80.000000  125000.000000\n",
       "50%      2799.000000    2003.000000     110.007143  150000.000000\n",
       "75%      6499.000000    2008.000000     147.000000  150000.000000\n",
       "max     20000.000000    2019.000000     650.000000  150000.000000"
      ]
     },
     "execution_count": 43,
     "metadata": {},
     "output_type": "execute_result"
    }
   ],
   "source": [
    "df.describe()"
   ]
  },
  {
   "cell_type": "markdown",
   "metadata": {},
   "source": [
    "Всё выглядит красиво и логично. Построим матрицу корреляции и посмотрим, есть ли зависимость между признаками:"
   ]
  },
  {
   "cell_type": "code",
   "execution_count": 44,
   "metadata": {},
   "outputs": [
    {
     "data": {
      "image/png": "[encoded data removed]",
      "text/plain": [
       "<Figure size 432x288 with 2 Axes>"
      ]
     },
     "metadata": {
      "needs_background": "light"
     },
     "output_type": "display_data"
    }
   ],
   "source": [
    "sns.heatmap(df.corr(), annot=True, fmt='.3f', cmap=sns.color_palette(\"mako\", as_cmap=True))\n",
    "plt.title(\"График корреляции\");"
   ]
  },
  {
   "cell_type": "markdown",
   "metadata": {},
   "source": [
    "Видим достаточно сильную прямую зависимость между ценой и мощностью двигателя и чуть менее выраженную между ценой и годом регистрации авто. Всё логично: чем новее автомобиль, тем выше его цена, и, как правило, автомобили с более мощным двигателем стоят дороже. Видим и обратную зависимость - между ценой и пробегом автомобиля, что тоже понятно: автомобили с меньшим пробегом будут стоить дороже."
   ]
  },
  {
   "cell_type": "markdown",
   "metadata": {},
   "source": [
    "## Обучение моделей"
   ]
  },
  {
   "cell_type": "markdown",
   "metadata": {},
   "source": [
    "Разделим выборку на обучающую и тестовую:"
   ]
  },
  {
   "cell_type": "code",
   "execution_count": 45,
   "metadata": {},
   "outputs": [
    {
     "name": "stdout",
     "output_type": "stream",
     "text": [
      "(260327, 9)\n",
      "(260327,)\n",
      "(86776, 9)\n",
      "(86776,)\n"
     ]
    }
   ],
   "source": [
    "features = df.drop('price', axis = 1)\n",
    "target = df['price']\n",
    "\n",
    "features_train, features_test, target_train, target_test = train_test_split(\n",
    "        features, target, test_size = 0.25, random_state = 12345)\n",
    "\n",
    "print(features_train.shape)\n",
    "print(target_train.shape)\n",
    "print(features_test.shape)\n",
    "print(target_test.shape)"
   ]
  },
  {
   "cell_type": "markdown",
   "metadata": {},
   "source": [
    "Проверим, какой объем нашей обучающей выборке составляют наблюдения, в которых цена равна нулю:"
   ]
  },
  {
   "cell_type": "code",
   "execution_count": 46,
   "metadata": {},
   "outputs": [
    {
     "data": {
      "text/plain": [
       "0.030004571173946615"
      ]
     },
     "execution_count": 46,
     "metadata": {},
     "output_type": "execute_result"
    }
   ],
   "source": [
    "len(target_train[target_train==0]) / len(target_train)"
   ]
  },
  {
   "cell_type": "markdown",
   "metadata": {},
   "source": [
    "Нулевые значения составляют только 3% нашей обучающей выборки - избавимся от них. Тестовую выборку не меняем."
   ]
  },
  {
   "cell_type": "code",
   "execution_count": 47,
   "metadata": {},
   "outputs": [
    {
     "name": "stdout",
     "output_type": "stream",
     "text": [
      "(252516, 9)\n",
      "(252516,)\n"
     ]
    }
   ],
   "source": [
    "features_train.drop(features_train[target_train==0].index, inplace=True)\n",
    "target_train.drop(target_train[target_train==0].index, inplace=True)\n",
    "print(features_train.shape)\n",
    "print(target_train.shape)"
   ]
  },
  {
   "cell_type": "markdown",
   "metadata": {},
   "source": [
    "Создадим пайплайны для численных и категориальных признаков. Совместим кодирование категориальных и масштабирование численных признаков:"
   ]
  },
  {
   "cell_type": "code",
   "execution_count": 48,
   "metadata": {},
   "outputs": [
    {
     "name": "stdout",
     "output_type": "stream",
     "text": [
      "Численные признаки: ['reg_year', 'power', 'kilometer']\n",
      "Категориальные признаки: ['vehicle_type', 'gearbox', 'model', 'fuel_type', 'brand', 'not_repaired']\n"
     ]
    }
   ],
   "source": [
    "numerical = list(features_train.select_dtypes('number').columns)\n",
    "categorical = list(features_train.select_dtypes('object').columns)\n",
    "print(f\"Численные признаки: {numerical}\")\n",
    "print(f\"Категориальные признаки: {categorical}\")"
   ]
  },
  {
   "cell_type": "code",
   "execution_count": 49,
   "metadata": {},
   "outputs": [],
   "source": [
    "cat_pipe = Pipeline([\n",
    "    ('encoder', OneHotEncoder(handle_unknown='ignore', sparse=False))\n",
    "])\n",
    "\n",
    "num_pipe = Pipeline([\n",
    "    ('scaler', StandardScaler())\n",
    "])\n",
    "\n",
    "preprocessor = ColumnTransformer([\n",
    "    ('cat', cat_pipe, categorical),\n",
    "    ('num', num_pipe, numerical)\n",
    "])"
   ]
  },
  {
   "cell_type": "markdown",
   "metadata": {},
   "source": [
    "Согласно условиям нашей задачи, нужная метрика - RMSE. Создадим скорер для наших будущих моделей:"
   ]
  },
  {
   "cell_type": "code",
   "execution_count": 50,
   "metadata": {},
   "outputs": [],
   "source": [
    "def rmse(target, predictions):\n",
    "    return mean_squared_error(target, predictions) ** 0.5\n",
    "    \n",
    "rmse_scorer = make_scorer(rmse, greater_is_better=False)"
   ]
  },
  {
   "cell_type": "markdown",
   "metadata": {},
   "source": [
    "Мы готовы приступить к обучению моделей."
   ]
  },
  {
   "cell_type": "markdown",
   "metadata": {},
   "source": [
    "### 1. Модель градиентного бустинга LightGBM"
   ]
  },
  {
   "cell_type": "markdown",
   "metadata": {},
   "source": [
    "Запустим GridSearch, чтобы подобрать лучшие гиперпараметры для нашей модели:"
   ]
  },
  {
   "cell_type": "code",
   "execution_count": 51,
   "metadata": {},
   "outputs": [],
   "source": [
    "pipe_lgbm = Pipeline([('preprocessor', preprocessor),\n",
    "                      ('lgbm', lgb.LGBMRegressor(random_state=12345))])\n",
    "\n",
    "params_lgbm = [{\n",
    "    'lgbm__num_leaves' : [50, 250, 400],\n",
    "    'lgbm__learning_rate' : [0.2, 0.03],\n",
    "    'lgbm__max_depth' : [5, 8, 10],\n",
    "    'lgbm__n_estimators' : [50, 200, 500]\n",
    "}]"
   ]
  },
  {
   "cell_type": "code",
   "execution_count": 52,
   "metadata": {},
   "outputs": [
    {
     "name": "stdout",
     "output_type": "stream",
     "text": [
      "Запуск GridSearch...\n",
      "Fitting 3 folds for each of 54 candidates, totalling 162 fits\n",
      "Лучшие параметры:\n",
      "{'lgbm__learning_rate': 0.2, 'lgbm__max_depth': 10, 'lgbm__n_estimators': 500, 'lgbm__num_leaves': 250}\n"
     ]
    }
   ],
   "source": [
    "print('Запуск GridSearch...')\n",
    "lgbm = GridSearchCV(pipe_lgbm, params_lgbm, scoring=rmse_scorer, cv=3, verbose=1)\n",
    "lgbm.fit(features_train, target_train)\n",
    "\n",
    "print('Лучшие параметры:')\n",
    "print(lgbm.best_params_)"
   ]
  },
  {
   "cell_type": "code",
   "execution_count": 53,
   "metadata": {},
   "outputs": [
    {
     "name": "stdout",
     "output_type": "stream",
     "text": [
      "Среднее значение RMSE модели lgbm после кросс-валидации: 1599.46\n"
     ]
    }
   ],
   "source": [
    "print('Среднее значение RMSE модели lgbm после кросс-валидации: {:.2f}'.format(abs(lgbm.best_score_)))"
   ]
  },
  {
   "cell_type": "markdown",
   "metadata": {},
   "source": [
    "Обучим лучшую модель и проверим её на тестовой выборке:"
   ]
  },
  {
   "cell_type": "code",
   "execution_count": 54,
   "metadata": {},
   "outputs": [
    {
     "name": "stdout",
     "output_type": "stream",
     "text": [
      "Обучение...\n",
      "Предсказание...\n",
      "Wall time: 10.1 s\n"
     ]
    }
   ],
   "source": [
    "%%time\n",
    "\n",
    "lgbm = Pipeline([('preprocessor', preprocessor),\n",
    "                 ('lgbm', lgb.LGBMRegressor(learning_rate=0.2,\n",
    "                                            max_depth=10,\n",
    "                                            n_estimators=500,\n",
    "                                            num_leaves=250,\n",
    "                                            random_state=12345))])\n",
    "\n",
    "print('Обучение...')\n",
    "lgbm.fit(features_train, target_train)\n",
    "\n",
    "print('Предсказание...')\n",
    "target_pred = lgbm.predict(features_test)\n"
   ]
  },
  {
   "cell_type": "code",
   "execution_count": 55,
   "metadata": {},
   "outputs": [
    {
     "name": "stdout",
     "output_type": "stream",
     "text": [
      "Результат:\n",
      "RMSE модели градиентного бустинга на тестовой выборке: 1671.736181195034\n"
     ]
    }
   ],
   "source": [
    "lgbm_rmse = mean_squared_error(target_test, target_pred) ** 0.5\n",
    "print('Результат:')\n",
    "print(f'RMSE модели градиентного бустинга на тестовой выборке: {lgbm_rmse}')"
   ]
  },
  {
   "cell_type": "markdown",
   "metadata": {},
   "source": [
    "### 2. Модель линейной регрессии"
   ]
  },
  {
   "cell_type": "code",
   "execution_count": 56,
   "metadata": {},
   "outputs": [
    {
     "name": "stdout",
     "output_type": "stream",
     "text": [
      "2593.140385387759\n",
      "Wall time: 10.2 s\n"
     ]
    }
   ],
   "source": [
    "%%time\n",
    "\n",
    "pipe_regression = Pipeline([('preprocessor', preprocessor),\n",
    "                            ('regression', LinearRegression())])\n",
    "\n",
    "pipe_regression.fit(features_train, target_train)\n",
    "train_pred = pipe_regression.predict(features_train)\n",
    "rmse = (mean_squared_error(target_train, train_pred)) ** 0.5\n",
    "print(rmse)"
   ]
  },
  {
   "cell_type": "code",
   "execution_count": 57,
   "metadata": {},
   "outputs": [
    {
     "name": "stdout",
     "output_type": "stream",
     "text": [
      "Результат:\n",
      "RMSE модели линейной регрессии на тестовой выборке: 2643.2108434130337\n"
     ]
    }
   ],
   "source": [
    "predict = pipe_regression.predict(features_test)\n",
    "lreg_rmse = mean_squared_error(predict, target_test) ** 0.5\n",
    "print('Результат:')\n",
    "print(f'RMSE модели линейной регрессии на тестовой выборке: {lreg_rmse}')"
   ]
  },
  {
   "cell_type": "markdown",
   "metadata": {},
   "source": [
    "### 3. Модель случайного леса"
   ]
  },
  {
   "cell_type": "markdown",
   "metadata": {},
   "source": [
    "Так же запустим GridSearch для подбора оптимальных гиперпараметров"
   ]
  },
  {
   "cell_type": "code",
   "execution_count": 58,
   "metadata": {},
   "outputs": [
    {
     "name": "stdout",
     "output_type": "stream",
     "text": [
      "Запуск GridSearch...\n",
      "Fitting 3 folds for each of 9 candidates, totalling 27 fits\n",
      "Лучшие параметры:\n",
      "{'forest__max_depth': 15, 'forest__n_estimators': 500}\n"
     ]
    }
   ],
   "source": [
    "pipe_forest = Pipeline([('preprocessor', preprocessor),\n",
    "                        ('forest', RandomForestRegressor(random_state=12345))])\n",
    "\n",
    "params_forest = [{\n",
    "    'forest__max_depth' : [8, 10, 15],\n",
    "    'forest__n_estimators' : [50, 200, 500]\n",
    "}]\n",
    "\n",
    "print('Запуск GridSearch...')\n",
    "forest = GridSearchCV(pipe_forest, params_forest, scoring=rmse_scorer, cv=3, verbose=1)\n",
    "forest.fit(features_train, target_train)\n",
    "\n",
    "print('Лучшие параметры:')\n",
    "print(forest.best_params_)"
   ]
  },
  {
   "cell_type": "code",
   "execution_count": 59,
   "metadata": {},
   "outputs": [
    {
     "name": "stdout",
     "output_type": "stream",
     "text": [
      "Среднее значение RMSE модели lgbm после кросс-валидации: 1732.00\n"
     ]
    }
   ],
   "source": [
    "print('Среднее значение RMSE модели lgbm после кросс-валидации: {:.2f}'.format(abs(forest.best_score_)))"
   ]
  },
  {
   "cell_type": "markdown",
   "metadata": {},
   "source": [
    "Обучим лучшую модель и проверим её на тестовой выборке:"
   ]
  },
  {
   "cell_type": "code",
   "execution_count": 60,
   "metadata": {},
   "outputs": [
    {
     "name": "stdout",
     "output_type": "stream",
     "text": [
      "Обучение...\n",
      "Предсказание...\n",
      "RMSE модели случайного леса на тестовой выборке: 1803.8336409857154\n",
      "Wall time: 1h 15min 6s\n"
     ]
    }
   ],
   "source": [
    "%%time\n",
    "\n",
    "forest = Pipeline([('preprocessor', preprocessor),\n",
    "                   ('forest', RandomForestRegressor(max_depth=15,\n",
    "                                                    n_estimators=500,\n",
    "                                                    random_state=12345))])\n",
    "\n",
    "print('Обучение...')\n",
    "forest.fit(features_train, target_train)\n",
    "\n",
    "print('Предсказание...')\n",
    "predict = forest.predict(features_test)\n",
    "rmse_forest = mean_squared_error(target_test, predict) ** 0.5\n",
    "print('RMSE модели случайного леса на тестовой выборке:', rmse_forest)"
   ]
  },
  {
   "cell_type": "markdown",
   "metadata": {},
   "source": [
    "## Анализ моделей"
   ]
  },
  {
   "cell_type": "markdown",
   "metadata": {},
   "source": [
    "Проверим наши модели на вменяемость, сравнив результат с дамми-регрессором:"
   ]
  },
  {
   "cell_type": "code",
   "execution_count": 61,
   "metadata": {},
   "outputs": [
    {
     "name": "stdout",
     "output_type": "stream",
     "text": [
      "RMSE константной модели: 4510.092845460213\n"
     ]
    }
   ],
   "source": [
    "dummy_regr = DummyRegressor(strategy=\"mean\")\n",
    "dummy_regr.fit(features_train, target_train)\n",
    "predict = dummy_regr.predict(features_test)\n",
    "dummy_rmse = mean_squared_error(target_test, predict) ** 0.5\n",
    "print('RMSE константной модели:', dummy_rmse)"
   ]
  },
  {
   "cell_type": "markdown",
   "metadata": {},
   "source": [
    "Представим полученные результаты в таблице:"
   ]
  },
  {
   "cell_type": "code",
   "execution_count": 63,
   "metadata": {
    "scrolled": true
   },
   "outputs": [
    {
     "data": {
      "text/html": [
       "<div>\n",
       "<style scoped>\n",
       "    .dataframe tbody tr th:only-of-type {\n",
       "        vertical-align: middle;\n",
       "    }\n",
       "\n",
       "    .dataframe tbody tr th {\n",
       "        vertical-align: top;\n",
       "    }\n",
       "\n",
       "    .dataframe thead th {\n",
       "        text-align: right;\n",
       "    }\n",
       "</style>\n",
       "<table border=\"1\" class=\"dataframe\">\n",
       "  <thead>\n",
       "    <tr style=\"text-align: right;\">\n",
       "      <th></th>\n",
       "      <th>Модель</th>\n",
       "      <th>Значение RMSE</th>\n",
       "      <th>Время выполнения</th>\n",
       "    </tr>\n",
       "  </thead>\n",
       "  <tbody>\n",
       "    <tr>\n",
       "      <th>0</th>\n",
       "      <td>Модель градиентного бустинга LightGBM</td>\n",
       "      <td>1671</td>\n",
       "      <td>10 сек</td>\n",
       "    </tr>\n",
       "    <tr>\n",
       "      <th>1</th>\n",
       "      <td>Модель линейной регрессии</td>\n",
       "      <td>2643</td>\n",
       "      <td>10 сек</td>\n",
       "    </tr>\n",
       "    <tr>\n",
       "      <th>2</th>\n",
       "      <td>Модель случайного леса</td>\n",
       "      <td>1803</td>\n",
       "      <td>1 час 15 минут</td>\n",
       "    </tr>\n",
       "  </tbody>\n",
       "</table>\n",
       "</div>"
      ],
      "text/plain": [
       "                                  Модель  Значение RMSE Время выполнения\n",
       "0  Модель градиентного бустинга LightGBM           1671           10 сек\n",
       "1              Модель линейной регрессии           2643           10 сек\n",
       "2                 Модель случайного леса           1803   1 час 15 минут"
      ]
     },
     "execution_count": 63,
     "metadata": {},
     "output_type": "execute_result"
    }
   ],
   "source": [
    "data = [\n",
    "    ['Модель градиентного бустинга LightGBM', int(lgbm_rmse), '10 сек'],\n",
    "    ['Модель линейной регрессии', int(lreg_rmse), '10 сек'],\n",
    "    ['Модель случайного леса', int(rmse_forest), '1 час 15 минут']\n",
    "]\n",
    "columns = ['Модель', 'Значение RMSE', 'Время выполнения']\n",
    "results = pd.DataFrame(data=data, columns=columns)\n",
    "results"
   ]
  },
  {
   "cell_type": "markdown",
   "metadata": {},
   "source": [
    "**Вывод**\n",
    "\n",
    "Все наши модели прошли проверку на вменяемость - полученные значения RMSE значительно ниже, чем у константной модели. Наилучший результат показала модель градиентного бустинга LightGBM, причем как в отношении значения метрики, так и в отношении скорости обучения.\n",
    "\n",
    "Для решения подобных задач рекомендуется *использовать модель LightGBM*."
   ]
  },
  {
   "cell_type": "code",
   "execution_count": null,
   "metadata": {},
   "outputs": [],
   "source": []
  }
 ],
 "metadata": {
  "ExecuteTimeLog": [
   {
    "duration": 18,
    "start_time": "2022-05-12T13:47:22.048Z"
   },
   {
    "duration": 2601,
    "start_time": "2022-05-12T13:47:22.069Z"
   },
   {
    "duration": 5693,
    "start_time": "2022-05-12T13:47:24.674Z"
   },
   {
    "duration": 1185,
    "start_time": "2022-05-12T13:47:30.370Z"
   },
   {
    "duration": 1124,
    "start_time": "2022-05-12T13:47:31.559Z"
   },
   {
    "duration": 31,
    "start_time": "2022-05-12T13:47:32.686Z"
   },
   {
    "duration": 304,
    "start_time": "2022-05-12T13:47:32.720Z"
   },
   {
    "duration": 497,
    "start_time": "2022-05-12T13:47:33.027Z"
   },
   {
    "duration": 25,
    "start_time": "2022-05-12T13:47:33.527Z"
   },
   {
    "duration": 501,
    "start_time": "2022-05-12T13:47:33.555Z"
   },
   {
    "duration": 68,
    "start_time": "2022-05-12T13:47:34.063Z"
   },
   {
    "duration": 72,
    "start_time": "2022-05-12T13:47:34.134Z"
   },
   {
    "duration": 196,
    "start_time": "2022-05-12T13:47:34.208Z"
   },
   {
    "duration": 258,
    "start_time": "2022-05-12T13:47:34.407Z"
   },
   {
    "duration": 24,
    "start_time": "2022-05-12T13:47:34.668Z"
   },
   {
    "duration": 1072,
    "start_time": "2022-05-12T13:47:34.695Z"
   },
   {
    "duration": 588,
    "start_time": "2022-05-12T13:47:35.770Z"
   },
   {
    "duration": 9223,
    "start_time": "2022-05-12T13:47:36.361Z"
   },
   {
    "duration": 332,
    "start_time": "2022-05-12T13:47:45.587Z"
   },
   {
    "duration": 159,
    "start_time": "2022-05-12T13:47:45.922Z"
   },
   {
    "duration": 42,
    "start_time": "2022-05-12T13:47:46.089Z"
   },
   {
    "duration": 8,
    "start_time": "2022-05-12T13:47:46.134Z"
   },
   {
    "duration": 27724,
    "start_time": "2022-05-12T13:47:46.145Z"
   },
   {
    "duration": 26,
    "start_time": "2022-05-12T13:48:13.874Z"
   },
   {
    "duration": 38,
    "start_time": "2022-05-12T13:48:13.904Z"
   },
   {
    "duration": 138,
    "start_time": "2022-05-12T13:48:13.945Z"
   },
   {
    "duration": 669,
    "start_time": "2022-05-12T13:48:14.087Z"
   },
   {
    "duration": 27,
    "start_time": "2022-05-12T13:48:14.760Z"
   },
   {
    "duration": 61,
    "start_time": "2022-05-12T13:48:14.796Z"
   },
   {
    "duration": 30,
    "start_time": "2022-05-12T13:48:14.859Z"
   },
   {
    "duration": 31,
    "start_time": "2022-05-12T13:48:14.893Z"
   },
   {
    "duration": 9,
    "start_time": "2022-05-12T13:48:14.927Z"
   },
   {
    "duration": 18,
    "start_time": "2022-05-12T13:48:14.939Z"
   },
   {
    "duration": 1053,
    "start_time": "2022-05-12T13:48:14.960Z"
   },
   {
    "duration": 1837,
    "start_time": "2022-05-12T13:48:16.016Z"
   },
   {
    "duration": 848,
    "start_time": "2022-05-12T13:48:17.856Z"
   },
   {
    "duration": 8,
    "start_time": "2022-05-12T13:48:18.708Z"
   },
   {
    "duration": 1435,
    "start_time": "2022-05-12T13:48:18.719Z"
   },
   {
    "duration": 593,
    "start_time": "2022-05-12T13:48:20.157Z"
   },
   {
    "duration": 4,
    "start_time": "2022-05-12T13:48:20.752Z"
   },
   {
    "duration": 40,
    "start_time": "2022-05-12T13:48:20.758Z"
   },
   {
    "duration": 16,
    "start_time": "2022-05-12T13:49:09.954Z"
   },
   {
    "duration": 2351,
    "start_time": "2022-05-12T13:49:09.973Z"
   },
   {
    "duration": 2186,
    "start_time": "2022-05-12T13:49:12.327Z"
   },
   {
    "duration": 867,
    "start_time": "2022-05-12T13:49:14.516Z"
   },
   {
    "duration": 895,
    "start_time": "2022-05-12T13:49:15.388Z"
   },
   {
    "duration": 32,
    "start_time": "2022-05-12T13:49:16.286Z"
   },
   {
    "duration": 220,
    "start_time": "2022-05-12T13:49:16.320Z"
   },
   {
    "duration": 473,
    "start_time": "2022-05-12T13:49:16.543Z"
   },
   {
    "duration": 18,
    "start_time": "2022-05-12T13:49:17.018Z"
   },
   {
    "duration": 367,
    "start_time": "2022-05-12T13:49:17.039Z"
   },
   {
    "duration": 44,
    "start_time": "2022-05-12T13:49:17.411Z"
   },
   {
    "duration": 81,
    "start_time": "2022-05-12T13:49:17.457Z"
   },
   {
    "duration": 227,
    "start_time": "2022-05-12T13:49:17.541Z"
   },
   {
    "duration": 192,
    "start_time": "2022-05-12T13:49:17.771Z"
   },
   {
    "duration": 21,
    "start_time": "2022-05-12T13:49:17.966Z"
   },
   {
    "duration": 817,
    "start_time": "2022-05-12T13:49:17.991Z"
   },
   {
    "duration": 609,
    "start_time": "2022-05-12T13:49:18.812Z"
   },
   {
    "duration": 5983,
    "start_time": "2022-05-12T13:49:19.423Z"
   },
   {
    "duration": 257,
    "start_time": "2022-05-12T13:49:25.409Z"
   },
   {
    "duration": 128,
    "start_time": "2022-05-12T13:49:25.669Z"
   },
   {
    "duration": 30,
    "start_time": "2022-05-12T13:49:25.800Z"
   },
   {
    "duration": 8,
    "start_time": "2022-05-12T13:49:25.832Z"
   },
   {
    "duration": 28640,
    "start_time": "2022-05-12T13:49:25.842Z"
   },
   {
    "duration": 22,
    "start_time": "2022-05-12T13:49:54.485Z"
   },
   {
    "duration": 32,
    "start_time": "2022-05-12T13:49:54.512Z"
   },
   {
    "duration": 99,
    "start_time": "2022-05-12T13:49:54.546Z"
   },
   {
    "duration": 534,
    "start_time": "2022-05-12T13:49:54.648Z"
   },
   {
    "duration": 18,
    "start_time": "2022-05-12T13:49:55.185Z"
   },
   {
    "duration": 86,
    "start_time": "2022-05-12T13:49:55.210Z"
   },
   {
    "duration": 11,
    "start_time": "2022-05-12T13:49:55.299Z"
   },
   {
    "duration": 8,
    "start_time": "2022-05-12T13:49:55.313Z"
   },
   {
    "duration": 8,
    "start_time": "2022-05-12T13:49:55.323Z"
   },
   {
    "duration": 54,
    "start_time": "2022-05-12T13:49:55.333Z"
   },
   {
    "duration": 814,
    "start_time": "2022-05-12T13:49:55.391Z"
   },
   {
    "duration": 1627,
    "start_time": "2022-05-12T13:49:56.208Z"
   },
   {
    "duration": 915,
    "start_time": "2022-05-12T13:49:57.838Z"
   },
   {
    "duration": 9,
    "start_time": "2022-05-12T13:49:58.756Z"
   },
   {
    "duration": 452,
    "start_time": "2022-05-12T13:49:58.782Z"
   },
   {
    "duration": 533,
    "start_time": "2022-05-12T13:49:59.237Z"
   },
   {
    "duration": 11,
    "start_time": "2022-05-12T13:49:59.773Z"
   },
   {
    "duration": 33,
    "start_time": "2022-05-12T13:49:59.787Z"
   },
   {
    "duration": 8,
    "start_time": "2022-05-13T11:24:13.379Z"
   },
   {
    "duration": 1532,
    "start_time": "2022-05-13T11:24:15.131Z"
   },
   {
    "duration": 3534,
    "start_time": "2022-05-13T11:24:16.665Z"
   },
   {
    "duration": 531,
    "start_time": "2022-05-13T11:24:26.771Z"
   },
   {
    "duration": 1086,
    "start_time": "2022-05-13T11:26:08.412Z"
   },
   {
    "duration": 14,
    "start_time": "2022-05-13T11:26:15.615Z"
   },
   {
    "duration": 149,
    "start_time": "2022-05-13T11:26:42.029Z"
   },
   {
    "duration": 2795,
    "start_time": "2022-05-13T11:33:47.096Z"
   },
   {
    "duration": 15,
    "start_time": "2022-05-13T11:33:58.215Z"
   },
   {
    "duration": 146,
    "start_time": "2022-05-13T11:33:58.801Z"
   },
   {
    "duration": 372,
    "start_time": "2022-05-13T11:34:00.026Z"
   },
   {
    "duration": 12,
    "start_time": "2022-05-13T11:34:00.470Z"
   },
   {
    "duration": 248,
    "start_time": "2022-05-13T11:34:01.268Z"
   },
   {
    "duration": 29,
    "start_time": "2022-05-13T11:34:02.162Z"
   },
   {
    "duration": 32,
    "start_time": "2022-05-13T11:34:03.099Z"
   },
   {
    "duration": 116,
    "start_time": "2022-05-13T11:34:03.978Z"
   },
   {
    "duration": 114,
    "start_time": "2022-05-13T11:34:05.451Z"
   },
   {
    "duration": 12,
    "start_time": "2022-05-13T11:34:06.635Z"
   },
   {
    "duration": 650,
    "start_time": "2022-05-13T11:34:07.218Z"
   },
   {
    "duration": 408,
    "start_time": "2022-05-13T11:34:07.871Z"
   },
   {
    "duration": 3907,
    "start_time": "2022-05-13T11:34:08.950Z"
   },
   {
    "duration": 0,
    "start_time": "2022-05-13T11:34:12.859Z"
   },
   {
    "duration": 0,
    "start_time": "2022-05-13T11:34:12.861Z"
   },
   {
    "duration": 0,
    "start_time": "2022-05-13T11:34:12.862Z"
   },
   {
    "duration": 0,
    "start_time": "2022-05-13T11:34:12.863Z"
   },
   {
    "duration": 5602,
    "start_time": "2022-05-13T11:34:13.736Z"
   },
   {
    "duration": 14,
    "start_time": "2022-05-13T11:34:19.340Z"
   },
   {
    "duration": 30,
    "start_time": "2022-05-13T11:34:19.356Z"
   },
   {
    "duration": 79,
    "start_time": "2022-05-13T11:34:19.389Z"
   },
   {
    "duration": 285,
    "start_time": "2022-05-13T11:34:19.470Z"
   },
   {
    "duration": 8,
    "start_time": "2022-05-13T11:34:22.252Z"
   },
   {
    "duration": 24,
    "start_time": "2022-05-13T11:34:23.656Z"
   },
   {
    "duration": 8,
    "start_time": "2022-05-13T11:34:39.948Z"
   },
   {
    "duration": 1435,
    "start_time": "2022-05-13T11:34:39.958Z"
   },
   {
    "duration": 5449,
    "start_time": "2022-05-13T11:34:41.395Z"
   },
   {
    "duration": 544,
    "start_time": "2022-05-13T11:34:46.846Z"
   },
   {
    "duration": 1107,
    "start_time": "2022-05-13T11:34:47.392Z"
   },
   {
    "duration": 16,
    "start_time": "2022-05-13T11:34:48.501Z"
   },
   {
    "duration": 168,
    "start_time": "2022-05-13T11:34:48.519Z"
   },
   {
    "duration": 362,
    "start_time": "2022-05-13T11:34:48.689Z"
   },
   {
    "duration": 12,
    "start_time": "2022-05-13T11:34:49.053Z"
   },
   {
    "duration": 256,
    "start_time": "2022-05-13T11:34:49.066Z"
   },
   {
    "duration": 37,
    "start_time": "2022-05-13T11:34:49.325Z"
   },
   {
    "duration": 32,
    "start_time": "2022-05-13T11:34:49.364Z"
   },
   {
    "duration": 145,
    "start_time": "2022-05-13T11:34:49.398Z"
   },
   {
    "duration": 112,
    "start_time": "2022-05-13T11:34:49.546Z"
   },
   {
    "duration": 9,
    "start_time": "2022-05-13T11:34:49.660Z"
   },
   {
    "duration": 469,
    "start_time": "2022-05-13T11:34:49.671Z"
   },
   {
    "duration": 415,
    "start_time": "2022-05-13T11:34:50.143Z"
   },
   {
    "duration": 4418,
    "start_time": "2022-05-13T11:34:50.560Z"
   },
   {
    "duration": 0,
    "start_time": "2022-05-13T11:34:54.981Z"
   },
   {
    "duration": 0,
    "start_time": "2022-05-13T11:34:54.982Z"
   },
   {
    "duration": 0,
    "start_time": "2022-05-13T11:34:54.984Z"
   },
   {
    "duration": 0,
    "start_time": "2022-05-13T11:34:54.985Z"
   },
   {
    "duration": 0,
    "start_time": "2022-05-13T11:34:54.986Z"
   },
   {
    "duration": 0,
    "start_time": "2022-05-13T11:34:54.987Z"
   },
   {
    "duration": 0,
    "start_time": "2022-05-13T11:34:54.988Z"
   },
   {
    "duration": 0,
    "start_time": "2022-05-13T11:34:54.990Z"
   },
   {
    "duration": 1,
    "start_time": "2022-05-13T11:34:54.990Z"
   },
   {
    "duration": 0,
    "start_time": "2022-05-13T11:34:54.992Z"
   },
   {
    "duration": 0,
    "start_time": "2022-05-13T11:34:54.993Z"
   },
   {
    "duration": 0,
    "start_time": "2022-05-13T11:34:54.994Z"
   },
   {
    "duration": 0,
    "start_time": "2022-05-13T11:34:54.996Z"
   },
   {
    "duration": 0,
    "start_time": "2022-05-13T11:34:54.997Z"
   },
   {
    "duration": 0,
    "start_time": "2022-05-13T11:34:54.998Z"
   },
   {
    "duration": 0,
    "start_time": "2022-05-13T11:34:54.999Z"
   },
   {
    "duration": 0,
    "start_time": "2022-05-13T11:34:55.000Z"
   },
   {
    "duration": 0,
    "start_time": "2022-05-13T11:34:55.001Z"
   },
   {
    "duration": 0,
    "start_time": "2022-05-13T11:34:55.002Z"
   },
   {
    "duration": 0,
    "start_time": "2022-05-13T11:34:55.003Z"
   },
   {
    "duration": 0,
    "start_time": "2022-05-13T11:34:55.004Z"
   },
   {
    "duration": 0,
    "start_time": "2022-05-13T11:34:55.005Z"
   },
   {
    "duration": 0,
    "start_time": "2022-05-13T11:34:55.006Z"
   },
   {
    "duration": 0,
    "start_time": "2022-05-13T11:34:55.007Z"
   },
   {
    "duration": 0,
    "start_time": "2022-05-13T11:34:55.008Z"
   },
   {
    "duration": 0,
    "start_time": "2022-05-13T11:34:55.009Z"
   },
   {
    "duration": 0,
    "start_time": "2022-05-13T11:34:55.010Z"
   },
   {
    "duration": 0,
    "start_time": "2022-05-13T11:34:55.011Z"
   },
   {
    "duration": 0,
    "start_time": "2022-05-13T11:34:55.012Z"
   },
   {
    "duration": 0,
    "start_time": "2022-05-13T11:34:55.013Z"
   },
   {
    "duration": 0,
    "start_time": "2022-05-13T11:34:55.014Z"
   },
   {
    "duration": 0,
    "start_time": "2022-05-13T11:34:55.015Z"
   },
   {
    "duration": 8,
    "start_time": "2022-05-13T11:35:10.518Z"
   },
   {
    "duration": 2070,
    "start_time": "2022-05-13T11:35:10.528Z"
   },
   {
    "duration": 3384,
    "start_time": "2022-05-13T11:35:12.600Z"
   },
   {
    "duration": 550,
    "start_time": "2022-05-13T11:35:15.985Z"
   },
   {
    "duration": 1120,
    "start_time": "2022-05-13T11:35:16.538Z"
   },
   {
    "duration": 14,
    "start_time": "2022-05-13T11:35:17.660Z"
   },
   {
    "duration": 153,
    "start_time": "2022-05-13T11:35:17.676Z"
   },
   {
    "duration": 368,
    "start_time": "2022-05-13T11:35:17.837Z"
   },
   {
    "duration": 13,
    "start_time": "2022-05-13T11:35:18.207Z"
   },
   {
    "duration": 266,
    "start_time": "2022-05-13T11:35:18.221Z"
   },
   {
    "duration": 31,
    "start_time": "2022-05-13T11:35:18.490Z"
   },
   {
    "duration": 37,
    "start_time": "2022-05-13T11:35:18.534Z"
   },
   {
    "duration": 127,
    "start_time": "2022-05-13T11:35:18.572Z"
   },
   {
    "duration": 122,
    "start_time": "2022-05-13T11:35:18.701Z"
   },
   {
    "duration": 24,
    "start_time": "2022-05-13T11:35:18.825Z"
   },
   {
    "duration": 458,
    "start_time": "2022-05-13T11:35:18.851Z"
   },
   {
    "duration": 404,
    "start_time": "2022-05-13T11:35:19.311Z"
   },
   {
    "duration": 9496,
    "start_time": "2022-05-13T11:35:19.716Z"
   },
   {
    "duration": 0,
    "start_time": "2022-05-13T11:35:29.215Z"
   },
   {
    "duration": 0,
    "start_time": "2022-05-13T11:35:29.216Z"
   },
   {
    "duration": 0,
    "start_time": "2022-05-13T11:35:29.218Z"
   },
   {
    "duration": 0,
    "start_time": "2022-05-13T11:35:29.219Z"
   },
   {
    "duration": 0,
    "start_time": "2022-05-13T11:35:29.220Z"
   },
   {
    "duration": 1,
    "start_time": "2022-05-13T11:35:29.221Z"
   },
   {
    "duration": 0,
    "start_time": "2022-05-13T11:35:29.223Z"
   },
   {
    "duration": 0,
    "start_time": "2022-05-13T11:35:29.224Z"
   },
   {
    "duration": 0,
    "start_time": "2022-05-13T11:35:29.225Z"
   },
   {
    "duration": 0,
    "start_time": "2022-05-13T11:35:29.226Z"
   },
   {
    "duration": 0,
    "start_time": "2022-05-13T11:35:29.227Z"
   },
   {
    "duration": 0,
    "start_time": "2022-05-13T11:35:29.228Z"
   },
   {
    "duration": 0,
    "start_time": "2022-05-13T11:35:29.229Z"
   },
   {
    "duration": 0,
    "start_time": "2022-05-13T11:35:29.231Z"
   },
   {
    "duration": 0,
    "start_time": "2022-05-13T11:35:29.232Z"
   },
   {
    "duration": 0,
    "start_time": "2022-05-13T11:35:29.235Z"
   },
   {
    "duration": 0,
    "start_time": "2022-05-13T11:35:29.237Z"
   },
   {
    "duration": 0,
    "start_time": "2022-05-13T11:35:29.238Z"
   },
   {
    "duration": 0,
    "start_time": "2022-05-13T11:35:29.240Z"
   },
   {
    "duration": 0,
    "start_time": "2022-05-13T11:35:29.241Z"
   },
   {
    "duration": 0,
    "start_time": "2022-05-13T11:35:29.246Z"
   },
   {
    "duration": 0,
    "start_time": "2022-05-13T11:35:29.247Z"
   },
   {
    "duration": 0,
    "start_time": "2022-05-13T11:35:29.249Z"
   },
   {
    "duration": 0,
    "start_time": "2022-05-13T11:35:29.250Z"
   },
   {
    "duration": 0,
    "start_time": "2022-05-13T11:35:29.251Z"
   },
   {
    "duration": 0,
    "start_time": "2022-05-13T11:35:29.252Z"
   },
   {
    "duration": 0,
    "start_time": "2022-05-13T11:35:29.254Z"
   },
   {
    "duration": 0,
    "start_time": "2022-05-13T11:35:29.255Z"
   },
   {
    "duration": 0,
    "start_time": "2022-05-13T11:35:29.257Z"
   },
   {
    "duration": 0,
    "start_time": "2022-05-13T11:35:29.258Z"
   },
   {
    "duration": 0,
    "start_time": "2022-05-13T11:35:29.259Z"
   },
   {
    "duration": 8,
    "start_time": "2022-05-13T11:36:22.579Z"
   },
   {
    "duration": 1529,
    "start_time": "2022-05-13T11:36:22.589Z"
   },
   {
    "duration": 1785,
    "start_time": "2022-05-13T11:36:24.120Z"
   },
   {
    "duration": 559,
    "start_time": "2022-05-13T11:36:25.906Z"
   },
   {
    "duration": 1096,
    "start_time": "2022-05-13T11:36:26.467Z"
   },
   {
    "duration": 14,
    "start_time": "2022-05-13T11:36:27.565Z"
   },
   {
    "duration": 160,
    "start_time": "2022-05-13T11:36:27.580Z"
   },
   {
    "duration": 355,
    "start_time": "2022-05-13T11:36:27.742Z"
   },
   {
    "duration": 13,
    "start_time": "2022-05-13T11:36:28.099Z"
   },
   {
    "duration": 273,
    "start_time": "2022-05-13T11:36:28.114Z"
   },
   {
    "duration": 29,
    "start_time": "2022-05-13T11:36:28.391Z"
   },
   {
    "duration": 36,
    "start_time": "2022-05-13T11:36:28.434Z"
   },
   {
    "duration": 137,
    "start_time": "2022-05-13T11:36:28.472Z"
   },
   {
    "duration": 133,
    "start_time": "2022-05-13T11:36:28.611Z"
   },
   {
    "duration": 10,
    "start_time": "2022-05-13T11:36:28.746Z"
   },
   {
    "duration": 456,
    "start_time": "2022-05-13T11:36:28.758Z"
   },
   {
    "duration": 397,
    "start_time": "2022-05-13T11:36:29.216Z"
   },
   {
    "duration": 4335,
    "start_time": "2022-05-13T11:36:29.614Z"
   },
   {
    "duration": 0,
    "start_time": "2022-05-13T11:36:33.951Z"
   },
   {
    "duration": 0,
    "start_time": "2022-05-13T11:36:33.953Z"
   },
   {
    "duration": 0,
    "start_time": "2022-05-13T11:36:33.954Z"
   },
   {
    "duration": 0,
    "start_time": "2022-05-13T11:36:33.956Z"
   },
   {
    "duration": 0,
    "start_time": "2022-05-13T11:36:33.957Z"
   },
   {
    "duration": 0,
    "start_time": "2022-05-13T11:36:33.959Z"
   },
   {
    "duration": 0,
    "start_time": "2022-05-13T11:36:33.960Z"
   },
   {
    "duration": 0,
    "start_time": "2022-05-13T11:36:33.962Z"
   },
   {
    "duration": 0,
    "start_time": "2022-05-13T11:36:33.964Z"
   },
   {
    "duration": 0,
    "start_time": "2022-05-13T11:36:33.965Z"
   },
   {
    "duration": 0,
    "start_time": "2022-05-13T11:36:33.967Z"
   },
   {
    "duration": 0,
    "start_time": "2022-05-13T11:36:33.969Z"
   },
   {
    "duration": 0,
    "start_time": "2022-05-13T11:36:33.970Z"
   },
   {
    "duration": 0,
    "start_time": "2022-05-13T11:36:33.972Z"
   },
   {
    "duration": 0,
    "start_time": "2022-05-13T11:36:33.974Z"
   },
   {
    "duration": 0,
    "start_time": "2022-05-13T11:36:33.976Z"
   },
   {
    "duration": 0,
    "start_time": "2022-05-13T11:36:33.977Z"
   },
   {
    "duration": 0,
    "start_time": "2022-05-13T11:36:33.979Z"
   },
   {
    "duration": 0,
    "start_time": "2022-05-13T11:36:33.980Z"
   },
   {
    "duration": 0,
    "start_time": "2022-05-13T11:36:33.982Z"
   },
   {
    "duration": 0,
    "start_time": "2022-05-13T11:36:33.984Z"
   },
   {
    "duration": 0,
    "start_time": "2022-05-13T11:36:33.985Z"
   },
   {
    "duration": 0,
    "start_time": "2022-05-13T11:36:33.987Z"
   },
   {
    "duration": 0,
    "start_time": "2022-05-13T11:36:33.989Z"
   },
   {
    "duration": 0,
    "start_time": "2022-05-13T11:36:34.036Z"
   },
   {
    "duration": 0,
    "start_time": "2022-05-13T11:36:34.037Z"
   },
   {
    "duration": 0,
    "start_time": "2022-05-13T11:36:34.039Z"
   },
   {
    "duration": 0,
    "start_time": "2022-05-13T11:36:34.042Z"
   },
   {
    "duration": 0,
    "start_time": "2022-05-13T11:36:34.043Z"
   },
   {
    "duration": 0,
    "start_time": "2022-05-13T11:36:34.045Z"
   },
   {
    "duration": 0,
    "start_time": "2022-05-13T11:36:34.046Z"
   },
   {
    "duration": 22,
    "start_time": "2022-05-13T11:46:09.295Z"
   },
   {
    "duration": 7,
    "start_time": "2022-05-13T11:46:42.450Z"
   },
   {
    "duration": 21,
    "start_time": "2022-05-13T11:47:10.482Z"
   },
   {
    "duration": 81,
    "start_time": "2022-05-13T11:49:20.925Z"
   },
   {
    "duration": 17,
    "start_time": "2022-05-13T11:50:01.520Z"
   },
   {
    "duration": 18,
    "start_time": "2022-05-13T11:50:04.886Z"
   },
   {
    "duration": 14,
    "start_time": "2022-05-13T11:57:44.753Z"
   },
   {
    "duration": 9,
    "start_time": "2022-05-13T11:58:03.352Z"
   },
   {
    "duration": 1571,
    "start_time": "2022-05-13T11:58:03.363Z"
   },
   {
    "duration": 2014,
    "start_time": "2022-05-13T11:58:04.946Z"
   },
   {
    "duration": 563,
    "start_time": "2022-05-13T11:58:06.962Z"
   },
   {
    "duration": 1196,
    "start_time": "2022-05-13T11:58:07.528Z"
   },
   {
    "duration": 25,
    "start_time": "2022-05-13T11:58:08.726Z"
   },
   {
    "duration": 175,
    "start_time": "2022-05-13T11:58:08.753Z"
   },
   {
    "duration": 467,
    "start_time": "2022-05-13T11:58:08.929Z"
   },
   {
    "duration": 12,
    "start_time": "2022-05-13T11:58:09.397Z"
   },
   {
    "duration": 304,
    "start_time": "2022-05-13T11:58:09.411Z"
   },
   {
    "duration": 54,
    "start_time": "2022-05-13T11:58:09.720Z"
   },
   {
    "duration": 34,
    "start_time": "2022-05-13T11:58:09.777Z"
   },
   {
    "duration": 140,
    "start_time": "2022-05-13T11:58:09.813Z"
   },
   {
    "duration": 142,
    "start_time": "2022-05-13T11:58:09.955Z"
   },
   {
    "duration": 12,
    "start_time": "2022-05-13T11:58:10.099Z"
   },
   {
    "duration": 563,
    "start_time": "2022-05-13T11:58:10.113Z"
   },
   {
    "duration": 422,
    "start_time": "2022-05-13T11:58:10.678Z"
   },
   {
    "duration": 23,
    "start_time": "2022-05-13T11:58:11.102Z"
   },
   {
    "duration": 4937,
    "start_time": "2022-05-13T11:58:11.133Z"
   },
   {
    "duration": 0,
    "start_time": "2022-05-13T11:58:16.072Z"
   },
   {
    "duration": 0,
    "start_time": "2022-05-13T11:58:16.074Z"
   },
   {
    "duration": 0,
    "start_time": "2022-05-13T11:58:16.075Z"
   },
   {
    "duration": 0,
    "start_time": "2022-05-13T11:58:16.078Z"
   },
   {
    "duration": 0,
    "start_time": "2022-05-13T11:58:16.079Z"
   },
   {
    "duration": 0,
    "start_time": "2022-05-13T11:58:16.082Z"
   },
   {
    "duration": 0,
    "start_time": "2022-05-13T11:58:16.083Z"
   },
   {
    "duration": 0,
    "start_time": "2022-05-13T11:58:16.085Z"
   },
   {
    "duration": 0,
    "start_time": "2022-05-13T11:58:16.086Z"
   },
   {
    "duration": 0,
    "start_time": "2022-05-13T11:58:16.087Z"
   },
   {
    "duration": 0,
    "start_time": "2022-05-13T11:58:16.089Z"
   },
   {
    "duration": 0,
    "start_time": "2022-05-13T11:58:16.090Z"
   },
   {
    "duration": 0,
    "start_time": "2022-05-13T11:58:16.091Z"
   },
   {
    "duration": 0,
    "start_time": "2022-05-13T11:58:16.093Z"
   },
   {
    "duration": 0,
    "start_time": "2022-05-13T11:58:16.094Z"
   },
   {
    "duration": 0,
    "start_time": "2022-05-13T11:58:16.096Z"
   },
   {
    "duration": 0,
    "start_time": "2022-05-13T11:58:16.097Z"
   },
   {
    "duration": 0,
    "start_time": "2022-05-13T11:58:16.099Z"
   },
   {
    "duration": 0,
    "start_time": "2022-05-13T11:58:16.100Z"
   },
   {
    "duration": 0,
    "start_time": "2022-05-13T11:58:16.102Z"
   },
   {
    "duration": 0,
    "start_time": "2022-05-13T11:58:16.103Z"
   },
   {
    "duration": 0,
    "start_time": "2022-05-13T11:58:16.104Z"
   },
   {
    "duration": 0,
    "start_time": "2022-05-13T11:58:16.106Z"
   },
   {
    "duration": 0,
    "start_time": "2022-05-13T11:58:16.107Z"
   },
   {
    "duration": 0,
    "start_time": "2022-05-13T11:58:16.109Z"
   },
   {
    "duration": 0,
    "start_time": "2022-05-13T11:58:16.110Z"
   },
   {
    "duration": 0,
    "start_time": "2022-05-13T11:58:16.136Z"
   },
   {
    "duration": 0,
    "start_time": "2022-05-13T11:58:16.137Z"
   },
   {
    "duration": 0,
    "start_time": "2022-05-13T11:58:16.139Z"
   },
   {
    "duration": 0,
    "start_time": "2022-05-13T11:58:16.140Z"
   },
   {
    "duration": 0,
    "start_time": "2022-05-13T11:58:16.146Z"
   },
   {
    "duration": 0,
    "start_time": "2022-05-13T11:58:16.147Z"
   },
   {
    "duration": 2402,
    "start_time": "2022-05-13T12:04:23.746Z"
   },
   {
    "duration": 253,
    "start_time": "2022-05-13T12:05:53.050Z"
   },
   {
    "duration": 469,
    "start_time": "2022-05-13T12:06:15.285Z"
   },
   {
    "duration": 13,
    "start_time": "2022-05-13T12:06:17.753Z"
   },
   {
    "duration": 96,
    "start_time": "2022-05-13T12:06:25.087Z"
   },
   {
    "duration": 11,
    "start_time": "2022-05-13T12:07:00.927Z"
   },
   {
    "duration": 1487,
    "start_time": "2022-05-13T12:07:00.940Z"
   },
   {
    "duration": 3660,
    "start_time": "2022-05-13T12:07:02.430Z"
   },
   {
    "duration": 577,
    "start_time": "2022-05-13T12:07:06.092Z"
   },
   {
    "duration": 1185,
    "start_time": "2022-05-13T12:07:06.671Z"
   },
   {
    "duration": 15,
    "start_time": "2022-05-13T12:07:07.857Z"
   },
   {
    "duration": 159,
    "start_time": "2022-05-13T12:07:07.874Z"
   },
   {
    "duration": 367,
    "start_time": "2022-05-13T12:07:08.036Z"
   },
   {
    "duration": 13,
    "start_time": "2022-05-13T12:07:08.405Z"
   },
   {
    "duration": 269,
    "start_time": "2022-05-13T12:07:08.420Z"
   },
   {
    "duration": 28,
    "start_time": "2022-05-13T12:07:08.692Z"
   },
   {
    "duration": 34,
    "start_time": "2022-05-13T12:07:08.741Z"
   },
   {
    "duration": 117,
    "start_time": "2022-05-13T12:07:08.777Z"
   },
   {
    "duration": 121,
    "start_time": "2022-05-13T12:07:08.896Z"
   },
   {
    "duration": 16,
    "start_time": "2022-05-13T12:07:09.019Z"
   },
   {
    "duration": 449,
    "start_time": "2022-05-13T12:07:09.037Z"
   },
   {
    "duration": 399,
    "start_time": "2022-05-13T12:07:09.489Z"
   },
   {
    "duration": 22,
    "start_time": "2022-05-13T12:07:09.890Z"
   },
   {
    "duration": 3138,
    "start_time": "2022-05-13T12:07:09.914Z"
   },
   {
    "duration": 12,
    "start_time": "2022-05-13T12:07:13.053Z"
   },
   {
    "duration": 156,
    "start_time": "2022-05-13T12:07:13.067Z"
   },
   {
    "duration": 77,
    "start_time": "2022-05-13T12:07:13.225Z"
   },
   {
    "duration": 41,
    "start_time": "2022-05-13T12:07:13.304Z"
   },
   {
    "duration": 7,
    "start_time": "2022-05-13T12:07:13.348Z"
   },
   {
    "duration": 12598,
    "start_time": "2022-05-13T12:07:13.356Z"
   },
   {
    "duration": 13,
    "start_time": "2022-05-13T12:07:25.956Z"
   },
   {
    "duration": 21,
    "start_time": "2022-05-13T12:07:25.971Z"
   },
   {
    "duration": 66,
    "start_time": "2022-05-13T12:07:25.994Z"
   },
   {
    "duration": 313,
    "start_time": "2022-05-13T12:07:26.066Z"
   },
   {
    "duration": 11,
    "start_time": "2022-05-13T12:07:26.381Z"
   },
   {
    "duration": 50,
    "start_time": "2022-05-13T12:07:26.394Z"
   },
   {
    "duration": 10,
    "start_time": "2022-05-13T12:07:26.446Z"
   },
   {
    "duration": 19,
    "start_time": "2022-05-13T12:07:26.458Z"
   },
   {
    "duration": 8,
    "start_time": "2022-05-13T12:07:26.479Z"
   },
   {
    "duration": 11,
    "start_time": "2022-05-13T12:07:26.489Z"
   },
   {
    "duration": 630,
    "start_time": "2022-05-13T12:07:26.502Z"
   },
   {
    "duration": 1170,
    "start_time": "2022-05-13T12:07:27.135Z"
   },
   {
    "duration": 615,
    "start_time": "2022-05-13T12:07:28.307Z"
   },
   {
    "duration": 12,
    "start_time": "2022-05-13T12:07:28.924Z"
   },
   {
    "duration": 246,
    "start_time": "2022-05-13T12:07:28.938Z"
   },
   {
    "duration": 382,
    "start_time": "2022-05-13T12:07:29.186Z"
   },
   {
    "duration": 3,
    "start_time": "2022-05-13T12:07:29.570Z"
   },
   {
    "duration": 6,
    "start_time": "2022-05-13T12:07:29.574Z"
   },
   {
    "duration": 8,
    "start_time": "2022-05-13T12:14:49.115Z"
   },
   {
    "duration": 1582,
    "start_time": "2022-05-13T12:14:49.125Z"
   },
   {
    "duration": 5020,
    "start_time": "2022-05-13T12:14:50.709Z"
   },
   {
    "duration": 538,
    "start_time": "2022-05-13T12:14:55.731Z"
   },
   {
    "duration": 1125,
    "start_time": "2022-05-13T12:14:56.272Z"
   },
   {
    "duration": 14,
    "start_time": "2022-05-13T12:14:57.399Z"
   },
   {
    "duration": 147,
    "start_time": "2022-05-13T12:14:57.415Z"
   },
   {
    "duration": 376,
    "start_time": "2022-05-13T12:14:57.564Z"
   },
   {
    "duration": 11,
    "start_time": "2022-05-13T12:14:57.942Z"
   },
   {
    "duration": 242,
    "start_time": "2022-05-13T12:14:57.955Z"
   },
   {
    "duration": 39,
    "start_time": "2022-05-13T12:14:58.200Z"
   },
   {
    "duration": 33,
    "start_time": "2022-05-13T12:14:58.241Z"
   },
   {
    "duration": 136,
    "start_time": "2022-05-13T12:14:58.276Z"
   },
   {
    "duration": 111,
    "start_time": "2022-05-13T12:14:58.414Z"
   },
   {
    "duration": 9,
    "start_time": "2022-05-13T12:14:58.533Z"
   },
   {
    "duration": 436,
    "start_time": "2022-05-13T12:14:58.544Z"
   },
   {
    "duration": 381,
    "start_time": "2022-05-13T12:14:58.982Z"
   },
   {
    "duration": 22,
    "start_time": "2022-05-13T12:14:59.365Z"
   },
   {
    "duration": 3170,
    "start_time": "2022-05-13T12:14:59.389Z"
   },
   {
    "duration": 148,
    "start_time": "2022-05-13T12:15:02.561Z"
   },
   {
    "duration": 79,
    "start_time": "2022-05-13T12:15:02.711Z"
   },
   {
    "duration": 19,
    "start_time": "2022-05-13T12:15:02.792Z"
   },
   {
    "duration": 25,
    "start_time": "2022-05-13T12:15:02.813Z"
   },
   {
    "duration": 11898,
    "start_time": "2022-05-13T12:15:02.840Z"
   },
   {
    "duration": 11,
    "start_time": "2022-05-13T12:15:14.740Z"
   },
   {
    "duration": 19,
    "start_time": "2022-05-13T12:15:14.753Z"
   },
   {
    "duration": 30,
    "start_time": "2022-05-13T12:15:14.774Z"
   },
   {
    "duration": 306,
    "start_time": "2022-05-13T12:15:14.806Z"
   },
   {
    "duration": 18,
    "start_time": "2022-05-13T12:15:15.116Z"
   },
   {
    "duration": 30,
    "start_time": "2022-05-13T12:15:15.136Z"
   },
   {
    "duration": 6,
    "start_time": "2022-05-13T12:15:15.167Z"
   },
   {
    "duration": 20,
    "start_time": "2022-05-13T12:15:15.175Z"
   },
   {
    "duration": 6,
    "start_time": "2022-05-13T12:15:15.197Z"
   },
   {
    "duration": 36,
    "start_time": "2022-05-13T12:15:15.205Z"
   },
   {
    "duration": 574,
    "start_time": "2022-05-13T12:15:15.243Z"
   },
   {
    "duration": 1082,
    "start_time": "2022-05-13T12:15:15.819Z"
   },
   {
    "duration": 577,
    "start_time": "2022-05-13T12:15:16.903Z"
   },
   {
    "duration": 6,
    "start_time": "2022-05-13T12:15:17.481Z"
   },
   {
    "duration": 239,
    "start_time": "2022-05-13T12:15:17.489Z"
   },
   {
    "duration": 355,
    "start_time": "2022-05-13T12:15:17.733Z"
   },
   {
    "duration": 3,
    "start_time": "2022-05-13T12:15:18.090Z"
   },
   {
    "duration": 6,
    "start_time": "2022-05-13T12:15:18.095Z"
   },
   {
    "duration": 12,
    "start_time": "2022-05-13T12:16:50.943Z"
   },
   {
    "duration": 1454,
    "start_time": "2022-05-13T12:16:50.958Z"
   },
   {
    "duration": 3171,
    "start_time": "2022-05-13T12:16:52.415Z"
   },
   {
    "duration": 551,
    "start_time": "2022-05-13T12:16:55.589Z"
   },
   {
    "duration": 1175,
    "start_time": "2022-05-13T12:16:56.142Z"
   },
   {
    "duration": 20,
    "start_time": "2022-05-13T12:16:57.319Z"
   },
   {
    "duration": 154,
    "start_time": "2022-05-13T12:16:57.341Z"
   },
   {
    "duration": 351,
    "start_time": "2022-05-13T12:16:57.497Z"
   },
   {
    "duration": 12,
    "start_time": "2022-05-13T12:16:57.850Z"
   },
   {
    "duration": 243,
    "start_time": "2022-05-13T12:16:57.865Z"
   },
   {
    "duration": 38,
    "start_time": "2022-05-13T12:16:58.109Z"
   },
   {
    "duration": 32,
    "start_time": "2022-05-13T12:16:58.149Z"
   },
   {
    "duration": 130,
    "start_time": "2022-05-13T12:16:58.182Z"
   },
   {
    "duration": 114,
    "start_time": "2022-05-13T12:16:58.314Z"
   },
   {
    "duration": 8,
    "start_time": "2022-05-13T12:16:58.433Z"
   },
   {
    "duration": 454,
    "start_time": "2022-05-13T12:16:58.443Z"
   },
   {
    "duration": 373,
    "start_time": "2022-05-13T12:16:58.899Z"
   },
   {
    "duration": 23,
    "start_time": "2022-05-13T12:16:59.274Z"
   },
   {
    "duration": 3124,
    "start_time": "2022-05-13T12:16:59.299Z"
   },
   {
    "duration": 150,
    "start_time": "2022-05-13T12:17:02.425Z"
   },
   {
    "duration": 83,
    "start_time": "2022-05-13T12:17:02.577Z"
   },
   {
    "duration": 19,
    "start_time": "2022-05-13T12:17:02.662Z"
   },
   {
    "duration": 6,
    "start_time": "2022-05-13T12:17:02.683Z"
   },
   {
    "duration": 11816,
    "start_time": "2022-05-13T12:17:02.691Z"
   },
   {
    "duration": 12,
    "start_time": "2022-05-13T12:17:14.509Z"
   },
   {
    "duration": 32,
    "start_time": "2022-05-13T12:17:14.523Z"
   },
   {
    "duration": 33,
    "start_time": "2022-05-13T12:17:14.557Z"
   },
   {
    "duration": 305,
    "start_time": "2022-05-13T12:17:14.593Z"
   },
   {
    "duration": 8,
    "start_time": "2022-05-13T12:17:14.900Z"
   },
   {
    "duration": 46,
    "start_time": "2022-05-13T12:17:14.910Z"
   },
   {
    "duration": 6,
    "start_time": "2022-05-13T12:17:14.957Z"
   },
   {
    "duration": 9,
    "start_time": "2022-05-13T12:17:14.965Z"
   },
   {
    "duration": 7,
    "start_time": "2022-05-13T12:17:14.975Z"
   },
   {
    "duration": 12,
    "start_time": "2022-05-13T12:17:14.983Z"
   },
   {
    "duration": 609,
    "start_time": "2022-05-13T12:17:14.997Z"
   },
   {
    "duration": 1122,
    "start_time": "2022-05-13T12:17:15.608Z"
   },
   {
    "duration": 594,
    "start_time": "2022-05-13T12:17:16.733Z"
   },
   {
    "duration": 7,
    "start_time": "2022-05-13T12:17:17.329Z"
   },
   {
    "duration": 233,
    "start_time": "2022-05-13T12:17:17.338Z"
   },
   {
    "duration": 362,
    "start_time": "2022-05-13T12:17:17.573Z"
   },
   {
    "duration": 4,
    "start_time": "2022-05-13T12:17:17.938Z"
   },
   {
    "duration": 16,
    "start_time": "2022-05-13T12:17:17.944Z"
   },
   {
    "duration": 1152591,
    "start_time": "2022-05-13T12:17:17.962Z"
   },
   {
    "duration": 146381,
    "start_time": "2022-05-13T12:36:30.554Z"
   },
   {
    "duration": 108,
    "start_time": "2022-05-13T12:38:56.937Z"
   },
   {
    "duration": 53,
    "start_time": "2022-05-13T12:38:57.047Z"
   },
   {
    "duration": 352,
    "start_time": "2022-05-13T12:38:57.101Z"
   },
   {
    "duration": 2344,
    "start_time": "2022-05-15T12:05:26.174Z"
   },
   {
    "duration": 5327,
    "start_time": "2022-05-15T12:05:36.174Z"
   },
   {
    "duration": 804,
    "start_time": "2022-05-15T12:05:41.504Z"
   },
   {
    "duration": 1605,
    "start_time": "2022-05-15T12:05:42.310Z"
   },
   {
    "duration": 24,
    "start_time": "2022-05-15T12:05:43.918Z"
   },
   {
    "duration": 284,
    "start_time": "2022-05-15T12:05:43.944Z"
   },
   {
    "duration": 657,
    "start_time": "2022-05-15T12:05:44.230Z"
   },
   {
    "duration": 36,
    "start_time": "2022-05-15T12:05:44.890Z"
   },
   {
    "duration": 532,
    "start_time": "2022-05-15T12:05:44.928Z"
   },
   {
    "duration": 63,
    "start_time": "2022-05-15T12:05:45.463Z"
   },
   {
    "duration": 58,
    "start_time": "2022-05-15T12:05:45.531Z"
   },
   {
    "duration": 197,
    "start_time": "2022-05-15T12:05:45.592Z"
   },
   {
    "duration": 219,
    "start_time": "2022-05-15T12:05:45.792Z"
   },
   {
    "duration": 16,
    "start_time": "2022-05-15T12:05:46.013Z"
   },
   {
    "duration": 569,
    "start_time": "2022-05-15T12:05:46.032Z"
   },
   {
    "duration": 783,
    "start_time": "2022-05-15T12:05:46.603Z"
   },
   {
    "duration": 56,
    "start_time": "2022-05-15T12:05:47.390Z"
   },
   {
    "duration": 6958,
    "start_time": "2022-05-15T12:05:47.449Z"
   },
   {
    "duration": 284,
    "start_time": "2022-05-15T12:05:54.411Z"
   },
   {
    "duration": 149,
    "start_time": "2022-05-15T12:05:54.698Z"
   },
   {
    "duration": 36,
    "start_time": "2022-05-15T12:05:54.850Z"
   },
   {
    "duration": 36,
    "start_time": "2022-05-15T12:05:54.889Z"
   },
   {
    "duration": 20814,
    "start_time": "2022-05-15T12:05:54.929Z"
   },
   {
    "duration": 16,
    "start_time": "2022-05-15T12:06:15.745Z"
   },
   {
    "duration": 31,
    "start_time": "2022-05-15T12:06:15.764Z"
   },
   {
    "duration": 52,
    "start_time": "2022-05-15T12:06:15.825Z"
   },
   {
    "duration": 486,
    "start_time": "2022-05-15T12:06:15.879Z"
   },
   {
    "duration": 12,
    "start_time": "2022-05-15T12:06:16.367Z"
   },
   {
    "duration": 79,
    "start_time": "2022-05-15T12:06:16.381Z"
   },
   {
    "duration": 8,
    "start_time": "2022-05-15T12:06:16.462Z"
   },
   {
    "duration": 11,
    "start_time": "2022-05-15T12:06:16.472Z"
   },
   {
    "duration": 42,
    "start_time": "2022-05-15T12:06:16.485Z"
   },
   {
    "duration": 14,
    "start_time": "2022-05-15T12:06:16.529Z"
   },
   {
    "duration": 670,
    "start_time": "2022-05-15T12:06:16.545Z"
   },
   {
    "duration": 123,
    "start_time": "2022-05-15T12:06:17.219Z"
   },
   {
    "duration": 2119,
    "start_time": "2022-05-15T12:08:26.380Z"
   },
   {
    "duration": 80,
    "start_time": "2022-05-15T12:08:56.554Z"
   },
   {
    "duration": 13,
    "start_time": "2022-05-15T12:09:48.294Z"
   },
   {
    "duration": 2023,
    "start_time": "2022-05-15T12:11:16.522Z"
   },
   {
    "duration": 4,
    "start_time": "2022-05-15T12:12:00.291Z"
   },
   {
    "duration": 6,
    "start_time": "2022-05-15T12:12:01.326Z"
   },
   {
    "duration": 6914,
    "start_time": "2022-05-15T12:12:01.665Z"
   },
   {
    "duration": 788,
    "start_time": "2022-05-15T12:12:08.582Z"
   },
   {
    "duration": 1678,
    "start_time": "2022-05-15T12:12:09.372Z"
   },
   {
    "duration": 7,
    "start_time": "2022-05-15T12:12:11.053Z"
   },
   {
    "duration": 11,
    "start_time": "2022-05-15T12:12:25.066Z"
   },
   {
    "duration": 12,
    "start_time": "2022-05-15T12:13:44.948Z"
   },
   {
    "duration": 233,
    "start_time": "2022-05-15T12:18:00.628Z"
   },
   {
    "duration": 5595,
    "start_time": "2022-05-15T12:22:32.470Z"
   },
   {
    "duration": 792,
    "start_time": "2022-05-15T12:22:38.068Z"
   },
   {
    "duration": 4,
    "start_time": "2022-05-15T12:23:48.820Z"
   },
   {
    "duration": 6,
    "start_time": "2022-05-15T12:23:49.766Z"
   },
   {
    "duration": 2062,
    "start_time": "2022-05-15T12:23:50.115Z"
   },
   {
    "duration": 760,
    "start_time": "2022-05-15T12:23:52.181Z"
   },
   {
    "duration": 1634,
    "start_time": "2022-05-15T12:23:52.944Z"
   },
   {
    "duration": 21,
    "start_time": "2022-05-15T12:23:54.581Z"
   },
   {
    "duration": 181,
    "start_time": "2022-05-15T12:23:54.626Z"
   },
   {
    "duration": 424,
    "start_time": "2022-05-15T12:23:54.809Z"
   },
   {
    "duration": 18,
    "start_time": "2022-05-15T12:23:55.238Z"
   },
   {
    "duration": 11,
    "start_time": "2022-05-15T12:23:55.258Z"
   },
   {
    "duration": 357,
    "start_time": "2022-05-15T12:23:55.272Z"
   },
   {
    "duration": 41,
    "start_time": "2022-05-15T12:23:55.633Z"
   },
   {
    "duration": 49,
    "start_time": "2022-05-15T12:23:56.007Z"
   },
   {
    "duration": 132,
    "start_time": "2022-05-15T12:23:56.689Z"
   },
   {
    "duration": 135,
    "start_time": "2022-05-15T12:23:58.237Z"
   },
   {
    "duration": 150,
    "start_time": "2022-05-15T12:24:25.168Z"
   },
   {
    "duration": 14,
    "start_time": "2022-05-15T12:24:35.392Z"
   },
   {
    "duration": 361,
    "start_time": "2022-05-15T12:24:35.956Z"
   },
   {
    "duration": 481,
    "start_time": "2022-05-15T12:24:36.424Z"
   },
   {
    "duration": 31,
    "start_time": "2022-05-15T12:24:37.459Z"
   },
   {
    "duration": 4849,
    "start_time": "2022-05-15T12:24:37.931Z"
   },
   {
    "duration": 268,
    "start_time": "2022-05-15T12:24:44.030Z"
   },
   {
    "duration": 102,
    "start_time": "2022-05-15T12:24:44.609Z"
   },
   {
    "duration": 35,
    "start_time": "2022-05-15T12:24:45.214Z"
   },
   {
    "duration": 8,
    "start_time": "2022-05-15T12:24:45.840Z"
   },
   {
    "duration": 21473,
    "start_time": "2022-05-15T12:24:46.482Z"
   },
   {
    "duration": 17,
    "start_time": "2022-05-15T12:25:07.958Z"
   },
   {
    "duration": 56,
    "start_time": "2022-05-15T12:25:07.978Z"
   },
   {
    "duration": 54,
    "start_time": "2022-05-15T12:25:08.038Z"
   },
   {
    "duration": 389,
    "start_time": "2022-05-15T12:25:08.094Z"
   },
   {
    "duration": 11,
    "start_time": "2022-05-15T12:25:08.485Z"
   },
   {
    "duration": 73,
    "start_time": "2022-05-15T12:25:08.498Z"
   },
   {
    "duration": 8,
    "start_time": "2022-05-15T12:25:08.574Z"
   },
   {
    "duration": 18,
    "start_time": "2022-05-15T12:25:08.585Z"
   },
   {
    "duration": 9,
    "start_time": "2022-05-15T12:25:08.627Z"
   },
   {
    "duration": 19,
    "start_time": "2022-05-15T12:25:08.638Z"
   },
   {
    "duration": 657,
    "start_time": "2022-05-15T12:25:08.660Z"
   },
   {
    "duration": 119,
    "start_time": "2022-05-15T12:25:09.319Z"
   },
   {
    "duration": 103,
    "start_time": "2022-05-15T12:25:09.440Z"
   },
   {
    "duration": 553,
    "start_time": "2022-05-15T12:25:48.514Z"
   },
   {
    "duration": 473,
    "start_time": "2022-05-15T12:27:48.935Z"
   },
   {
    "duration": 457,
    "start_time": "2022-05-15T12:32:13.709Z"
   },
   {
    "duration": 226,
    "start_time": "2022-05-15T12:32:32.316Z"
   },
   {
    "duration": 442,
    "start_time": "2022-05-15T12:32:47.779Z"
   },
   {
    "duration": 1416,
    "start_time": "2022-05-15T12:38:28.013Z"
   },
   {
    "duration": 15,
    "start_time": "2022-05-15T12:41:23.423Z"
   },
   {
    "duration": 2066,
    "start_time": "2022-05-15T12:41:42.798Z"
   },
   {
    "duration": 2215,
    "start_time": "2022-05-15T12:41:46.252Z"
   },
   {
    "duration": 124829,
    "start_time": "2022-05-15T12:42:01.714Z"
   },
   {
    "duration": 12,
    "start_time": "2022-05-15T12:44:49.351Z"
   },
   {
    "duration": 6,
    "start_time": "2022-05-15T12:45:24.375Z"
   },
   {
    "duration": 12,
    "start_time": "2022-05-15T12:45:41.723Z"
   },
   {
    "duration": 1057,
    "start_time": "2022-05-15T12:46:10.114Z"
   },
   {
    "duration": 246,
    "start_time": "2022-05-15T12:48:20.518Z"
   },
   {
    "duration": 286,
    "start_time": "2022-05-15T12:48:31.538Z"
   },
   {
    "duration": 380,
    "start_time": "2022-05-15T12:48:50.564Z"
   },
   {
    "duration": 262,
    "start_time": "2022-05-15T12:48:59.626Z"
   },
   {
    "duration": 228,
    "start_time": "2022-05-15T12:49:03.387Z"
   },
   {
    "duration": 350,
    "start_time": "2022-05-15T12:49:10.099Z"
   },
   {
    "duration": 388,
    "start_time": "2022-05-15T12:50:11.240Z"
   },
   {
    "duration": 492,
    "start_time": "2022-05-15T12:51:18.338Z"
   },
   {
    "duration": 2524,
    "start_time": "2022-05-15T12:52:12.315Z"
   },
   {
    "duration": 465,
    "start_time": "2022-05-15T12:52:35.302Z"
   },
   {
    "duration": 534,
    "start_time": "2022-05-15T12:52:57.972Z"
   },
   {
    "duration": 441,
    "start_time": "2022-05-15T12:53:06.892Z"
   },
   {
    "duration": 439,
    "start_time": "2022-05-15T12:53:49.371Z"
   },
   {
    "duration": 19,
    "start_time": "2022-05-15T12:54:24.439Z"
   },
   {
    "duration": 495,
    "start_time": "2022-05-15T12:56:11.582Z"
   },
   {
    "duration": 22,
    "start_time": "2022-05-15T12:59:11.701Z"
   },
   {
    "duration": 15,
    "start_time": "2022-05-15T13:14:46.400Z"
   },
   {
    "duration": 13,
    "start_time": "2022-05-15T13:14:56.790Z"
   },
   {
    "duration": 24,
    "start_time": "2022-05-15T13:15:06.458Z"
   },
   {
    "duration": 28,
    "start_time": "2022-05-15T13:16:00.921Z"
   },
   {
    "duration": 34,
    "start_time": "2022-05-15T13:16:51.716Z"
   },
   {
    "duration": 21,
    "start_time": "2022-05-15T13:17:31.752Z"
   },
   {
    "duration": 96,
    "start_time": "2022-05-15T13:26:40.256Z"
   },
   {
    "duration": 14,
    "start_time": "2022-05-15T13:27:01.799Z"
   },
   {
    "duration": 13,
    "start_time": "2022-05-15T13:27:21.616Z"
   },
   {
    "duration": 16,
    "start_time": "2022-05-15T13:27:31.719Z"
   },
   {
    "duration": 4,
    "start_time": "2022-05-15T13:28:50.781Z"
   },
   {
    "duration": 5,
    "start_time": "2022-05-15T13:28:51.830Z"
   },
   {
    "duration": 1996,
    "start_time": "2022-05-15T13:28:52.124Z"
   },
   {
    "duration": 672,
    "start_time": "2022-05-15T13:28:54.125Z"
   },
   {
    "duration": 1538,
    "start_time": "2022-05-15T13:28:54.799Z"
   },
   {
    "duration": 21,
    "start_time": "2022-05-15T13:28:56.341Z"
   },
   {
    "duration": 186,
    "start_time": "2022-05-15T13:28:56.366Z"
   },
   {
    "duration": 383,
    "start_time": "2022-05-15T13:28:56.555Z"
   },
   {
    "duration": 19,
    "start_time": "2022-05-15T13:28:56.941Z"
   },
   {
    "duration": 13,
    "start_time": "2022-05-15T13:28:56.963Z"
   },
   {
    "duration": 332,
    "start_time": "2022-05-15T13:28:56.979Z"
   },
   {
    "duration": 48,
    "start_time": "2022-05-15T13:28:57.314Z"
   },
   {
    "duration": 60,
    "start_time": "2022-05-15T13:28:57.365Z"
   },
   {
    "duration": 153,
    "start_time": "2022-05-15T13:28:57.427Z"
   },
   {
    "duration": 123,
    "start_time": "2022-05-15T13:28:57.656Z"
   },
   {
    "duration": 13,
    "start_time": "2022-05-15T13:28:58.150Z"
   },
   {
    "duration": 423,
    "start_time": "2022-05-15T13:28:58.504Z"
   },
   {
    "duration": 494,
    "start_time": "2022-05-15T13:28:58.930Z"
   },
   {
    "duration": 33,
    "start_time": "2022-05-15T13:29:03.969Z"
   },
   {
    "duration": 4911,
    "start_time": "2022-05-15T13:29:04.161Z"
   },
   {
    "duration": 214,
    "start_time": "2022-05-15T13:29:09.075Z"
   },
   {
    "duration": 23,
    "start_time": "2022-05-15T13:29:58.995Z"
   },
   {
    "duration": 460,
    "start_time": "2022-05-15T13:29:59.638Z"
   },
   {
    "duration": 444,
    "start_time": "2022-05-15T13:30:00.572Z"
   },
   {
    "duration": 20,
    "start_time": "2022-05-15T13:30:01.412Z"
   },
   {
    "duration": 66,
    "start_time": "2022-05-15T13:30:03.247Z"
   },
   {
    "duration": 102,
    "start_time": "2022-05-15T13:30:16.967Z"
   },
   {
    "duration": 68,
    "start_time": "2022-05-15T13:30:23.234Z"
   },
   {
    "duration": 74,
    "start_time": "2022-05-15T13:30:51.988Z"
   },
   {
    "duration": 3,
    "start_time": "2022-05-15T13:31:15.537Z"
   },
   {
    "duration": 6,
    "start_time": "2022-05-15T13:31:16.315Z"
   },
   {
    "duration": 3352,
    "start_time": "2022-05-15T13:31:16.579Z"
   },
   {
    "duration": 637,
    "start_time": "2022-05-15T13:31:19.934Z"
   },
   {
    "duration": 1472,
    "start_time": "2022-05-15T13:31:20.574Z"
   },
   {
    "duration": 22,
    "start_time": "2022-05-15T13:31:22.048Z"
   },
   {
    "duration": 183,
    "start_time": "2022-05-15T13:31:22.073Z"
   },
   {
    "duration": 387,
    "start_time": "2022-05-15T13:31:22.259Z"
   },
   {
    "duration": 21,
    "start_time": "2022-05-15T13:31:22.649Z"
   },
   {
    "duration": 11,
    "start_time": "2022-05-15T13:31:22.672Z"
   },
   {
    "duration": 288,
    "start_time": "2022-05-15T13:31:23.266Z"
   },
   {
    "duration": 38,
    "start_time": "2022-05-15T13:31:24.274Z"
   },
   {
    "duration": 44,
    "start_time": "2022-05-15T13:31:25.458Z"
   },
   {
    "duration": 148,
    "start_time": "2022-05-15T13:31:26.442Z"
   },
   {
    "duration": 124,
    "start_time": "2022-05-15T13:31:28.244Z"
   },
   {
    "duration": 14,
    "start_time": "2022-05-15T13:31:29.341Z"
   },
   {
    "duration": 391,
    "start_time": "2022-05-15T13:31:29.855Z"
   },
   {
    "duration": 486,
    "start_time": "2022-05-15T13:31:30.331Z"
   },
   {
    "duration": 31,
    "start_time": "2022-05-15T13:31:32.884Z"
   },
   {
    "duration": 4749,
    "start_time": "2022-05-15T13:31:33.138Z"
   },
   {
    "duration": 220,
    "start_time": "2022-05-15T13:31:37.890Z"
   },
   {
    "duration": 119,
    "start_time": "2022-05-15T13:31:38.112Z"
   },
   {
    "duration": 35,
    "start_time": "2022-05-15T13:31:38.233Z"
   },
   {
    "duration": 7,
    "start_time": "2022-05-15T13:31:38.353Z"
   },
   {
    "duration": 22829,
    "start_time": "2022-05-15T13:31:40.204Z"
   },
   {
    "duration": 16,
    "start_time": "2022-05-15T13:32:03.036Z"
   },
   {
    "duration": 32,
    "start_time": "2022-05-15T13:32:03.054Z"
   },
   {
    "duration": 83,
    "start_time": "2022-05-15T13:32:03.089Z"
   },
   {
    "duration": 404,
    "start_time": "2022-05-15T13:32:03.174Z"
   },
   {
    "duration": 12,
    "start_time": "2022-05-15T13:32:03.581Z"
   },
   {
    "duration": 76,
    "start_time": "2022-05-15T13:32:03.595Z"
   },
   {
    "duration": 8,
    "start_time": "2022-05-15T13:32:03.674Z"
   },
   {
    "duration": 42,
    "start_time": "2022-05-15T13:32:03.685Z"
   },
   {
    "duration": 462,
    "start_time": "2022-05-15T13:32:07.948Z"
   },
   {
    "duration": 442,
    "start_time": "2022-05-15T13:32:09.671Z"
   },
   {
    "duration": 22,
    "start_time": "2022-05-15T13:32:19.240Z"
   },
   {
    "duration": 101,
    "start_time": "2022-05-15T13:32:20.782Z"
   },
   {
    "duration": 107,
    "start_time": "2022-05-15T13:32:53.808Z"
   },
   {
    "duration": 64,
    "start_time": "2022-05-15T13:33:02.004Z"
   },
   {
    "duration": 32,
    "start_time": "2022-05-15T13:33:05.171Z"
   },
   {
    "duration": 19,
    "start_time": "2022-05-15T13:33:15.820Z"
   },
   {
    "duration": 106,
    "start_time": "2022-05-15T13:33:19.541Z"
   },
   {
    "duration": 71,
    "start_time": "2022-05-15T13:35:04.228Z"
   },
   {
    "duration": 101,
    "start_time": "2022-05-15T13:35:05.746Z"
   },
   {
    "duration": 2052,
    "start_time": "2022-05-15T13:35:27.482Z"
   },
   {
    "duration": 8,
    "start_time": "2022-05-15T13:35:39.379Z"
   },
   {
    "duration": 2142,
    "start_time": "2022-05-15T13:35:45.450Z"
   },
   {
    "duration": 106,
    "start_time": "2022-05-15T13:35:56.226Z"
   },
   {
    "duration": 101,
    "start_time": "2022-05-15T13:36:24.666Z"
   },
   {
    "duration": 3482,
    "start_time": "2022-05-15T13:36:28.553Z"
   },
   {
    "duration": 120,
    "start_time": "2022-05-15T13:36:44.667Z"
   },
   {
    "duration": 106,
    "start_time": "2022-05-15T13:36:45.860Z"
   },
   {
    "duration": 2251,
    "start_time": "2022-05-15T13:36:46.820Z"
   },
   {
    "duration": 99,
    "start_time": "2022-05-15T13:36:58.978Z"
   },
   {
    "duration": 111,
    "start_time": "2022-05-15T13:37:01.896Z"
   },
   {
    "duration": 8,
    "start_time": "2022-05-15T13:37:04.272Z"
   },
   {
    "duration": 21,
    "start_time": "2022-05-15T13:37:35.186Z"
   },
   {
    "duration": 15,
    "start_time": "2022-05-15T13:38:30.339Z"
   },
   {
    "duration": 623,
    "start_time": "2022-05-15T13:38:30.745Z"
   },
   {
    "duration": 66,
    "start_time": "2022-05-15T13:38:32.019Z"
   },
   {
    "duration": 480,
    "start_time": "2022-05-15T13:38:32.971Z"
   },
   {
    "duration": 1056,
    "start_time": "2022-05-15T13:38:53.393Z"
   },
   {
    "duration": 928,
    "start_time": "2022-05-15T13:38:58.521Z"
   },
   {
    "duration": 325,
    "start_time": "2022-05-15T13:40:15.135Z"
   },
   {
    "duration": 0,
    "start_time": "2022-05-15T13:44:14.095Z"
   },
   {
    "duration": 2056,
    "start_time": "2022-05-15T13:44:27.548Z"
   },
   {
    "duration": 15,
    "start_time": "2022-05-15T13:44:50.774Z"
   },
   {
    "duration": 1033,
    "start_time": "2022-05-15T13:44:59.215Z"
   },
   {
    "duration": 8,
    "start_time": "2022-05-18T11:58:37.848Z"
   },
   {
    "duration": 1601,
    "start_time": "2022-05-18T11:58:39.012Z"
   },
   {
    "duration": 2301,
    "start_time": "2022-05-18T11:58:40.615Z"
   },
   {
    "duration": 522,
    "start_time": "2022-05-18T11:58:42.918Z"
   },
   {
    "duration": 1043,
    "start_time": "2022-05-18T11:58:43.442Z"
   },
   {
    "duration": 977,
    "start_time": "2022-05-18T11:58:47.672Z"
   },
   {
    "duration": 26,
    "start_time": "2022-05-18T11:58:48.651Z"
   },
   {
    "duration": 136,
    "start_time": "2022-05-18T11:58:48.761Z"
   },
   {
    "duration": 315,
    "start_time": "2022-05-18T11:58:51.971Z"
   },
   {
    "duration": 10,
    "start_time": "2022-05-18T11:58:52.298Z"
   },
   {
    "duration": 13,
    "start_time": "2022-05-18T11:58:55.976Z"
   },
   {
    "duration": 225,
    "start_time": "2022-05-18T11:58:57.577Z"
   },
   {
    "duration": 31,
    "start_time": "2022-05-18T11:59:03.155Z"
   },
   {
    "duration": 29,
    "start_time": "2022-05-18T11:59:05.128Z"
   },
   {
    "duration": 8,
    "start_time": "2022-05-18T11:59:05.474Z"
   },
   {
    "duration": 147,
    "start_time": "2022-05-18T11:59:08.165Z"
   },
   {
    "duration": 108,
    "start_time": "2022-05-18T11:59:08.879Z"
   },
   {
    "duration": 39,
    "start_time": "2022-05-18T11:59:12.242Z"
   },
   {
    "duration": 41,
    "start_time": "2022-05-18T11:59:12.455Z"
   },
   {
    "duration": 122,
    "start_time": "2022-05-18T11:59:15.548Z"
   },
   {
    "duration": 127,
    "start_time": "2022-05-18T11:59:15.765Z"
   },
   {
    "duration": 150,
    "start_time": "2022-05-18T11:59:28.019Z"
   },
   {
    "duration": 9,
    "start_time": "2022-05-18T11:59:29.110Z"
   },
   {
    "duration": 250,
    "start_time": "2022-05-18T11:59:32.401Z"
   },
   {
    "duration": 402,
    "start_time": "2022-05-18T11:59:32.888Z"
   },
   {
    "duration": 17,
    "start_time": "2022-05-18T11:59:36.402Z"
   },
   {
    "duration": 2961,
    "start_time": "2022-05-18T11:59:36.908Z"
   },
   {
    "duration": 135,
    "start_time": "2022-05-18T11:59:44.269Z"
   },
   {
    "duration": 74,
    "start_time": "2022-05-18T11:59:44.659Z"
   },
   {
    "duration": 27,
    "start_time": "2022-05-18T11:59:45.041Z"
   },
   {
    "duration": 11,
    "start_time": "2022-05-18T11:59:47.652Z"
   },
   {
    "duration": 11948,
    "start_time": "2022-05-18T11:59:48.165Z"
   },
   {
    "duration": 10,
    "start_time": "2022-05-18T12:00:00.116Z"
   },
   {
    "duration": 47,
    "start_time": "2022-05-18T12:00:00.129Z"
   },
   {
    "duration": 26,
    "start_time": "2022-05-18T12:00:00.178Z"
   },
   {
    "duration": 239,
    "start_time": "2022-05-18T12:00:04.986Z"
   },
   {
    "duration": 8,
    "start_time": "2022-05-18T12:00:06.096Z"
   },
   {
    "duration": 27,
    "start_time": "2022-05-18T12:00:06.612Z"
   },
   {
    "duration": 83,
    "start_time": "2022-05-18T12:00:08.606Z"
   },
   {
    "duration": 34,
    "start_time": "2022-05-18T12:00:08.940Z"
   },
   {
    "duration": 7,
    "start_time": "2022-05-18T12:00:14.726Z"
   },
   {
    "duration": 10,
    "start_time": "2022-05-18T12:00:15.214Z"
   },
   {
    "duration": 479,
    "start_time": "2022-05-18T12:00:15.458Z"
   },
   {
    "duration": 61,
    "start_time": "2022-05-18T12:00:18.582Z"
   },
   {
    "duration": 29,
    "start_time": "2022-05-18T12:00:22.679Z"
   },
   {
    "duration": 333,
    "start_time": "2022-05-18T12:00:22.944Z"
   },
   {
    "duration": 1023,
    "start_time": "2022-05-18T12:00:27.976Z"
   },
   {
    "duration": 609,
    "start_time": "2022-05-18T12:00:29.001Z"
   },
   {
    "duration": 6,
    "start_time": "2022-05-18T12:00:32.340Z"
   },
   {
    "duration": 231,
    "start_time": "2022-05-18T12:00:33.472Z"
   },
   {
    "duration": 197,
    "start_time": "2022-05-18T12:00:34.555Z"
   },
   {
    "duration": 3,
    "start_time": "2022-05-18T12:00:38.843Z"
   },
   {
    "duration": 230604,
    "start_time": "2022-05-18T12:00:58.172Z"
   },
   {
    "duration": 92,
    "start_time": "2022-05-18T12:04:48.780Z"
   },
   {
    "duration": 13,
    "start_time": "2022-05-18T12:04:48.880Z"
   }
  ],
  "kernelspec": {
   "display_name": "Python 3",
   "language": "python",
   "name": "python3"
  },
  "language_info": {
   "codemirror_mode": {
    "name": "ipython",
    "version": 3
   },
   "file_extension": ".py",
   "mimetype": "text/x-python",
   "name": "python",
   "nbconvert_exporter": "python",
   "pygments_lexer": "ipython3",
   "version": "3.8.8"
  },
  "toc": {
   "base_numbering": 1,
   "nav_menu": {},
   "number_sections": true,
   "sideBar": true,
   "skip_h1_title": true,
   "title_cell": "Table of Contents",
   "title_sidebar": "Contents",
   "toc_cell": false,
   "toc_position": {},
   "toc_section_display": true,
   "toc_window_display": false
  }
 },
 "nbformat": 4,
 "nbformat_minor": 2
}
