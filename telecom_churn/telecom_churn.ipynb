{
 "cells": [
  {
   "cell_type": "markdown",
   "id": "4df3031d",
   "metadata": {},
   "source": [
    "# Прогноз оттока клиентов"
   ]
  },
  {
   "cell_type": "markdown",
   "id": "6b17ebf8",
   "metadata": {},
   "source": [
    "**Задача исследования** - посторить модель машинного обучения, предсказывающую отток клиентов телеком-компании.\n",
    "\n",
    "В нашем распоряжении персональные данные о некоторых клиентах, информация об их тарифах и договорах. Целевая метрика - AUC-ROC."
   ]
  },
  {
   "cell_type": "markdown",
   "id": "1badd4f3",
   "metadata": {},
   "source": [
    "## Содержание"
   ]
  },
  {
   "cell_type": "markdown",
   "id": "e4860b2c",
   "metadata": {},
   "source": [
    "1. [Предобработка данных](#start)\n",
    "2. [Исследовательский анализ данных](#EDA)\n",
    "    * 2.1 [Выводы исследовательского анализа данных](#EDA_result)\n",
    "3. [Обучение моделей](#model)\n",
    "    * 3.1 [Логистическая регрессия](#regression)\n",
    "    * 3.2 [Градиентный бустинг LGBM](#lgbm)\n",
    "    * 3.3 [Случайный лес](#forest)\n",
    "4. [Проверка моделей](#test)\n",
    "5. [Выводы](#conclusion)"
   ]
  },
  {
   "cell_type": "markdown",
   "id": "b028bf99",
   "metadata": {},
   "source": [
    "## Предобработка данных <a id=\"start\"></a>"
   ]
  },
  {
   "cell_type": "code",
   "execution_count": 1,
   "id": "bf2da608",
   "metadata": {},
   "outputs": [],
   "source": [
    "import pandas as pd\n",
    "import numpy as np\n",
    "import seaborn as sns\n",
    "import matplotlib.pyplot as plt\n",
    "\n",
    "from sklearn.model_selection import train_test_split\n",
    "from sklearn.model_selection import GridSearchCV\n",
    "from sklearn.model_selection import cross_val_score\n",
    "\n",
    "from sklearn.metrics import f1_score\n",
    "from sklearn.metrics import roc_auc_score\n",
    "from sklearn.metrics import make_scorer\n",
    "\n",
    "from sklearn.ensemble import RandomForestClassifier\n",
    "from sklearn.linear_model import LogisticRegression\n",
    "import lightgbm as lgb"
   ]
  },
  {
   "cell_type": "code",
   "execution_count": 2,
   "id": "3f28830a",
   "metadata": {},
   "outputs": [],
   "source": [
    "import warnings\n",
    "warnings.filterwarnings('ignore')"
   ]
  },
  {
   "cell_type": "code",
   "execution_count": 3,
   "id": "8d2145cd",
   "metadata": {},
   "outputs": [],
   "source": [
    "contract = pd.read_csv('C:/Downloads/dataset/final_provider/contract.csv')\n",
    "internet = pd.read_csv('C:/Downloads/dataset/final_provider/internet.csv')\n",
    "personal = pd.read_csv('C:/Downloads/dataset/final_provider/personal.csv')\n",
    "phone = pd.read_csv('C:/Downloads/dataset/final_provider/phone.csv')"
   ]
  },
  {
   "cell_type": "code",
   "execution_count": 4,
   "id": "de7b4b31",
   "metadata": {},
   "outputs": [
    {
     "data": {
      "text/html": [
       "<div>\n",
       "<style scoped>\n",
       "    .dataframe tbody tr th:only-of-type {\n",
       "        vertical-align: middle;\n",
       "    }\n",
       "\n",
       "    .dataframe tbody tr th {\n",
       "        vertical-align: top;\n",
       "    }\n",
       "\n",
       "    .dataframe thead th {\n",
       "        text-align: right;\n",
       "    }\n",
       "</style>\n",
       "<table border=\"1\" class=\"dataframe\">\n",
       "  <thead>\n",
       "    <tr style=\"text-align: right;\">\n",
       "      <th></th>\n",
       "      <th>customerID</th>\n",
       "      <th>BeginDate</th>\n",
       "      <th>EndDate</th>\n",
       "      <th>Type</th>\n",
       "      <th>PaperlessBilling</th>\n",
       "      <th>PaymentMethod</th>\n",
       "      <th>MonthlyCharges</th>\n",
       "      <th>TotalCharges</th>\n",
       "    </tr>\n",
       "  </thead>\n",
       "  <tbody>\n",
       "    <tr>\n",
       "      <th>0</th>\n",
       "      <td>7590-VHVEG</td>\n",
       "      <td>2020-01-01</td>\n",
       "      <td>No</td>\n",
       "      <td>Month-to-month</td>\n",
       "      <td>Yes</td>\n",
       "      <td>Electronic check</td>\n",
       "      <td>29.85</td>\n",
       "      <td>29.85</td>\n",
       "    </tr>\n",
       "    <tr>\n",
       "      <th>1</th>\n",
       "      <td>5575-GNVDE</td>\n",
       "      <td>2017-04-01</td>\n",
       "      <td>No</td>\n",
       "      <td>One year</td>\n",
       "      <td>No</td>\n",
       "      <td>Mailed check</td>\n",
       "      <td>56.95</td>\n",
       "      <td>1889.5</td>\n",
       "    </tr>\n",
       "    <tr>\n",
       "      <th>2</th>\n",
       "      <td>3668-QPYBK</td>\n",
       "      <td>2019-10-01</td>\n",
       "      <td>2019-12-01 00:00:00</td>\n",
       "      <td>Month-to-month</td>\n",
       "      <td>Yes</td>\n",
       "      <td>Mailed check</td>\n",
       "      <td>53.85</td>\n",
       "      <td>108.15</td>\n",
       "    </tr>\n",
       "    <tr>\n",
       "      <th>3</th>\n",
       "      <td>7795-CFOCW</td>\n",
       "      <td>2016-05-01</td>\n",
       "      <td>No</td>\n",
       "      <td>One year</td>\n",
       "      <td>No</td>\n",
       "      <td>Bank transfer (automatic)</td>\n",
       "      <td>42.30</td>\n",
       "      <td>1840.75</td>\n",
       "    </tr>\n",
       "    <tr>\n",
       "      <th>4</th>\n",
       "      <td>9237-HQITU</td>\n",
       "      <td>2019-09-01</td>\n",
       "      <td>2019-11-01 00:00:00</td>\n",
       "      <td>Month-to-month</td>\n",
       "      <td>Yes</td>\n",
       "      <td>Electronic check</td>\n",
       "      <td>70.70</td>\n",
       "      <td>151.65</td>\n",
       "    </tr>\n",
       "    <tr>\n",
       "      <th>...</th>\n",
       "      <td>...</td>\n",
       "      <td>...</td>\n",
       "      <td>...</td>\n",
       "      <td>...</td>\n",
       "      <td>...</td>\n",
       "      <td>...</td>\n",
       "      <td>...</td>\n",
       "      <td>...</td>\n",
       "    </tr>\n",
       "    <tr>\n",
       "      <th>7038</th>\n",
       "      <td>6840-RESVB</td>\n",
       "      <td>2018-02-01</td>\n",
       "      <td>No</td>\n",
       "      <td>One year</td>\n",
       "      <td>Yes</td>\n",
       "      <td>Mailed check</td>\n",
       "      <td>84.80</td>\n",
       "      <td>1990.5</td>\n",
       "    </tr>\n",
       "    <tr>\n",
       "      <th>7039</th>\n",
       "      <td>2234-XADUH</td>\n",
       "      <td>2014-02-01</td>\n",
       "      <td>No</td>\n",
       "      <td>One year</td>\n",
       "      <td>Yes</td>\n",
       "      <td>Credit card (automatic)</td>\n",
       "      <td>103.20</td>\n",
       "      <td>7362.9</td>\n",
       "    </tr>\n",
       "    <tr>\n",
       "      <th>7040</th>\n",
       "      <td>4801-JZAZL</td>\n",
       "      <td>2019-03-01</td>\n",
       "      <td>No</td>\n",
       "      <td>Month-to-month</td>\n",
       "      <td>Yes</td>\n",
       "      <td>Electronic check</td>\n",
       "      <td>29.60</td>\n",
       "      <td>346.45</td>\n",
       "    </tr>\n",
       "    <tr>\n",
       "      <th>7041</th>\n",
       "      <td>8361-LTMKD</td>\n",
       "      <td>2019-07-01</td>\n",
       "      <td>2019-11-01 00:00:00</td>\n",
       "      <td>Month-to-month</td>\n",
       "      <td>Yes</td>\n",
       "      <td>Mailed check</td>\n",
       "      <td>74.40</td>\n",
       "      <td>306.6</td>\n",
       "    </tr>\n",
       "    <tr>\n",
       "      <th>7042</th>\n",
       "      <td>3186-AJIEK</td>\n",
       "      <td>2014-08-01</td>\n",
       "      <td>No</td>\n",
       "      <td>Two year</td>\n",
       "      <td>Yes</td>\n",
       "      <td>Bank transfer (automatic)</td>\n",
       "      <td>105.65</td>\n",
       "      <td>6844.5</td>\n",
       "    </tr>\n",
       "  </tbody>\n",
       "</table>\n",
       "<p>7043 rows × 8 columns</p>\n",
       "</div>"
      ],
      "text/plain": [
       "      customerID   BeginDate              EndDate            Type  \\\n",
       "0     7590-VHVEG  2020-01-01                   No  Month-to-month   \n",
       "1     5575-GNVDE  2017-04-01                   No        One year   \n",
       "2     3668-QPYBK  2019-10-01  2019-12-01 00:00:00  Month-to-month   \n",
       "3     7795-CFOCW  2016-05-01                   No        One year   \n",
       "4     9237-HQITU  2019-09-01  2019-11-01 00:00:00  Month-to-month   \n",
       "...          ...         ...                  ...             ...   \n",
       "7038  6840-RESVB  2018-02-01                   No        One year   \n",
       "7039  2234-XADUH  2014-02-01                   No        One year   \n",
       "7040  4801-JZAZL  2019-03-01                   No  Month-to-month   \n",
       "7041  8361-LTMKD  2019-07-01  2019-11-01 00:00:00  Month-to-month   \n",
       "7042  3186-AJIEK  2014-08-01                   No        Two year   \n",
       "\n",
       "     PaperlessBilling              PaymentMethod  MonthlyCharges TotalCharges  \n",
       "0                 Yes           Electronic check           29.85        29.85  \n",
       "1                  No               Mailed check           56.95       1889.5  \n",
       "2                 Yes               Mailed check           53.85       108.15  \n",
       "3                  No  Bank transfer (automatic)           42.30      1840.75  \n",
       "4                 Yes           Electronic check           70.70       151.65  \n",
       "...               ...                        ...             ...          ...  \n",
       "7038              Yes               Mailed check           84.80       1990.5  \n",
       "7039              Yes    Credit card (automatic)          103.20       7362.9  \n",
       "7040              Yes           Electronic check           29.60       346.45  \n",
       "7041              Yes               Mailed check           74.40        306.6  \n",
       "7042              Yes  Bank transfer (automatic)          105.65       6844.5  \n",
       "\n",
       "[7043 rows x 8 columns]"
      ]
     },
     "execution_count": 4,
     "metadata": {},
     "output_type": "execute_result"
    }
   ],
   "source": [
    "contract"
   ]
  },
  {
   "cell_type": "code",
   "execution_count": 5,
   "id": "1b4a7c7c",
   "metadata": {},
   "outputs": [
    {
     "name": "stdout",
     "output_type": "stream",
     "text": [
      "<class 'pandas.core.frame.DataFrame'>\n",
      "RangeIndex: 7043 entries, 0 to 7042\n",
      "Data columns (total 8 columns):\n",
      " #   Column            Non-Null Count  Dtype  \n",
      "---  ------            --------------  -----  \n",
      " 0   customerID        7043 non-null   object \n",
      " 1   BeginDate         7043 non-null   object \n",
      " 2   EndDate           7043 non-null   object \n",
      " 3   Type              7043 non-null   object \n",
      " 4   PaperlessBilling  7043 non-null   object \n",
      " 5   PaymentMethod     7043 non-null   object \n",
      " 6   MonthlyCharges    7043 non-null   float64\n",
      " 7   TotalCharges      7043 non-null   object \n",
      "dtypes: float64(1), object(7)\n",
      "memory usage: 440.3+ KB\n"
     ]
    }
   ],
   "source": [
    "contract.info()"
   ]
  },
  {
   "cell_type": "code",
   "execution_count": 6,
   "id": "f579defe",
   "metadata": {},
   "outputs": [
    {
     "name": "stdout",
     "output_type": "stream",
     "text": [
      "<class 'pandas.core.frame.DataFrame'>\n",
      "RangeIndex: 5517 entries, 0 to 5516\n",
      "Data columns (total 8 columns):\n",
      " #   Column            Non-Null Count  Dtype \n",
      "---  ------            --------------  ----- \n",
      " 0   customerID        5517 non-null   object\n",
      " 1   InternetService   5517 non-null   object\n",
      " 2   OnlineSecurity    5517 non-null   object\n",
      " 3   OnlineBackup      5517 non-null   object\n",
      " 4   DeviceProtection  5517 non-null   object\n",
      " 5   TechSupport       5517 non-null   object\n",
      " 6   StreamingTV       5517 non-null   object\n",
      " 7   StreamingMovies   5517 non-null   object\n",
      "dtypes: object(8)\n",
      "memory usage: 344.9+ KB\n"
     ]
    }
   ],
   "source": [
    "internet.info()"
   ]
  },
  {
   "cell_type": "code",
   "execution_count": 7,
   "id": "1d39eeb5",
   "metadata": {},
   "outputs": [
    {
     "name": "stdout",
     "output_type": "stream",
     "text": [
      "<class 'pandas.core.frame.DataFrame'>\n",
      "RangeIndex: 7043 entries, 0 to 7042\n",
      "Data columns (total 5 columns):\n",
      " #   Column         Non-Null Count  Dtype \n",
      "---  ------         --------------  ----- \n",
      " 0   customerID     7043 non-null   object\n",
      " 1   gender         7043 non-null   object\n",
      " 2   SeniorCitizen  7043 non-null   int64 \n",
      " 3   Partner        7043 non-null   object\n",
      " 4   Dependents     7043 non-null   object\n",
      "dtypes: int64(1), object(4)\n",
      "memory usage: 275.2+ KB\n"
     ]
    }
   ],
   "source": [
    "personal.info()"
   ]
  },
  {
   "cell_type": "code",
   "execution_count": 8,
   "id": "71427f27",
   "metadata": {},
   "outputs": [
    {
     "name": "stdout",
     "output_type": "stream",
     "text": [
      "<class 'pandas.core.frame.DataFrame'>\n",
      "RangeIndex: 6361 entries, 0 to 6360\n",
      "Data columns (total 2 columns):\n",
      " #   Column         Non-Null Count  Dtype \n",
      "---  ------         --------------  ----- \n",
      " 0   customerID     6361 non-null   object\n",
      " 1   MultipleLines  6361 non-null   object\n",
      "dtypes: object(2)\n",
      "memory usage: 99.5+ KB\n"
     ]
    }
   ],
   "source": [
    "phone.info()"
   ]
  },
  {
   "cell_type": "markdown",
   "id": "d2af171b",
   "metadata": {},
   "source": [
    "В нашем распоряжении информация о 7043 клиентах компании Ниединогоразрыва.ком. Часть этих клиентов является пользователями интернета от компании-провайдера, часть - пользователями услуг телефонии, некоторые клиенты пользуются и тем, и другим сервисом компании.\n",
    "\n",
    "В ходе предобработки данных нам предстоит:\n",
    "\n",
    "1. Переименовать столбцы, изменить тип данных, обработать пропуски\n",
    "2. Объединить четыре датасета в один\n",
    "\n",
    "Начнём с таблицы contract, в которой хранится информация о контрактах:"
   ]
  },
  {
   "cell_type": "code",
   "execution_count": 9,
   "id": "7630a0c3",
   "metadata": {},
   "outputs": [],
   "source": [
    "contract.set_axis([\n",
    "    'customer_id',\n",
    "    'begin_date',\n",
    "    'end_date',\n",
    "    'type',\n",
    "    'paperless_billing',\n",
    "    'payment_method',\n",
    "    'monthly_charges',\n",
    "    'total_charges'\n",
    "], axis = 'columns', inplace = True)"
   ]
  },
  {
   "cell_type": "code",
   "execution_count": 10,
   "id": "9d9091df",
   "metadata": {},
   "outputs": [],
   "source": [
    "contract['total_charges'] = contract['total_charges'].replace(' ', np.nan)"
   ]
  },
  {
   "cell_type": "code",
   "execution_count": 11,
   "id": "7ed39478",
   "metadata": {},
   "outputs": [],
   "source": [
    "contract['total_charges'] = contract['total_charges'].astype('float64')"
   ]
  },
  {
   "cell_type": "code",
   "execution_count": 12,
   "id": "33f3218d",
   "metadata": {},
   "outputs": [
    {
     "name": "stdout",
     "output_type": "stream",
     "text": [
      "<class 'pandas.core.frame.DataFrame'>\n",
      "RangeIndex: 7043 entries, 0 to 7042\n",
      "Data columns (total 8 columns):\n",
      " #   Column             Non-Null Count  Dtype  \n",
      "---  ------             --------------  -----  \n",
      " 0   customer_id        7043 non-null   object \n",
      " 1   begin_date         7043 non-null   object \n",
      " 2   end_date           7043 non-null   object \n",
      " 3   type               7043 non-null   object \n",
      " 4   paperless_billing  7043 non-null   object \n",
      " 5   payment_method     7043 non-null   object \n",
      " 6   monthly_charges    7043 non-null   float64\n",
      " 7   total_charges      7032 non-null   float64\n",
      "dtypes: float64(2), object(6)\n",
      "memory usage: 440.3+ KB\n"
     ]
    }
   ],
   "source": [
    "contract.info()"
   ]
  },
  {
   "cell_type": "code",
   "execution_count": 13,
   "id": "89edfd1b",
   "metadata": {},
   "outputs": [
    {
     "data": {
      "text/html": [
       "<div>\n",
       "<style scoped>\n",
       "    .dataframe tbody tr th:only-of-type {\n",
       "        vertical-align: middle;\n",
       "    }\n",
       "\n",
       "    .dataframe tbody tr th {\n",
       "        vertical-align: top;\n",
       "    }\n",
       "\n",
       "    .dataframe thead th {\n",
       "        text-align: right;\n",
       "    }\n",
       "</style>\n",
       "<table border=\"1\" class=\"dataframe\">\n",
       "  <thead>\n",
       "    <tr style=\"text-align: right;\">\n",
       "      <th></th>\n",
       "      <th>customer_id</th>\n",
       "      <th>begin_date</th>\n",
       "      <th>end_date</th>\n",
       "      <th>type</th>\n",
       "      <th>paperless_billing</th>\n",
       "      <th>payment_method</th>\n",
       "      <th>monthly_charges</th>\n",
       "      <th>total_charges</th>\n",
       "    </tr>\n",
       "  </thead>\n",
       "  <tbody>\n",
       "    <tr>\n",
       "      <th>488</th>\n",
       "      <td>4472-LVYGI</td>\n",
       "      <td>2020-02-01</td>\n",
       "      <td>No</td>\n",
       "      <td>Two year</td>\n",
       "      <td>Yes</td>\n",
       "      <td>Bank transfer (automatic)</td>\n",
       "      <td>52.55</td>\n",
       "      <td>NaN</td>\n",
       "    </tr>\n",
       "    <tr>\n",
       "      <th>753</th>\n",
       "      <td>3115-CZMZD</td>\n",
       "      <td>2020-02-01</td>\n",
       "      <td>No</td>\n",
       "      <td>Two year</td>\n",
       "      <td>No</td>\n",
       "      <td>Mailed check</td>\n",
       "      <td>20.25</td>\n",
       "      <td>NaN</td>\n",
       "    </tr>\n",
       "    <tr>\n",
       "      <th>936</th>\n",
       "      <td>5709-LVOEQ</td>\n",
       "      <td>2020-02-01</td>\n",
       "      <td>No</td>\n",
       "      <td>Two year</td>\n",
       "      <td>No</td>\n",
       "      <td>Mailed check</td>\n",
       "      <td>80.85</td>\n",
       "      <td>NaN</td>\n",
       "    </tr>\n",
       "    <tr>\n",
       "      <th>1082</th>\n",
       "      <td>4367-NUYAO</td>\n",
       "      <td>2020-02-01</td>\n",
       "      <td>No</td>\n",
       "      <td>Two year</td>\n",
       "      <td>No</td>\n",
       "      <td>Mailed check</td>\n",
       "      <td>25.75</td>\n",
       "      <td>NaN</td>\n",
       "    </tr>\n",
       "    <tr>\n",
       "      <th>1340</th>\n",
       "      <td>1371-DWPAZ</td>\n",
       "      <td>2020-02-01</td>\n",
       "      <td>No</td>\n",
       "      <td>Two year</td>\n",
       "      <td>No</td>\n",
       "      <td>Credit card (automatic)</td>\n",
       "      <td>56.05</td>\n",
       "      <td>NaN</td>\n",
       "    </tr>\n",
       "    <tr>\n",
       "      <th>3331</th>\n",
       "      <td>7644-OMVMY</td>\n",
       "      <td>2020-02-01</td>\n",
       "      <td>No</td>\n",
       "      <td>Two year</td>\n",
       "      <td>No</td>\n",
       "      <td>Mailed check</td>\n",
       "      <td>19.85</td>\n",
       "      <td>NaN</td>\n",
       "    </tr>\n",
       "    <tr>\n",
       "      <th>3826</th>\n",
       "      <td>3213-VVOLG</td>\n",
       "      <td>2020-02-01</td>\n",
       "      <td>No</td>\n",
       "      <td>Two year</td>\n",
       "      <td>No</td>\n",
       "      <td>Mailed check</td>\n",
       "      <td>25.35</td>\n",
       "      <td>NaN</td>\n",
       "    </tr>\n",
       "    <tr>\n",
       "      <th>4380</th>\n",
       "      <td>2520-SGTTA</td>\n",
       "      <td>2020-02-01</td>\n",
       "      <td>No</td>\n",
       "      <td>Two year</td>\n",
       "      <td>No</td>\n",
       "      <td>Mailed check</td>\n",
       "      <td>20.00</td>\n",
       "      <td>NaN</td>\n",
       "    </tr>\n",
       "    <tr>\n",
       "      <th>5218</th>\n",
       "      <td>2923-ARZLG</td>\n",
       "      <td>2020-02-01</td>\n",
       "      <td>No</td>\n",
       "      <td>One year</td>\n",
       "      <td>Yes</td>\n",
       "      <td>Mailed check</td>\n",
       "      <td>19.70</td>\n",
       "      <td>NaN</td>\n",
       "    </tr>\n",
       "    <tr>\n",
       "      <th>6670</th>\n",
       "      <td>4075-WKNIU</td>\n",
       "      <td>2020-02-01</td>\n",
       "      <td>No</td>\n",
       "      <td>Two year</td>\n",
       "      <td>No</td>\n",
       "      <td>Mailed check</td>\n",
       "      <td>73.35</td>\n",
       "      <td>NaN</td>\n",
       "    </tr>\n",
       "    <tr>\n",
       "      <th>6754</th>\n",
       "      <td>2775-SEFEE</td>\n",
       "      <td>2020-02-01</td>\n",
       "      <td>No</td>\n",
       "      <td>Two year</td>\n",
       "      <td>Yes</td>\n",
       "      <td>Bank transfer (automatic)</td>\n",
       "      <td>61.90</td>\n",
       "      <td>NaN</td>\n",
       "    </tr>\n",
       "  </tbody>\n",
       "</table>\n",
       "</div>"
      ],
      "text/plain": [
       "     customer_id  begin_date end_date      type paperless_billing  \\\n",
       "488   4472-LVYGI  2020-02-01       No  Two year               Yes   \n",
       "753   3115-CZMZD  2020-02-01       No  Two year                No   \n",
       "936   5709-LVOEQ  2020-02-01       No  Two year                No   \n",
       "1082  4367-NUYAO  2020-02-01       No  Two year                No   \n",
       "1340  1371-DWPAZ  2020-02-01       No  Two year                No   \n",
       "3331  7644-OMVMY  2020-02-01       No  Two year                No   \n",
       "3826  3213-VVOLG  2020-02-01       No  Two year                No   \n",
       "4380  2520-SGTTA  2020-02-01       No  Two year                No   \n",
       "5218  2923-ARZLG  2020-02-01       No  One year               Yes   \n",
       "6670  4075-WKNIU  2020-02-01       No  Two year                No   \n",
       "6754  2775-SEFEE  2020-02-01       No  Two year               Yes   \n",
       "\n",
       "                 payment_method  monthly_charges  total_charges  \n",
       "488   Bank transfer (automatic)            52.55            NaN  \n",
       "753                Mailed check            20.25            NaN  \n",
       "936                Mailed check            80.85            NaN  \n",
       "1082               Mailed check            25.75            NaN  \n",
       "1340    Credit card (automatic)            56.05            NaN  \n",
       "3331               Mailed check            19.85            NaN  \n",
       "3826               Mailed check            25.35            NaN  \n",
       "4380               Mailed check            20.00            NaN  \n",
       "5218               Mailed check            19.70            NaN  \n",
       "6670               Mailed check            73.35            NaN  \n",
       "6754  Bank transfer (automatic)            61.90            NaN  "
      ]
     },
     "execution_count": 13,
     "metadata": {},
     "output_type": "execute_result"
    }
   ],
   "source": [
    "contract[contract.isna().any(axis=1)]"
   ]
  },
  {
   "cell_type": "markdown",
   "id": "248cf016",
   "metadata": {},
   "source": [
    "Мы заменили пропусками все строковые значения в столбце total_charges и преобразовали тип данных в нём на числовой. Далее мы построим гистограммы распределения и решим, как поступать с пропусками."
   ]
  },
  {
   "cell_type": "code",
   "execution_count": 14,
   "id": "2606fed0",
   "metadata": {},
   "outputs": [
    {
     "data": {
      "text/html": [
       "<div>\n",
       "<style scoped>\n",
       "    .dataframe tbody tr th:only-of-type {\n",
       "        vertical-align: middle;\n",
       "    }\n",
       "\n",
       "    .dataframe tbody tr th {\n",
       "        vertical-align: top;\n",
       "    }\n",
       "\n",
       "    .dataframe thead th {\n",
       "        text-align: right;\n",
       "    }\n",
       "</style>\n",
       "<table border=\"1\" class=\"dataframe\">\n",
       "  <thead>\n",
       "    <tr style=\"text-align: right;\">\n",
       "      <th></th>\n",
       "      <th>monthly_charges</th>\n",
       "      <th>total_charges</th>\n",
       "    </tr>\n",
       "  </thead>\n",
       "  <tbody>\n",
       "    <tr>\n",
       "      <th>count</th>\n",
       "      <td>7043.000000</td>\n",
       "      <td>7032.000000</td>\n",
       "    </tr>\n",
       "    <tr>\n",
       "      <th>mean</th>\n",
       "      <td>64.761692</td>\n",
       "      <td>2283.300441</td>\n",
       "    </tr>\n",
       "    <tr>\n",
       "      <th>std</th>\n",
       "      <td>30.090047</td>\n",
       "      <td>2266.771362</td>\n",
       "    </tr>\n",
       "    <tr>\n",
       "      <th>min</th>\n",
       "      <td>18.250000</td>\n",
       "      <td>18.800000</td>\n",
       "    </tr>\n",
       "    <tr>\n",
       "      <th>25%</th>\n",
       "      <td>35.500000</td>\n",
       "      <td>401.450000</td>\n",
       "    </tr>\n",
       "    <tr>\n",
       "      <th>50%</th>\n",
       "      <td>70.350000</td>\n",
       "      <td>1397.475000</td>\n",
       "    </tr>\n",
       "    <tr>\n",
       "      <th>75%</th>\n",
       "      <td>89.850000</td>\n",
       "      <td>3794.737500</td>\n",
       "    </tr>\n",
       "    <tr>\n",
       "      <th>max</th>\n",
       "      <td>118.750000</td>\n",
       "      <td>8684.800000</td>\n",
       "    </tr>\n",
       "  </tbody>\n",
       "</table>\n",
       "</div>"
      ],
      "text/plain": [
       "       monthly_charges  total_charges\n",
       "count      7043.000000    7032.000000\n",
       "mean         64.761692    2283.300441\n",
       "std          30.090047    2266.771362\n",
       "min          18.250000      18.800000\n",
       "25%          35.500000     401.450000\n",
       "50%          70.350000    1397.475000\n",
       "75%          89.850000    3794.737500\n",
       "max         118.750000    8684.800000"
      ]
     },
     "execution_count": 14,
     "metadata": {},
     "output_type": "execute_result"
    }
   ],
   "source": [
    "contract.describe()"
   ]
  },
  {
   "cell_type": "markdown",
   "id": "98a916e3",
   "metadata": {},
   "source": [
    "Меняем тип данных в столбцах paperless_billing и begin_date:"
   ]
  },
  {
   "cell_type": "code",
   "execution_count": 15,
   "id": "c23c1b42",
   "metadata": {},
   "outputs": [],
   "source": [
    "contract['paperless_billing'] = contract['paperless_billing'].replace('Yes', 1)\n",
    "contract['paperless_billing'] = contract['paperless_billing'].replace('No', 0)\n",
    "contract['begin_date'] = pd.to_datetime(contract['begin_date'], format='%Y-%m-%d')"
   ]
  },
  {
   "cell_type": "markdown",
   "id": "cea57ce3",
   "metadata": {},
   "source": [
    "Посмотрим на значения в столбце end_date:"
   ]
  },
  {
   "cell_type": "code",
   "execution_count": 16,
   "id": "c20bde2b",
   "metadata": {},
   "outputs": [
    {
     "data": {
      "text/plain": [
       "['2019-10-01 00:00:00',\n",
       " '2019-11-01 00:00:00',\n",
       " '2019-12-01 00:00:00',\n",
       " '2020-01-01 00:00:00',\n",
       " 'No']"
      ]
     },
     "execution_count": 16,
     "metadata": {},
     "output_type": "execute_result"
    }
   ],
   "source": [
    "sorted(contract['end_date'].unique())"
   ]
  },
  {
   "cell_type": "markdown",
   "id": "1d7f8f1e",
   "metadata": {},
   "source": [
    "В столбце end_date всего четыре уникальные даты (помимо значения No). Судя по всему, отток клиентов начался в ноябре 2019 года. Сохранение данного столбца не даст нам много информации - используем его, чтобы создать столбец churn (целевой признак) и добавим признак \"длительность контракта\":"
   ]
  },
  {
   "cell_type": "code",
   "execution_count": 17,
   "id": "8a92feb0",
   "metadata": {},
   "outputs": [],
   "source": [
    "def make_churn(value):\n",
    "    if value == 'No':\n",
    "        return 0\n",
    "    else:\n",
    "        return 1"
   ]
  },
  {
   "cell_type": "code",
   "execution_count": 18,
   "id": "066e3801",
   "metadata": {},
   "outputs": [],
   "source": [
    "contract['churn'] = contract['end_date'].apply(make_churn)"
   ]
  },
  {
   "cell_type": "code",
   "execution_count": 19,
   "id": "cded635b",
   "metadata": {},
   "outputs": [],
   "source": [
    "contract['end_date'] = contract['end_date'].replace('No', '2020-02-01')\n",
    "contract['end_date'] = pd.to_datetime(contract['end_date'], format='%Y-%m-%d')\n",
    "contract['contract_duration'] = contract['end_date'] - contract['begin_date']\n",
    "contract['contract_duration'] = contract['contract_duration'].dt.days\n",
    "del contract['end_date']"
   ]
  },
  {
   "cell_type": "code",
   "execution_count": 20,
   "id": "35504704",
   "metadata": {
    "scrolled": false
   },
   "outputs": [
    {
     "data": {
      "text/html": [
       "<div>\n",
       "<style scoped>\n",
       "    .dataframe tbody tr th:only-of-type {\n",
       "        vertical-align: middle;\n",
       "    }\n",
       "\n",
       "    .dataframe tbody tr th {\n",
       "        vertical-align: top;\n",
       "    }\n",
       "\n",
       "    .dataframe thead th {\n",
       "        text-align: right;\n",
       "    }\n",
       "</style>\n",
       "<table border=\"1\" class=\"dataframe\">\n",
       "  <thead>\n",
       "    <tr style=\"text-align: right;\">\n",
       "      <th></th>\n",
       "      <th>customer_id</th>\n",
       "      <th>begin_date</th>\n",
       "      <th>type</th>\n",
       "      <th>paperless_billing</th>\n",
       "      <th>payment_method</th>\n",
       "      <th>monthly_charges</th>\n",
       "      <th>total_charges</th>\n",
       "      <th>churn</th>\n",
       "      <th>contract_duration</th>\n",
       "    </tr>\n",
       "  </thead>\n",
       "  <tbody>\n",
       "    <tr>\n",
       "      <th>0</th>\n",
       "      <td>7590-VHVEG</td>\n",
       "      <td>2020-01-01</td>\n",
       "      <td>Month-to-month</td>\n",
       "      <td>1</td>\n",
       "      <td>Electronic check</td>\n",
       "      <td>29.85</td>\n",
       "      <td>29.85</td>\n",
       "      <td>0</td>\n",
       "      <td>31</td>\n",
       "    </tr>\n",
       "    <tr>\n",
       "      <th>1</th>\n",
       "      <td>5575-GNVDE</td>\n",
       "      <td>2017-04-01</td>\n",
       "      <td>One year</td>\n",
       "      <td>0</td>\n",
       "      <td>Mailed check</td>\n",
       "      <td>56.95</td>\n",
       "      <td>1889.50</td>\n",
       "      <td>0</td>\n",
       "      <td>1036</td>\n",
       "    </tr>\n",
       "    <tr>\n",
       "      <th>2</th>\n",
       "      <td>3668-QPYBK</td>\n",
       "      <td>2019-10-01</td>\n",
       "      <td>Month-to-month</td>\n",
       "      <td>1</td>\n",
       "      <td>Mailed check</td>\n",
       "      <td>53.85</td>\n",
       "      <td>108.15</td>\n",
       "      <td>1</td>\n",
       "      <td>61</td>\n",
       "    </tr>\n",
       "    <tr>\n",
       "      <th>3</th>\n",
       "      <td>7795-CFOCW</td>\n",
       "      <td>2016-05-01</td>\n",
       "      <td>One year</td>\n",
       "      <td>0</td>\n",
       "      <td>Bank transfer (automatic)</td>\n",
       "      <td>42.30</td>\n",
       "      <td>1840.75</td>\n",
       "      <td>0</td>\n",
       "      <td>1371</td>\n",
       "    </tr>\n",
       "    <tr>\n",
       "      <th>4</th>\n",
       "      <td>9237-HQITU</td>\n",
       "      <td>2019-09-01</td>\n",
       "      <td>Month-to-month</td>\n",
       "      <td>1</td>\n",
       "      <td>Electronic check</td>\n",
       "      <td>70.70</td>\n",
       "      <td>151.65</td>\n",
       "      <td>1</td>\n",
       "      <td>61</td>\n",
       "    </tr>\n",
       "    <tr>\n",
       "      <th>...</th>\n",
       "      <td>...</td>\n",
       "      <td>...</td>\n",
       "      <td>...</td>\n",
       "      <td>...</td>\n",
       "      <td>...</td>\n",
       "      <td>...</td>\n",
       "      <td>...</td>\n",
       "      <td>...</td>\n",
       "      <td>...</td>\n",
       "    </tr>\n",
       "    <tr>\n",
       "      <th>7038</th>\n",
       "      <td>6840-RESVB</td>\n",
       "      <td>2018-02-01</td>\n",
       "      <td>One year</td>\n",
       "      <td>1</td>\n",
       "      <td>Mailed check</td>\n",
       "      <td>84.80</td>\n",
       "      <td>1990.50</td>\n",
       "      <td>0</td>\n",
       "      <td>730</td>\n",
       "    </tr>\n",
       "    <tr>\n",
       "      <th>7039</th>\n",
       "      <td>2234-XADUH</td>\n",
       "      <td>2014-02-01</td>\n",
       "      <td>One year</td>\n",
       "      <td>1</td>\n",
       "      <td>Credit card (automatic)</td>\n",
       "      <td>103.20</td>\n",
       "      <td>7362.90</td>\n",
       "      <td>0</td>\n",
       "      <td>2191</td>\n",
       "    </tr>\n",
       "    <tr>\n",
       "      <th>7040</th>\n",
       "      <td>4801-JZAZL</td>\n",
       "      <td>2019-03-01</td>\n",
       "      <td>Month-to-month</td>\n",
       "      <td>1</td>\n",
       "      <td>Electronic check</td>\n",
       "      <td>29.60</td>\n",
       "      <td>346.45</td>\n",
       "      <td>0</td>\n",
       "      <td>337</td>\n",
       "    </tr>\n",
       "    <tr>\n",
       "      <th>7041</th>\n",
       "      <td>8361-LTMKD</td>\n",
       "      <td>2019-07-01</td>\n",
       "      <td>Month-to-month</td>\n",
       "      <td>1</td>\n",
       "      <td>Mailed check</td>\n",
       "      <td>74.40</td>\n",
       "      <td>306.60</td>\n",
       "      <td>1</td>\n",
       "      <td>123</td>\n",
       "    </tr>\n",
       "    <tr>\n",
       "      <th>7042</th>\n",
       "      <td>3186-AJIEK</td>\n",
       "      <td>2014-08-01</td>\n",
       "      <td>Two year</td>\n",
       "      <td>1</td>\n",
       "      <td>Bank transfer (automatic)</td>\n",
       "      <td>105.65</td>\n",
       "      <td>6844.50</td>\n",
       "      <td>0</td>\n",
       "      <td>2010</td>\n",
       "    </tr>\n",
       "  </tbody>\n",
       "</table>\n",
       "<p>7043 rows × 9 columns</p>\n",
       "</div>"
      ],
      "text/plain": [
       "     customer_id begin_date            type  paperless_billing  \\\n",
       "0     7590-VHVEG 2020-01-01  Month-to-month                  1   \n",
       "1     5575-GNVDE 2017-04-01        One year                  0   \n",
       "2     3668-QPYBK 2019-10-01  Month-to-month                  1   \n",
       "3     7795-CFOCW 2016-05-01        One year                  0   \n",
       "4     9237-HQITU 2019-09-01  Month-to-month                  1   \n",
       "...          ...        ...             ...                ...   \n",
       "7038  6840-RESVB 2018-02-01        One year                  1   \n",
       "7039  2234-XADUH 2014-02-01        One year                  1   \n",
       "7040  4801-JZAZL 2019-03-01  Month-to-month                  1   \n",
       "7041  8361-LTMKD 2019-07-01  Month-to-month                  1   \n",
       "7042  3186-AJIEK 2014-08-01        Two year                  1   \n",
       "\n",
       "                 payment_method  monthly_charges  total_charges  churn  \\\n",
       "0              Electronic check            29.85          29.85      0   \n",
       "1                  Mailed check            56.95        1889.50      0   \n",
       "2                  Mailed check            53.85         108.15      1   \n",
       "3     Bank transfer (automatic)            42.30        1840.75      0   \n",
       "4              Electronic check            70.70         151.65      1   \n",
       "...                         ...              ...            ...    ...   \n",
       "7038               Mailed check            84.80        1990.50      0   \n",
       "7039    Credit card (automatic)           103.20        7362.90      0   \n",
       "7040           Electronic check            29.60         346.45      0   \n",
       "7041               Mailed check            74.40         306.60      1   \n",
       "7042  Bank transfer (automatic)           105.65        6844.50      0   \n",
       "\n",
       "      contract_duration  \n",
       "0                    31  \n",
       "1                  1036  \n",
       "2                    61  \n",
       "3                  1371  \n",
       "4                    61  \n",
       "...                 ...  \n",
       "7038                730  \n",
       "7039               2191  \n",
       "7040                337  \n",
       "7041                123  \n",
       "7042               2010  \n",
       "\n",
       "[7043 rows x 9 columns]"
      ]
     },
     "execution_count": 20,
     "metadata": {},
     "output_type": "execute_result"
    }
   ],
   "source": [
    "contract"
   ]
  },
  {
   "cell_type": "markdown",
   "id": "eebe3d89",
   "metadata": {},
   "source": [
    "Посмотрим на значения в столбцах type и payment_method:"
   ]
  },
  {
   "cell_type": "code",
   "execution_count": 21,
   "id": "39d4f6a5",
   "metadata": {},
   "outputs": [
    {
     "data": {
      "text/plain": [
       "array(['Month-to-month', 'One year', 'Two year'], dtype=object)"
      ]
     },
     "execution_count": 21,
     "metadata": {},
     "output_type": "execute_result"
    }
   ],
   "source": [
    "contract['type'].unique()"
   ]
  },
  {
   "cell_type": "code",
   "execution_count": 22,
   "id": "52880fb6",
   "metadata": {},
   "outputs": [
    {
     "data": {
      "text/plain": [
       "array(['Electronic check', 'Mailed check', 'Bank transfer (automatic)',\n",
       "       'Credit card (automatic)'], dtype=object)"
      ]
     },
     "execution_count": 22,
     "metadata": {},
     "output_type": "execute_result"
    }
   ],
   "source": [
    "contract['payment_method'].unique()"
   ]
  },
  {
   "cell_type": "code",
   "execution_count": 23,
   "id": "6015ef69",
   "metadata": {},
   "outputs": [
    {
     "data": {
      "text/html": [
       "<div>\n",
       "<style scoped>\n",
       "    .dataframe tbody tr th:only-of-type {\n",
       "        vertical-align: middle;\n",
       "    }\n",
       "\n",
       "    .dataframe tbody tr th {\n",
       "        vertical-align: top;\n",
       "    }\n",
       "\n",
       "    .dataframe thead th {\n",
       "        text-align: right;\n",
       "    }\n",
       "</style>\n",
       "<table border=\"1\" class=\"dataframe\">\n",
       "  <thead>\n",
       "    <tr style=\"text-align: right;\">\n",
       "      <th></th>\n",
       "      <th>customerID</th>\n",
       "      <th>InternetService</th>\n",
       "      <th>OnlineSecurity</th>\n",
       "      <th>OnlineBackup</th>\n",
       "      <th>DeviceProtection</th>\n",
       "      <th>TechSupport</th>\n",
       "      <th>StreamingTV</th>\n",
       "      <th>StreamingMovies</th>\n",
       "    </tr>\n",
       "  </thead>\n",
       "  <tbody>\n",
       "    <tr>\n",
       "      <th>0</th>\n",
       "      <td>7590-VHVEG</td>\n",
       "      <td>DSL</td>\n",
       "      <td>No</td>\n",
       "      <td>Yes</td>\n",
       "      <td>No</td>\n",
       "      <td>No</td>\n",
       "      <td>No</td>\n",
       "      <td>No</td>\n",
       "    </tr>\n",
       "    <tr>\n",
       "      <th>1</th>\n",
       "      <td>5575-GNVDE</td>\n",
       "      <td>DSL</td>\n",
       "      <td>Yes</td>\n",
       "      <td>No</td>\n",
       "      <td>Yes</td>\n",
       "      <td>No</td>\n",
       "      <td>No</td>\n",
       "      <td>No</td>\n",
       "    </tr>\n",
       "    <tr>\n",
       "      <th>2</th>\n",
       "      <td>3668-QPYBK</td>\n",
       "      <td>DSL</td>\n",
       "      <td>Yes</td>\n",
       "      <td>Yes</td>\n",
       "      <td>No</td>\n",
       "      <td>No</td>\n",
       "      <td>No</td>\n",
       "      <td>No</td>\n",
       "    </tr>\n",
       "    <tr>\n",
       "      <th>3</th>\n",
       "      <td>7795-CFOCW</td>\n",
       "      <td>DSL</td>\n",
       "      <td>Yes</td>\n",
       "      <td>No</td>\n",
       "      <td>Yes</td>\n",
       "      <td>Yes</td>\n",
       "      <td>No</td>\n",
       "      <td>No</td>\n",
       "    </tr>\n",
       "    <tr>\n",
       "      <th>4</th>\n",
       "      <td>9237-HQITU</td>\n",
       "      <td>Fiber optic</td>\n",
       "      <td>No</td>\n",
       "      <td>No</td>\n",
       "      <td>No</td>\n",
       "      <td>No</td>\n",
       "      <td>No</td>\n",
       "      <td>No</td>\n",
       "    </tr>\n",
       "    <tr>\n",
       "      <th>...</th>\n",
       "      <td>...</td>\n",
       "      <td>...</td>\n",
       "      <td>...</td>\n",
       "      <td>...</td>\n",
       "      <td>...</td>\n",
       "      <td>...</td>\n",
       "      <td>...</td>\n",
       "      <td>...</td>\n",
       "    </tr>\n",
       "    <tr>\n",
       "      <th>5512</th>\n",
       "      <td>6840-RESVB</td>\n",
       "      <td>DSL</td>\n",
       "      <td>Yes</td>\n",
       "      <td>No</td>\n",
       "      <td>Yes</td>\n",
       "      <td>Yes</td>\n",
       "      <td>Yes</td>\n",
       "      <td>Yes</td>\n",
       "    </tr>\n",
       "    <tr>\n",
       "      <th>5513</th>\n",
       "      <td>2234-XADUH</td>\n",
       "      <td>Fiber optic</td>\n",
       "      <td>No</td>\n",
       "      <td>Yes</td>\n",
       "      <td>Yes</td>\n",
       "      <td>No</td>\n",
       "      <td>Yes</td>\n",
       "      <td>Yes</td>\n",
       "    </tr>\n",
       "    <tr>\n",
       "      <th>5514</th>\n",
       "      <td>4801-JZAZL</td>\n",
       "      <td>DSL</td>\n",
       "      <td>Yes</td>\n",
       "      <td>No</td>\n",
       "      <td>No</td>\n",
       "      <td>No</td>\n",
       "      <td>No</td>\n",
       "      <td>No</td>\n",
       "    </tr>\n",
       "    <tr>\n",
       "      <th>5515</th>\n",
       "      <td>8361-LTMKD</td>\n",
       "      <td>Fiber optic</td>\n",
       "      <td>No</td>\n",
       "      <td>No</td>\n",
       "      <td>No</td>\n",
       "      <td>No</td>\n",
       "      <td>No</td>\n",
       "      <td>No</td>\n",
       "    </tr>\n",
       "    <tr>\n",
       "      <th>5516</th>\n",
       "      <td>3186-AJIEK</td>\n",
       "      <td>Fiber optic</td>\n",
       "      <td>Yes</td>\n",
       "      <td>No</td>\n",
       "      <td>Yes</td>\n",
       "      <td>Yes</td>\n",
       "      <td>Yes</td>\n",
       "      <td>Yes</td>\n",
       "    </tr>\n",
       "  </tbody>\n",
       "</table>\n",
       "<p>5517 rows × 8 columns</p>\n",
       "</div>"
      ],
      "text/plain": [
       "      customerID InternetService OnlineSecurity OnlineBackup DeviceProtection  \\\n",
       "0     7590-VHVEG             DSL             No          Yes               No   \n",
       "1     5575-GNVDE             DSL            Yes           No              Yes   \n",
       "2     3668-QPYBK             DSL            Yes          Yes               No   \n",
       "3     7795-CFOCW             DSL            Yes           No              Yes   \n",
       "4     9237-HQITU     Fiber optic             No           No               No   \n",
       "...          ...             ...            ...          ...              ...   \n",
       "5512  6840-RESVB             DSL            Yes           No              Yes   \n",
       "5513  2234-XADUH     Fiber optic             No          Yes              Yes   \n",
       "5514  4801-JZAZL             DSL            Yes           No               No   \n",
       "5515  8361-LTMKD     Fiber optic             No           No               No   \n",
       "5516  3186-AJIEK     Fiber optic            Yes           No              Yes   \n",
       "\n",
       "     TechSupport StreamingTV StreamingMovies  \n",
       "0             No          No              No  \n",
       "1             No          No              No  \n",
       "2             No          No              No  \n",
       "3            Yes          No              No  \n",
       "4             No          No              No  \n",
       "...          ...         ...             ...  \n",
       "5512         Yes         Yes             Yes  \n",
       "5513          No         Yes             Yes  \n",
       "5514          No          No              No  \n",
       "5515          No          No              No  \n",
       "5516         Yes         Yes             Yes  \n",
       "\n",
       "[5517 rows x 8 columns]"
      ]
     },
     "execution_count": 23,
     "metadata": {},
     "output_type": "execute_result"
    }
   ],
   "source": [
    "internet"
   ]
  },
  {
   "cell_type": "markdown",
   "id": "23bec72c",
   "metadata": {},
   "source": [
    "В таблице internet предстоит переименовать столбцы и поменять тип данных. Также добавим в неё столбец internet_user, который будет содержать информацию о том, что человек является пользователем данной услуги."
   ]
  },
  {
   "cell_type": "code",
   "execution_count": 24,
   "id": "2e92aadd",
   "metadata": {},
   "outputs": [],
   "source": [
    "internet['internet_user'] = np.ones(internet.shape[0]).astype('int64')"
   ]
  },
  {
   "cell_type": "code",
   "execution_count": 25,
   "id": "ca3503ef",
   "metadata": {},
   "outputs": [
    {
     "data": {
      "text/html": [
       "<div>\n",
       "<style scoped>\n",
       "    .dataframe tbody tr th:only-of-type {\n",
       "        vertical-align: middle;\n",
       "    }\n",
       "\n",
       "    .dataframe tbody tr th {\n",
       "        vertical-align: top;\n",
       "    }\n",
       "\n",
       "    .dataframe thead th {\n",
       "        text-align: right;\n",
       "    }\n",
       "</style>\n",
       "<table border=\"1\" class=\"dataframe\">\n",
       "  <thead>\n",
       "    <tr style=\"text-align: right;\">\n",
       "      <th></th>\n",
       "      <th>customer_id</th>\n",
       "      <th>internet_service</th>\n",
       "      <th>online_security</th>\n",
       "      <th>online_backup</th>\n",
       "      <th>device_protection</th>\n",
       "      <th>tech_support</th>\n",
       "      <th>streaming_tv</th>\n",
       "      <th>streaming_movies</th>\n",
       "      <th>internet_user</th>\n",
       "    </tr>\n",
       "  </thead>\n",
       "  <tbody>\n",
       "    <tr>\n",
       "      <th>0</th>\n",
       "      <td>7590-VHVEG</td>\n",
       "      <td>DSL</td>\n",
       "      <td>0</td>\n",
       "      <td>1</td>\n",
       "      <td>0</td>\n",
       "      <td>0</td>\n",
       "      <td>0</td>\n",
       "      <td>0</td>\n",
       "      <td>1</td>\n",
       "    </tr>\n",
       "    <tr>\n",
       "      <th>1</th>\n",
       "      <td>5575-GNVDE</td>\n",
       "      <td>DSL</td>\n",
       "      <td>1</td>\n",
       "      <td>0</td>\n",
       "      <td>1</td>\n",
       "      <td>0</td>\n",
       "      <td>0</td>\n",
       "      <td>0</td>\n",
       "      <td>1</td>\n",
       "    </tr>\n",
       "    <tr>\n",
       "      <th>2</th>\n",
       "      <td>3668-QPYBK</td>\n",
       "      <td>DSL</td>\n",
       "      <td>1</td>\n",
       "      <td>1</td>\n",
       "      <td>0</td>\n",
       "      <td>0</td>\n",
       "      <td>0</td>\n",
       "      <td>0</td>\n",
       "      <td>1</td>\n",
       "    </tr>\n",
       "    <tr>\n",
       "      <th>3</th>\n",
       "      <td>7795-CFOCW</td>\n",
       "      <td>DSL</td>\n",
       "      <td>1</td>\n",
       "      <td>0</td>\n",
       "      <td>1</td>\n",
       "      <td>1</td>\n",
       "      <td>0</td>\n",
       "      <td>0</td>\n",
       "      <td>1</td>\n",
       "    </tr>\n",
       "    <tr>\n",
       "      <th>4</th>\n",
       "      <td>9237-HQITU</td>\n",
       "      <td>Fiber optic</td>\n",
       "      <td>0</td>\n",
       "      <td>0</td>\n",
       "      <td>0</td>\n",
       "      <td>0</td>\n",
       "      <td>0</td>\n",
       "      <td>0</td>\n",
       "      <td>1</td>\n",
       "    </tr>\n",
       "    <tr>\n",
       "      <th>...</th>\n",
       "      <td>...</td>\n",
       "      <td>...</td>\n",
       "      <td>...</td>\n",
       "      <td>...</td>\n",
       "      <td>...</td>\n",
       "      <td>...</td>\n",
       "      <td>...</td>\n",
       "      <td>...</td>\n",
       "      <td>...</td>\n",
       "    </tr>\n",
       "    <tr>\n",
       "      <th>5512</th>\n",
       "      <td>6840-RESVB</td>\n",
       "      <td>DSL</td>\n",
       "      <td>1</td>\n",
       "      <td>0</td>\n",
       "      <td>1</td>\n",
       "      <td>1</td>\n",
       "      <td>1</td>\n",
       "      <td>1</td>\n",
       "      <td>1</td>\n",
       "    </tr>\n",
       "    <tr>\n",
       "      <th>5513</th>\n",
       "      <td>2234-XADUH</td>\n",
       "      <td>Fiber optic</td>\n",
       "      <td>0</td>\n",
       "      <td>1</td>\n",
       "      <td>1</td>\n",
       "      <td>0</td>\n",
       "      <td>1</td>\n",
       "      <td>1</td>\n",
       "      <td>1</td>\n",
       "    </tr>\n",
       "    <tr>\n",
       "      <th>5514</th>\n",
       "      <td>4801-JZAZL</td>\n",
       "      <td>DSL</td>\n",
       "      <td>1</td>\n",
       "      <td>0</td>\n",
       "      <td>0</td>\n",
       "      <td>0</td>\n",
       "      <td>0</td>\n",
       "      <td>0</td>\n",
       "      <td>1</td>\n",
       "    </tr>\n",
       "    <tr>\n",
       "      <th>5515</th>\n",
       "      <td>8361-LTMKD</td>\n",
       "      <td>Fiber optic</td>\n",
       "      <td>0</td>\n",
       "      <td>0</td>\n",
       "      <td>0</td>\n",
       "      <td>0</td>\n",
       "      <td>0</td>\n",
       "      <td>0</td>\n",
       "      <td>1</td>\n",
       "    </tr>\n",
       "    <tr>\n",
       "      <th>5516</th>\n",
       "      <td>3186-AJIEK</td>\n",
       "      <td>Fiber optic</td>\n",
       "      <td>1</td>\n",
       "      <td>0</td>\n",
       "      <td>1</td>\n",
       "      <td>1</td>\n",
       "      <td>1</td>\n",
       "      <td>1</td>\n",
       "      <td>1</td>\n",
       "    </tr>\n",
       "  </tbody>\n",
       "</table>\n",
       "<p>5517 rows × 9 columns</p>\n",
       "</div>"
      ],
      "text/plain": [
       "     customer_id internet_service  online_security  online_backup  \\\n",
       "0     7590-VHVEG              DSL                0              1   \n",
       "1     5575-GNVDE              DSL                1              0   \n",
       "2     3668-QPYBK              DSL                1              1   \n",
       "3     7795-CFOCW              DSL                1              0   \n",
       "4     9237-HQITU      Fiber optic                0              0   \n",
       "...          ...              ...              ...            ...   \n",
       "5512  6840-RESVB              DSL                1              0   \n",
       "5513  2234-XADUH      Fiber optic                0              1   \n",
       "5514  4801-JZAZL              DSL                1              0   \n",
       "5515  8361-LTMKD      Fiber optic                0              0   \n",
       "5516  3186-AJIEK      Fiber optic                1              0   \n",
       "\n",
       "      device_protection  tech_support  streaming_tv  streaming_movies  \\\n",
       "0                     0             0             0                 0   \n",
       "1                     1             0             0                 0   \n",
       "2                     0             0             0                 0   \n",
       "3                     1             1             0                 0   \n",
       "4                     0             0             0                 0   \n",
       "...                 ...           ...           ...               ...   \n",
       "5512                  1             1             1                 1   \n",
       "5513                  1             0             1                 1   \n",
       "5514                  0             0             0                 0   \n",
       "5515                  0             0             0                 0   \n",
       "5516                  1             1             1                 1   \n",
       "\n",
       "      internet_user  \n",
       "0                 1  \n",
       "1                 1  \n",
       "2                 1  \n",
       "3                 1  \n",
       "4                 1  \n",
       "...             ...  \n",
       "5512              1  \n",
       "5513              1  \n",
       "5514              1  \n",
       "5515              1  \n",
       "5516              1  \n",
       "\n",
       "[5517 rows x 9 columns]"
      ]
     },
     "execution_count": 25,
     "metadata": {},
     "output_type": "execute_result"
    }
   ],
   "source": [
    "internet.set_axis([\n",
    "    'customer_id',\n",
    "    'internet_service',\n",
    "    'online_security',\n",
    "    'online_backup',\n",
    "    'device_protection',\n",
    "    'tech_support',\n",
    "    'streaming_tv',\n",
    "    'streaming_movies',\n",
    "    'internet_user'\n",
    "], axis = 'columns', inplace = True)\n",
    "\n",
    "internet[['online_security', 'online_backup', 'device_protection',\n",
    "          'tech_support', 'streaming_tv', 'streaming_movies']] = internet[\n",
    "    ['online_security', 'online_backup', 'device_protection',\n",
    "          'tech_support', 'streaming_tv', 'streaming_movies']].replace('Yes', 1)\n",
    "internet[['online_security', 'online_backup', 'device_protection',\n",
    "          'tech_support', 'streaming_tv', 'streaming_movies']] = internet[\n",
    "    ['online_security', 'online_backup', 'device_protection',\n",
    "          'tech_support', 'streaming_tv', 'streaming_movies']].replace('No', 0)\n",
    "internet"
   ]
  },
  {
   "cell_type": "code",
   "execution_count": 26,
   "id": "24c926be",
   "metadata": {},
   "outputs": [
    {
     "data": {
      "text/html": [
       "<div>\n",
       "<style scoped>\n",
       "    .dataframe tbody tr th:only-of-type {\n",
       "        vertical-align: middle;\n",
       "    }\n",
       "\n",
       "    .dataframe tbody tr th {\n",
       "        vertical-align: top;\n",
       "    }\n",
       "\n",
       "    .dataframe thead th {\n",
       "        text-align: right;\n",
       "    }\n",
       "</style>\n",
       "<table border=\"1\" class=\"dataframe\">\n",
       "  <thead>\n",
       "    <tr style=\"text-align: right;\">\n",
       "      <th></th>\n",
       "      <th>customerID</th>\n",
       "      <th>gender</th>\n",
       "      <th>SeniorCitizen</th>\n",
       "      <th>Partner</th>\n",
       "      <th>Dependents</th>\n",
       "    </tr>\n",
       "  </thead>\n",
       "  <tbody>\n",
       "    <tr>\n",
       "      <th>0</th>\n",
       "      <td>7590-VHVEG</td>\n",
       "      <td>Female</td>\n",
       "      <td>0</td>\n",
       "      <td>Yes</td>\n",
       "      <td>No</td>\n",
       "    </tr>\n",
       "    <tr>\n",
       "      <th>1</th>\n",
       "      <td>5575-GNVDE</td>\n",
       "      <td>Male</td>\n",
       "      <td>0</td>\n",
       "      <td>No</td>\n",
       "      <td>No</td>\n",
       "    </tr>\n",
       "    <tr>\n",
       "      <th>2</th>\n",
       "      <td>3668-QPYBK</td>\n",
       "      <td>Male</td>\n",
       "      <td>0</td>\n",
       "      <td>No</td>\n",
       "      <td>No</td>\n",
       "    </tr>\n",
       "    <tr>\n",
       "      <th>3</th>\n",
       "      <td>7795-CFOCW</td>\n",
       "      <td>Male</td>\n",
       "      <td>0</td>\n",
       "      <td>No</td>\n",
       "      <td>No</td>\n",
       "    </tr>\n",
       "    <tr>\n",
       "      <th>4</th>\n",
       "      <td>9237-HQITU</td>\n",
       "      <td>Female</td>\n",
       "      <td>0</td>\n",
       "      <td>No</td>\n",
       "      <td>No</td>\n",
       "    </tr>\n",
       "    <tr>\n",
       "      <th>...</th>\n",
       "      <td>...</td>\n",
       "      <td>...</td>\n",
       "      <td>...</td>\n",
       "      <td>...</td>\n",
       "      <td>...</td>\n",
       "    </tr>\n",
       "    <tr>\n",
       "      <th>7038</th>\n",
       "      <td>6840-RESVB</td>\n",
       "      <td>Male</td>\n",
       "      <td>0</td>\n",
       "      <td>Yes</td>\n",
       "      <td>Yes</td>\n",
       "    </tr>\n",
       "    <tr>\n",
       "      <th>7039</th>\n",
       "      <td>2234-XADUH</td>\n",
       "      <td>Female</td>\n",
       "      <td>0</td>\n",
       "      <td>Yes</td>\n",
       "      <td>Yes</td>\n",
       "    </tr>\n",
       "    <tr>\n",
       "      <th>7040</th>\n",
       "      <td>4801-JZAZL</td>\n",
       "      <td>Female</td>\n",
       "      <td>0</td>\n",
       "      <td>Yes</td>\n",
       "      <td>Yes</td>\n",
       "    </tr>\n",
       "    <tr>\n",
       "      <th>7041</th>\n",
       "      <td>8361-LTMKD</td>\n",
       "      <td>Male</td>\n",
       "      <td>1</td>\n",
       "      <td>Yes</td>\n",
       "      <td>No</td>\n",
       "    </tr>\n",
       "    <tr>\n",
       "      <th>7042</th>\n",
       "      <td>3186-AJIEK</td>\n",
       "      <td>Male</td>\n",
       "      <td>0</td>\n",
       "      <td>No</td>\n",
       "      <td>No</td>\n",
       "    </tr>\n",
       "  </tbody>\n",
       "</table>\n",
       "<p>7043 rows × 5 columns</p>\n",
       "</div>"
      ],
      "text/plain": [
       "      customerID  gender  SeniorCitizen Partner Dependents\n",
       "0     7590-VHVEG  Female              0     Yes         No\n",
       "1     5575-GNVDE    Male              0      No         No\n",
       "2     3668-QPYBK    Male              0      No         No\n",
       "3     7795-CFOCW    Male              0      No         No\n",
       "4     9237-HQITU  Female              0      No         No\n",
       "...          ...     ...            ...     ...        ...\n",
       "7038  6840-RESVB    Male              0     Yes        Yes\n",
       "7039  2234-XADUH  Female              0     Yes        Yes\n",
       "7040  4801-JZAZL  Female              0     Yes        Yes\n",
       "7041  8361-LTMKD    Male              1     Yes         No\n",
       "7042  3186-AJIEK    Male              0      No         No\n",
       "\n",
       "[7043 rows x 5 columns]"
      ]
     },
     "execution_count": 26,
     "metadata": {},
     "output_type": "execute_result"
    }
   ],
   "source": [
    "personal"
   ]
  },
  {
   "cell_type": "code",
   "execution_count": 27,
   "id": "5a944d10",
   "metadata": {
    "scrolled": false
   },
   "outputs": [
    {
     "name": "stdout",
     "output_type": "stream",
     "text": [
      "<class 'pandas.core.frame.DataFrame'>\n",
      "RangeIndex: 7043 entries, 0 to 7042\n",
      "Data columns (total 5 columns):\n",
      " #   Column         Non-Null Count  Dtype \n",
      "---  ------         --------------  ----- \n",
      " 0   customerID     7043 non-null   object\n",
      " 1   gender         7043 non-null   object\n",
      " 2   SeniorCitizen  7043 non-null   int64 \n",
      " 3   Partner        7043 non-null   object\n",
      " 4   Dependents     7043 non-null   object\n",
      "dtypes: int64(1), object(4)\n",
      "memory usage: 275.2+ KB\n"
     ]
    }
   ],
   "source": [
    "personal.info()"
   ]
  },
  {
   "cell_type": "code",
   "execution_count": 28,
   "id": "be1126d7",
   "metadata": {},
   "outputs": [
    {
     "data": {
      "text/html": [
       "<div>\n",
       "<style scoped>\n",
       "    .dataframe tbody tr th:only-of-type {\n",
       "        vertical-align: middle;\n",
       "    }\n",
       "\n",
       "    .dataframe tbody tr th {\n",
       "        vertical-align: top;\n",
       "    }\n",
       "\n",
       "    .dataframe thead th {\n",
       "        text-align: right;\n",
       "    }\n",
       "</style>\n",
       "<table border=\"1\" class=\"dataframe\">\n",
       "  <thead>\n",
       "    <tr style=\"text-align: right;\">\n",
       "      <th></th>\n",
       "      <th>customer_id</th>\n",
       "      <th>gender</th>\n",
       "      <th>senior_citizen</th>\n",
       "      <th>partner</th>\n",
       "      <th>dependents</th>\n",
       "    </tr>\n",
       "  </thead>\n",
       "  <tbody>\n",
       "    <tr>\n",
       "      <th>0</th>\n",
       "      <td>7590-VHVEG</td>\n",
       "      <td>Female</td>\n",
       "      <td>0</td>\n",
       "      <td>1</td>\n",
       "      <td>0</td>\n",
       "    </tr>\n",
       "    <tr>\n",
       "      <th>1</th>\n",
       "      <td>5575-GNVDE</td>\n",
       "      <td>Male</td>\n",
       "      <td>0</td>\n",
       "      <td>0</td>\n",
       "      <td>0</td>\n",
       "    </tr>\n",
       "    <tr>\n",
       "      <th>2</th>\n",
       "      <td>3668-QPYBK</td>\n",
       "      <td>Male</td>\n",
       "      <td>0</td>\n",
       "      <td>0</td>\n",
       "      <td>0</td>\n",
       "    </tr>\n",
       "    <tr>\n",
       "      <th>3</th>\n",
       "      <td>7795-CFOCW</td>\n",
       "      <td>Male</td>\n",
       "      <td>0</td>\n",
       "      <td>0</td>\n",
       "      <td>0</td>\n",
       "    </tr>\n",
       "    <tr>\n",
       "      <th>4</th>\n",
       "      <td>9237-HQITU</td>\n",
       "      <td>Female</td>\n",
       "      <td>0</td>\n",
       "      <td>0</td>\n",
       "      <td>0</td>\n",
       "    </tr>\n",
       "    <tr>\n",
       "      <th>...</th>\n",
       "      <td>...</td>\n",
       "      <td>...</td>\n",
       "      <td>...</td>\n",
       "      <td>...</td>\n",
       "      <td>...</td>\n",
       "    </tr>\n",
       "    <tr>\n",
       "      <th>7038</th>\n",
       "      <td>6840-RESVB</td>\n",
       "      <td>Male</td>\n",
       "      <td>0</td>\n",
       "      <td>1</td>\n",
       "      <td>1</td>\n",
       "    </tr>\n",
       "    <tr>\n",
       "      <th>7039</th>\n",
       "      <td>2234-XADUH</td>\n",
       "      <td>Female</td>\n",
       "      <td>0</td>\n",
       "      <td>1</td>\n",
       "      <td>1</td>\n",
       "    </tr>\n",
       "    <tr>\n",
       "      <th>7040</th>\n",
       "      <td>4801-JZAZL</td>\n",
       "      <td>Female</td>\n",
       "      <td>0</td>\n",
       "      <td>1</td>\n",
       "      <td>1</td>\n",
       "    </tr>\n",
       "    <tr>\n",
       "      <th>7041</th>\n",
       "      <td>8361-LTMKD</td>\n",
       "      <td>Male</td>\n",
       "      <td>1</td>\n",
       "      <td>1</td>\n",
       "      <td>0</td>\n",
       "    </tr>\n",
       "    <tr>\n",
       "      <th>7042</th>\n",
       "      <td>3186-AJIEK</td>\n",
       "      <td>Male</td>\n",
       "      <td>0</td>\n",
       "      <td>0</td>\n",
       "      <td>0</td>\n",
       "    </tr>\n",
       "  </tbody>\n",
       "</table>\n",
       "<p>7043 rows × 5 columns</p>\n",
       "</div>"
      ],
      "text/plain": [
       "     customer_id  gender  senior_citizen  partner  dependents\n",
       "0     7590-VHVEG  Female               0        1           0\n",
       "1     5575-GNVDE    Male               0        0           0\n",
       "2     3668-QPYBK    Male               0        0           0\n",
       "3     7795-CFOCW    Male               0        0           0\n",
       "4     9237-HQITU  Female               0        0           0\n",
       "...          ...     ...             ...      ...         ...\n",
       "7038  6840-RESVB    Male               0        1           1\n",
       "7039  2234-XADUH  Female               0        1           1\n",
       "7040  4801-JZAZL  Female               0        1           1\n",
       "7041  8361-LTMKD    Male               1        1           0\n",
       "7042  3186-AJIEK    Male               0        0           0\n",
       "\n",
       "[7043 rows x 5 columns]"
      ]
     },
     "execution_count": 28,
     "metadata": {},
     "output_type": "execute_result"
    }
   ],
   "source": [
    "personal.set_axis([\n",
    "    'customer_id',\n",
    "    'gender',\n",
    "    'senior_citizen',\n",
    "    'partner',\n",
    "    'dependents'\n",
    "], axis = 'columns', inplace = True)\n",
    "\n",
    "personal[['partner', 'dependents']] = personal[['partner', 'dependents']].replace('Yes', 1)\n",
    "personal[['partner', 'dependents']] = personal[['partner', 'dependents']].replace('No', 0)\n",
    "personal"
   ]
  },
  {
   "cell_type": "code",
   "execution_count": 29,
   "id": "b19e4fd7",
   "metadata": {},
   "outputs": [
    {
     "data": {
      "text/html": [
       "<div>\n",
       "<style scoped>\n",
       "    .dataframe tbody tr th:only-of-type {\n",
       "        vertical-align: middle;\n",
       "    }\n",
       "\n",
       "    .dataframe tbody tr th {\n",
       "        vertical-align: top;\n",
       "    }\n",
       "\n",
       "    .dataframe thead th {\n",
       "        text-align: right;\n",
       "    }\n",
       "</style>\n",
       "<table border=\"1\" class=\"dataframe\">\n",
       "  <thead>\n",
       "    <tr style=\"text-align: right;\">\n",
       "      <th></th>\n",
       "      <th>customerID</th>\n",
       "      <th>MultipleLines</th>\n",
       "    </tr>\n",
       "  </thead>\n",
       "  <tbody>\n",
       "    <tr>\n",
       "      <th>0</th>\n",
       "      <td>5575-GNVDE</td>\n",
       "      <td>No</td>\n",
       "    </tr>\n",
       "    <tr>\n",
       "      <th>1</th>\n",
       "      <td>3668-QPYBK</td>\n",
       "      <td>No</td>\n",
       "    </tr>\n",
       "    <tr>\n",
       "      <th>2</th>\n",
       "      <td>9237-HQITU</td>\n",
       "      <td>No</td>\n",
       "    </tr>\n",
       "    <tr>\n",
       "      <th>3</th>\n",
       "      <td>9305-CDSKC</td>\n",
       "      <td>Yes</td>\n",
       "    </tr>\n",
       "    <tr>\n",
       "      <th>4</th>\n",
       "      <td>1452-KIOVK</td>\n",
       "      <td>Yes</td>\n",
       "    </tr>\n",
       "    <tr>\n",
       "      <th>...</th>\n",
       "      <td>...</td>\n",
       "      <td>...</td>\n",
       "    </tr>\n",
       "    <tr>\n",
       "      <th>6356</th>\n",
       "      <td>2569-WGERO</td>\n",
       "      <td>No</td>\n",
       "    </tr>\n",
       "    <tr>\n",
       "      <th>6357</th>\n",
       "      <td>6840-RESVB</td>\n",
       "      <td>Yes</td>\n",
       "    </tr>\n",
       "    <tr>\n",
       "      <th>6358</th>\n",
       "      <td>2234-XADUH</td>\n",
       "      <td>Yes</td>\n",
       "    </tr>\n",
       "    <tr>\n",
       "      <th>6359</th>\n",
       "      <td>8361-LTMKD</td>\n",
       "      <td>Yes</td>\n",
       "    </tr>\n",
       "    <tr>\n",
       "      <th>6360</th>\n",
       "      <td>3186-AJIEK</td>\n",
       "      <td>No</td>\n",
       "    </tr>\n",
       "  </tbody>\n",
       "</table>\n",
       "<p>6361 rows × 2 columns</p>\n",
       "</div>"
      ],
      "text/plain": [
       "      customerID MultipleLines\n",
       "0     5575-GNVDE            No\n",
       "1     3668-QPYBK            No\n",
       "2     9237-HQITU            No\n",
       "3     9305-CDSKC           Yes\n",
       "4     1452-KIOVK           Yes\n",
       "...          ...           ...\n",
       "6356  2569-WGERO            No\n",
       "6357  6840-RESVB           Yes\n",
       "6358  2234-XADUH           Yes\n",
       "6359  8361-LTMKD           Yes\n",
       "6360  3186-AJIEK            No\n",
       "\n",
       "[6361 rows x 2 columns]"
      ]
     },
     "execution_count": 29,
     "metadata": {},
     "output_type": "execute_result"
    }
   ],
   "source": [
    "phone"
   ]
  },
  {
   "cell_type": "markdown",
   "id": "55360395",
   "metadata": {},
   "source": [
    "Это таблица с информацией о пользователях услугами телефонии. Добавим в неё столбец phone_service, который будет содержать информацию о том, что человек является пользователем данной услуги."
   ]
  },
  {
   "cell_type": "code",
   "execution_count": 30,
   "id": "d9188a14",
   "metadata": {},
   "outputs": [],
   "source": [
    "phone['phone_user'] = np.ones(phone.shape[0]).astype('int64')"
   ]
  },
  {
   "cell_type": "code",
   "execution_count": 31,
   "id": "8c1676e7",
   "metadata": {},
   "outputs": [
    {
     "data": {
      "text/html": [
       "<div>\n",
       "<style scoped>\n",
       "    .dataframe tbody tr th:only-of-type {\n",
       "        vertical-align: middle;\n",
       "    }\n",
       "\n",
       "    .dataframe tbody tr th {\n",
       "        vertical-align: top;\n",
       "    }\n",
       "\n",
       "    .dataframe thead th {\n",
       "        text-align: right;\n",
       "    }\n",
       "</style>\n",
       "<table border=\"1\" class=\"dataframe\">\n",
       "  <thead>\n",
       "    <tr style=\"text-align: right;\">\n",
       "      <th></th>\n",
       "      <th>customer_id</th>\n",
       "      <th>multiple_lines</th>\n",
       "      <th>phone_user</th>\n",
       "    </tr>\n",
       "  </thead>\n",
       "  <tbody>\n",
       "    <tr>\n",
       "      <th>0</th>\n",
       "      <td>5575-GNVDE</td>\n",
       "      <td>0</td>\n",
       "      <td>1</td>\n",
       "    </tr>\n",
       "    <tr>\n",
       "      <th>1</th>\n",
       "      <td>3668-QPYBK</td>\n",
       "      <td>0</td>\n",
       "      <td>1</td>\n",
       "    </tr>\n",
       "    <tr>\n",
       "      <th>2</th>\n",
       "      <td>9237-HQITU</td>\n",
       "      <td>0</td>\n",
       "      <td>1</td>\n",
       "    </tr>\n",
       "    <tr>\n",
       "      <th>3</th>\n",
       "      <td>9305-CDSKC</td>\n",
       "      <td>1</td>\n",
       "      <td>1</td>\n",
       "    </tr>\n",
       "    <tr>\n",
       "      <th>4</th>\n",
       "      <td>1452-KIOVK</td>\n",
       "      <td>1</td>\n",
       "      <td>1</td>\n",
       "    </tr>\n",
       "    <tr>\n",
       "      <th>...</th>\n",
       "      <td>...</td>\n",
       "      <td>...</td>\n",
       "      <td>...</td>\n",
       "    </tr>\n",
       "    <tr>\n",
       "      <th>6356</th>\n",
       "      <td>2569-WGERO</td>\n",
       "      <td>0</td>\n",
       "      <td>1</td>\n",
       "    </tr>\n",
       "    <tr>\n",
       "      <th>6357</th>\n",
       "      <td>6840-RESVB</td>\n",
       "      <td>1</td>\n",
       "      <td>1</td>\n",
       "    </tr>\n",
       "    <tr>\n",
       "      <th>6358</th>\n",
       "      <td>2234-XADUH</td>\n",
       "      <td>1</td>\n",
       "      <td>1</td>\n",
       "    </tr>\n",
       "    <tr>\n",
       "      <th>6359</th>\n",
       "      <td>8361-LTMKD</td>\n",
       "      <td>1</td>\n",
       "      <td>1</td>\n",
       "    </tr>\n",
       "    <tr>\n",
       "      <th>6360</th>\n",
       "      <td>3186-AJIEK</td>\n",
       "      <td>0</td>\n",
       "      <td>1</td>\n",
       "    </tr>\n",
       "  </tbody>\n",
       "</table>\n",
       "<p>6361 rows × 3 columns</p>\n",
       "</div>"
      ],
      "text/plain": [
       "     customer_id  multiple_lines  phone_user\n",
       "0     5575-GNVDE               0           1\n",
       "1     3668-QPYBK               0           1\n",
       "2     9237-HQITU               0           1\n",
       "3     9305-CDSKC               1           1\n",
       "4     1452-KIOVK               1           1\n",
       "...          ...             ...         ...\n",
       "6356  2569-WGERO               0           1\n",
       "6357  6840-RESVB               1           1\n",
       "6358  2234-XADUH               1           1\n",
       "6359  8361-LTMKD               1           1\n",
       "6360  3186-AJIEK               0           1\n",
       "\n",
       "[6361 rows x 3 columns]"
      ]
     },
     "execution_count": 31,
     "metadata": {},
     "output_type": "execute_result"
    }
   ],
   "source": [
    "phone.set_axis([\n",
    "    'customer_id',\n",
    "    'multiple_lines',\n",
    "    'phone_user'], axis = 'columns', inplace = True)\n",
    "\n",
    "phone['multiple_lines'] = phone['multiple_lines'].replace('Yes', 1)\n",
    "phone['multiple_lines'] = phone['multiple_lines'].replace('No', 0)\n",
    "phone"
   ]
  },
  {
   "cell_type": "code",
   "execution_count": 32,
   "id": "ece8ee1d",
   "metadata": {},
   "outputs": [
    {
     "name": "stdout",
     "output_type": "stream",
     "text": [
      "<class 'pandas.core.frame.DataFrame'>\n",
      "RangeIndex: 6361 entries, 0 to 6360\n",
      "Data columns (total 3 columns):\n",
      " #   Column          Non-Null Count  Dtype \n",
      "---  ------          --------------  ----- \n",
      " 0   customer_id     6361 non-null   object\n",
      " 1   multiple_lines  6361 non-null   int64 \n",
      " 2   phone_user      6361 non-null   int64 \n",
      "dtypes: int64(2), object(1)\n",
      "memory usage: 149.2+ KB\n"
     ]
    }
   ],
   "source": [
    "phone.info()"
   ]
  },
  {
   "cell_type": "code",
   "execution_count": 33,
   "id": "c94ef2b3",
   "metadata": {},
   "outputs": [],
   "source": [
    "data = contract.merge(\n",
    "    personal, on='customer_id', how='outer').merge(\n",
    "    internet, on='customer_id', how='outer').merge(\n",
    "    phone, on='customer_id', how='outer')"
   ]
  },
  {
   "cell_type": "code",
   "execution_count": 34,
   "id": "e400d83b",
   "metadata": {},
   "outputs": [
    {
     "data": {
      "text/html": [
       "<div>\n",
       "<style scoped>\n",
       "    .dataframe tbody tr th:only-of-type {\n",
       "        vertical-align: middle;\n",
       "    }\n",
       "\n",
       "    .dataframe tbody tr th {\n",
       "        vertical-align: top;\n",
       "    }\n",
       "\n",
       "    .dataframe thead th {\n",
       "        text-align: right;\n",
       "    }\n",
       "</style>\n",
       "<table border=\"1\" class=\"dataframe\">\n",
       "  <thead>\n",
       "    <tr style=\"text-align: right;\">\n",
       "      <th></th>\n",
       "      <th>customer_id</th>\n",
       "      <th>begin_date</th>\n",
       "      <th>type</th>\n",
       "      <th>paperless_billing</th>\n",
       "      <th>payment_method</th>\n",
       "      <th>monthly_charges</th>\n",
       "      <th>total_charges</th>\n",
       "      <th>churn</th>\n",
       "      <th>contract_duration</th>\n",
       "      <th>gender</th>\n",
       "      <th>...</th>\n",
       "      <th>internet_service</th>\n",
       "      <th>online_security</th>\n",
       "      <th>online_backup</th>\n",
       "      <th>device_protection</th>\n",
       "      <th>tech_support</th>\n",
       "      <th>streaming_tv</th>\n",
       "      <th>streaming_movies</th>\n",
       "      <th>internet_user</th>\n",
       "      <th>multiple_lines</th>\n",
       "      <th>phone_user</th>\n",
       "    </tr>\n",
       "  </thead>\n",
       "  <tbody>\n",
       "    <tr>\n",
       "      <th>0</th>\n",
       "      <td>7590-VHVEG</td>\n",
       "      <td>2020-01-01</td>\n",
       "      <td>Month-to-month</td>\n",
       "      <td>1</td>\n",
       "      <td>Electronic check</td>\n",
       "      <td>29.85</td>\n",
       "      <td>29.85</td>\n",
       "      <td>0</td>\n",
       "      <td>31</td>\n",
       "      <td>Female</td>\n",
       "      <td>...</td>\n",
       "      <td>DSL</td>\n",
       "      <td>0.0</td>\n",
       "      <td>1.0</td>\n",
       "      <td>0.0</td>\n",
       "      <td>0.0</td>\n",
       "      <td>0.0</td>\n",
       "      <td>0.0</td>\n",
       "      <td>1.0</td>\n",
       "      <td>NaN</td>\n",
       "      <td>NaN</td>\n",
       "    </tr>\n",
       "    <tr>\n",
       "      <th>1</th>\n",
       "      <td>5575-GNVDE</td>\n",
       "      <td>2017-04-01</td>\n",
       "      <td>One year</td>\n",
       "      <td>0</td>\n",
       "      <td>Mailed check</td>\n",
       "      <td>56.95</td>\n",
       "      <td>1889.50</td>\n",
       "      <td>0</td>\n",
       "      <td>1036</td>\n",
       "      <td>Male</td>\n",
       "      <td>...</td>\n",
       "      <td>DSL</td>\n",
       "      <td>1.0</td>\n",
       "      <td>0.0</td>\n",
       "      <td>1.0</td>\n",
       "      <td>0.0</td>\n",
       "      <td>0.0</td>\n",
       "      <td>0.0</td>\n",
       "      <td>1.0</td>\n",
       "      <td>0.0</td>\n",
       "      <td>1.0</td>\n",
       "    </tr>\n",
       "    <tr>\n",
       "      <th>2</th>\n",
       "      <td>3668-QPYBK</td>\n",
       "      <td>2019-10-01</td>\n",
       "      <td>Month-to-month</td>\n",
       "      <td>1</td>\n",
       "      <td>Mailed check</td>\n",
       "      <td>53.85</td>\n",
       "      <td>108.15</td>\n",
       "      <td>1</td>\n",
       "      <td>61</td>\n",
       "      <td>Male</td>\n",
       "      <td>...</td>\n",
       "      <td>DSL</td>\n",
       "      <td>1.0</td>\n",
       "      <td>1.0</td>\n",
       "      <td>0.0</td>\n",
       "      <td>0.0</td>\n",
       "      <td>0.0</td>\n",
       "      <td>0.0</td>\n",
       "      <td>1.0</td>\n",
       "      <td>0.0</td>\n",
       "      <td>1.0</td>\n",
       "    </tr>\n",
       "    <tr>\n",
       "      <th>3</th>\n",
       "      <td>7795-CFOCW</td>\n",
       "      <td>2016-05-01</td>\n",
       "      <td>One year</td>\n",
       "      <td>0</td>\n",
       "      <td>Bank transfer (automatic)</td>\n",
       "      <td>42.30</td>\n",
       "      <td>1840.75</td>\n",
       "      <td>0</td>\n",
       "      <td>1371</td>\n",
       "      <td>Male</td>\n",
       "      <td>...</td>\n",
       "      <td>DSL</td>\n",
       "      <td>1.0</td>\n",
       "      <td>0.0</td>\n",
       "      <td>1.0</td>\n",
       "      <td>1.0</td>\n",
       "      <td>0.0</td>\n",
       "      <td>0.0</td>\n",
       "      <td>1.0</td>\n",
       "      <td>NaN</td>\n",
       "      <td>NaN</td>\n",
       "    </tr>\n",
       "    <tr>\n",
       "      <th>4</th>\n",
       "      <td>9237-HQITU</td>\n",
       "      <td>2019-09-01</td>\n",
       "      <td>Month-to-month</td>\n",
       "      <td>1</td>\n",
       "      <td>Electronic check</td>\n",
       "      <td>70.70</td>\n",
       "      <td>151.65</td>\n",
       "      <td>1</td>\n",
       "      <td>61</td>\n",
       "      <td>Female</td>\n",
       "      <td>...</td>\n",
       "      <td>Fiber optic</td>\n",
       "      <td>0.0</td>\n",
       "      <td>0.0</td>\n",
       "      <td>0.0</td>\n",
       "      <td>0.0</td>\n",
       "      <td>0.0</td>\n",
       "      <td>0.0</td>\n",
       "      <td>1.0</td>\n",
       "      <td>0.0</td>\n",
       "      <td>1.0</td>\n",
       "    </tr>\n",
       "    <tr>\n",
       "      <th>...</th>\n",
       "      <td>...</td>\n",
       "      <td>...</td>\n",
       "      <td>...</td>\n",
       "      <td>...</td>\n",
       "      <td>...</td>\n",
       "      <td>...</td>\n",
       "      <td>...</td>\n",
       "      <td>...</td>\n",
       "      <td>...</td>\n",
       "      <td>...</td>\n",
       "      <td>...</td>\n",
       "      <td>...</td>\n",
       "      <td>...</td>\n",
       "      <td>...</td>\n",
       "      <td>...</td>\n",
       "      <td>...</td>\n",
       "      <td>...</td>\n",
       "      <td>...</td>\n",
       "      <td>...</td>\n",
       "      <td>...</td>\n",
       "      <td>...</td>\n",
       "    </tr>\n",
       "    <tr>\n",
       "      <th>7038</th>\n",
       "      <td>6840-RESVB</td>\n",
       "      <td>2018-02-01</td>\n",
       "      <td>One year</td>\n",
       "      <td>1</td>\n",
       "      <td>Mailed check</td>\n",
       "      <td>84.80</td>\n",
       "      <td>1990.50</td>\n",
       "      <td>0</td>\n",
       "      <td>730</td>\n",
       "      <td>Male</td>\n",
       "      <td>...</td>\n",
       "      <td>DSL</td>\n",
       "      <td>1.0</td>\n",
       "      <td>0.0</td>\n",
       "      <td>1.0</td>\n",
       "      <td>1.0</td>\n",
       "      <td>1.0</td>\n",
       "      <td>1.0</td>\n",
       "      <td>1.0</td>\n",
       "      <td>1.0</td>\n",
       "      <td>1.0</td>\n",
       "    </tr>\n",
       "    <tr>\n",
       "      <th>7039</th>\n",
       "      <td>2234-XADUH</td>\n",
       "      <td>2014-02-01</td>\n",
       "      <td>One year</td>\n",
       "      <td>1</td>\n",
       "      <td>Credit card (automatic)</td>\n",
       "      <td>103.20</td>\n",
       "      <td>7362.90</td>\n",
       "      <td>0</td>\n",
       "      <td>2191</td>\n",
       "      <td>Female</td>\n",
       "      <td>...</td>\n",
       "      <td>Fiber optic</td>\n",
       "      <td>0.0</td>\n",
       "      <td>1.0</td>\n",
       "      <td>1.0</td>\n",
       "      <td>0.0</td>\n",
       "      <td>1.0</td>\n",
       "      <td>1.0</td>\n",
       "      <td>1.0</td>\n",
       "      <td>1.0</td>\n",
       "      <td>1.0</td>\n",
       "    </tr>\n",
       "    <tr>\n",
       "      <th>7040</th>\n",
       "      <td>4801-JZAZL</td>\n",
       "      <td>2019-03-01</td>\n",
       "      <td>Month-to-month</td>\n",
       "      <td>1</td>\n",
       "      <td>Electronic check</td>\n",
       "      <td>29.60</td>\n",
       "      <td>346.45</td>\n",
       "      <td>0</td>\n",
       "      <td>337</td>\n",
       "      <td>Female</td>\n",
       "      <td>...</td>\n",
       "      <td>DSL</td>\n",
       "      <td>1.0</td>\n",
       "      <td>0.0</td>\n",
       "      <td>0.0</td>\n",
       "      <td>0.0</td>\n",
       "      <td>0.0</td>\n",
       "      <td>0.0</td>\n",
       "      <td>1.0</td>\n",
       "      <td>NaN</td>\n",
       "      <td>NaN</td>\n",
       "    </tr>\n",
       "    <tr>\n",
       "      <th>7041</th>\n",
       "      <td>8361-LTMKD</td>\n",
       "      <td>2019-07-01</td>\n",
       "      <td>Month-to-month</td>\n",
       "      <td>1</td>\n",
       "      <td>Mailed check</td>\n",
       "      <td>74.40</td>\n",
       "      <td>306.60</td>\n",
       "      <td>1</td>\n",
       "      <td>123</td>\n",
       "      <td>Male</td>\n",
       "      <td>...</td>\n",
       "      <td>Fiber optic</td>\n",
       "      <td>0.0</td>\n",
       "      <td>0.0</td>\n",
       "      <td>0.0</td>\n",
       "      <td>0.0</td>\n",
       "      <td>0.0</td>\n",
       "      <td>0.0</td>\n",
       "      <td>1.0</td>\n",
       "      <td>1.0</td>\n",
       "      <td>1.0</td>\n",
       "    </tr>\n",
       "    <tr>\n",
       "      <th>7042</th>\n",
       "      <td>3186-AJIEK</td>\n",
       "      <td>2014-08-01</td>\n",
       "      <td>Two year</td>\n",
       "      <td>1</td>\n",
       "      <td>Bank transfer (automatic)</td>\n",
       "      <td>105.65</td>\n",
       "      <td>6844.50</td>\n",
       "      <td>0</td>\n",
       "      <td>2010</td>\n",
       "      <td>Male</td>\n",
       "      <td>...</td>\n",
       "      <td>Fiber optic</td>\n",
       "      <td>1.0</td>\n",
       "      <td>0.0</td>\n",
       "      <td>1.0</td>\n",
       "      <td>1.0</td>\n",
       "      <td>1.0</td>\n",
       "      <td>1.0</td>\n",
       "      <td>1.0</td>\n",
       "      <td>0.0</td>\n",
       "      <td>1.0</td>\n",
       "    </tr>\n",
       "  </tbody>\n",
       "</table>\n",
       "<p>7043 rows × 23 columns</p>\n",
       "</div>"
      ],
      "text/plain": [
       "     customer_id begin_date            type  paperless_billing  \\\n",
       "0     7590-VHVEG 2020-01-01  Month-to-month                  1   \n",
       "1     5575-GNVDE 2017-04-01        One year                  0   \n",
       "2     3668-QPYBK 2019-10-01  Month-to-month                  1   \n",
       "3     7795-CFOCW 2016-05-01        One year                  0   \n",
       "4     9237-HQITU 2019-09-01  Month-to-month                  1   \n",
       "...          ...        ...             ...                ...   \n",
       "7038  6840-RESVB 2018-02-01        One year                  1   \n",
       "7039  2234-XADUH 2014-02-01        One year                  1   \n",
       "7040  4801-JZAZL 2019-03-01  Month-to-month                  1   \n",
       "7041  8361-LTMKD 2019-07-01  Month-to-month                  1   \n",
       "7042  3186-AJIEK 2014-08-01        Two year                  1   \n",
       "\n",
       "                 payment_method  monthly_charges  total_charges  churn  \\\n",
       "0              Electronic check            29.85          29.85      0   \n",
       "1                  Mailed check            56.95        1889.50      0   \n",
       "2                  Mailed check            53.85         108.15      1   \n",
       "3     Bank transfer (automatic)            42.30        1840.75      0   \n",
       "4              Electronic check            70.70         151.65      1   \n",
       "...                         ...              ...            ...    ...   \n",
       "7038               Mailed check            84.80        1990.50      0   \n",
       "7039    Credit card (automatic)           103.20        7362.90      0   \n",
       "7040           Electronic check            29.60         346.45      0   \n",
       "7041               Mailed check            74.40         306.60      1   \n",
       "7042  Bank transfer (automatic)           105.65        6844.50      0   \n",
       "\n",
       "      contract_duration  gender  ...  internet_service  online_security  \\\n",
       "0                    31  Female  ...               DSL              0.0   \n",
       "1                  1036    Male  ...               DSL              1.0   \n",
       "2                    61    Male  ...               DSL              1.0   \n",
       "3                  1371    Male  ...               DSL              1.0   \n",
       "4                    61  Female  ...       Fiber optic              0.0   \n",
       "...                 ...     ...  ...               ...              ...   \n",
       "7038                730    Male  ...               DSL              1.0   \n",
       "7039               2191  Female  ...       Fiber optic              0.0   \n",
       "7040                337  Female  ...               DSL              1.0   \n",
       "7041                123    Male  ...       Fiber optic              0.0   \n",
       "7042               2010    Male  ...       Fiber optic              1.0   \n",
       "\n",
       "      online_backup device_protection  tech_support  streaming_tv  \\\n",
       "0               1.0               0.0           0.0           0.0   \n",
       "1               0.0               1.0           0.0           0.0   \n",
       "2               1.0               0.0           0.0           0.0   \n",
       "3               0.0               1.0           1.0           0.0   \n",
       "4               0.0               0.0           0.0           0.0   \n",
       "...             ...               ...           ...           ...   \n",
       "7038            0.0               1.0           1.0           1.0   \n",
       "7039            1.0               1.0           0.0           1.0   \n",
       "7040            0.0               0.0           0.0           0.0   \n",
       "7041            0.0               0.0           0.0           0.0   \n",
       "7042            0.0               1.0           1.0           1.0   \n",
       "\n",
       "      streaming_movies  internet_user  multiple_lines  phone_user  \n",
       "0                  0.0            1.0             NaN         NaN  \n",
       "1                  0.0            1.0             0.0         1.0  \n",
       "2                  0.0            1.0             0.0         1.0  \n",
       "3                  0.0            1.0             NaN         NaN  \n",
       "4                  0.0            1.0             0.0         1.0  \n",
       "...                ...            ...             ...         ...  \n",
       "7038               1.0            1.0             1.0         1.0  \n",
       "7039               1.0            1.0             1.0         1.0  \n",
       "7040               0.0            1.0             NaN         NaN  \n",
       "7041               0.0            1.0             1.0         1.0  \n",
       "7042               1.0            1.0             0.0         1.0  \n",
       "\n",
       "[7043 rows x 23 columns]"
      ]
     },
     "execution_count": 34,
     "metadata": {},
     "output_type": "execute_result"
    }
   ],
   "source": [
    "data"
   ]
  },
  {
   "cell_type": "code",
   "execution_count": 35,
   "id": "32997aff",
   "metadata": {},
   "outputs": [
    {
     "name": "stdout",
     "output_type": "stream",
     "text": [
      "<class 'pandas.core.frame.DataFrame'>\n",
      "Int64Index: 7043 entries, 0 to 7042\n",
      "Data columns (total 23 columns):\n",
      " #   Column             Non-Null Count  Dtype         \n",
      "---  ------             --------------  -----         \n",
      " 0   customer_id        7043 non-null   object        \n",
      " 1   begin_date         7043 non-null   datetime64[ns]\n",
      " 2   type               7043 non-null   object        \n",
      " 3   paperless_billing  7043 non-null   int64         \n",
      " 4   payment_method     7043 non-null   object        \n",
      " 5   monthly_charges    7043 non-null   float64       \n",
      " 6   total_charges      7032 non-null   float64       \n",
      " 7   churn              7043 non-null   int64         \n",
      " 8   contract_duration  7043 non-null   int64         \n",
      " 9   gender             7043 non-null   object        \n",
      " 10  senior_citizen     7043 non-null   int64         \n",
      " 11  partner            7043 non-null   int64         \n",
      " 12  dependents         7043 non-null   int64         \n",
      " 13  internet_service   5517 non-null   object        \n",
      " 14  online_security    5517 non-null   float64       \n",
      " 15  online_backup      5517 non-null   float64       \n",
      " 16  device_protection  5517 non-null   float64       \n",
      " 17  tech_support       5517 non-null   float64       \n",
      " 18  streaming_tv       5517 non-null   float64       \n",
      " 19  streaming_movies   5517 non-null   float64       \n",
      " 20  internet_user      5517 non-null   float64       \n",
      " 21  multiple_lines     6361 non-null   float64       \n",
      " 22  phone_user         6361 non-null   float64       \n",
      "dtypes: datetime64[ns](1), float64(11), int64(6), object(5)\n",
      "memory usage: 1.3+ MB\n"
     ]
    }
   ],
   "source": [
    "data.info()"
   ]
  },
  {
   "cell_type": "markdown",
   "id": "350bf12e",
   "metadata": {},
   "source": [
    "Получившиеся после слияния таблиц пропуски будем заполнять следующим образом:\n",
    "\n",
    "1. В столбцах online_security, online_backup, device_protection, tech_support, streaming_tv, streaming_movies, internet_user заполняем нулями, так как эти клиенты не являются пользователями интернета от данного провайдера. В столбце internet_service заполняем значением no service.\n",
    "2. В столбцах phone_user и multiple_lines заполняем нулями, так как эти клиенты не пользуются услугами телефонии от компании."
   ]
  },
  {
   "cell_type": "code",
   "execution_count": 36,
   "id": "5db78d97",
   "metadata": {},
   "outputs": [
    {
     "name": "stdout",
     "output_type": "stream",
     "text": [
      "<class 'pandas.core.frame.DataFrame'>\n",
      "Int64Index: 7043 entries, 0 to 7042\n",
      "Data columns (total 23 columns):\n",
      " #   Column             Non-Null Count  Dtype         \n",
      "---  ------             --------------  -----         \n",
      " 0   customer_id        7043 non-null   object        \n",
      " 1   begin_date         7043 non-null   datetime64[ns]\n",
      " 2   type               7043 non-null   object        \n",
      " 3   paperless_billing  7043 non-null   int64         \n",
      " 4   payment_method     7043 non-null   object        \n",
      " 5   monthly_charges    7043 non-null   float64       \n",
      " 6   total_charges      7032 non-null   float64       \n",
      " 7   churn              7043 non-null   int64         \n",
      " 8   contract_duration  7043 non-null   int64         \n",
      " 9   gender             7043 non-null   object        \n",
      " 10  senior_citizen     7043 non-null   int64         \n",
      " 11  partner            7043 non-null   int64         \n",
      " 12  dependents         7043 non-null   int64         \n",
      " 13  internet_service   7043 non-null   object        \n",
      " 14  online_security    7043 non-null   float64       \n",
      " 15  online_backup      7043 non-null   float64       \n",
      " 16  device_protection  7043 non-null   float64       \n",
      " 17  tech_support       7043 non-null   float64       \n",
      " 18  streaming_tv       7043 non-null   float64       \n",
      " 19  streaming_movies   7043 non-null   float64       \n",
      " 20  internet_user      7043 non-null   float64       \n",
      " 21  multiple_lines     7043 non-null   float64       \n",
      " 22  phone_user         7043 non-null   float64       \n",
      "dtypes: datetime64[ns](1), float64(11), int64(6), object(5)\n",
      "memory usage: 1.3+ MB\n"
     ]
    }
   ],
   "source": [
    "data['internet_service'] = data['internet_service'].fillna('no service')\n",
    "\n",
    "data[['online_security', 'online_backup', 'device_protection', 'tech_support',\n",
    "      'streaming_tv', 'streaming_movies', 'internet_user', 'phone_user', 'multiple_lines']] = data[\n",
    "    ['online_security', 'online_backup', 'device_protection', 'tech_support',\n",
    "      'streaming_tv', 'streaming_movies', 'internet_user', 'phone_user', 'multiple_lines']].fillna(0)\n",
    "\n",
    "data.info()"
   ]
  },
  {
   "cell_type": "markdown",
   "id": "1e138a15",
   "metadata": {},
   "source": [
    "Осталось незначительное количество пропусков в столбце total_charges - мы примем решение по нему после проведения исследовательского анализа данных. "
   ]
  },
  {
   "cell_type": "markdown",
   "id": "b19ae14a",
   "metadata": {},
   "source": [
    "## Исследовательский анализ данных <a id=\"EDA\"></a>"
   ]
  },
  {
   "cell_type": "markdown",
   "id": "47b9617b",
   "metadata": {},
   "source": [
    "Построим график распределения дат заключения контрактов:"
   ]
  },
  {
   "cell_type": "code",
   "execution_count": 37,
   "id": "89637720",
   "metadata": {},
   "outputs": [
    {
     "data": {
      "image/png": "[encoded data removed]",
      "text/plain": [
       "<Figure size 432x288 with 1 Axes>"
      ]
     },
     "metadata": {
      "needs_background": "light"
     },
     "output_type": "display_data"
    }
   ],
   "source": [
    "data['begin_date'].hist()\n",
    "plt.xlabel('Год заключения договора')\n",
    "plt.ylabel('Количество')\n",
    "plt.title('Распределение значений дат заключения договоров');"
   ]
  },
  {
   "cell_type": "markdown",
   "id": "f6eee496",
   "metadata": {},
   "source": [
    "Компания стабильно заключает договоры на протяжении последних 7 лет, при этом в 2020 году количество новых клиентов резко выросло более чем в два раза - тенденция положительная, но, как мы помним, отток клиентов так же начался в конце 2019."
   ]
  },
  {
   "cell_type": "code",
   "execution_count": 38,
   "id": "6f441558",
   "metadata": {},
   "outputs": [
    {
     "data": {
      "text/plain": [
       "0    5174\n",
       "1    1869\n",
       "Name: churn, dtype: int64"
      ]
     },
     "execution_count": 38,
     "metadata": {},
     "output_type": "execute_result"
    }
   ],
   "source": [
    "data['churn'].value_counts()"
   ]
  },
  {
   "cell_type": "markdown",
   "id": "787421ae",
   "metadata": {},
   "source": [
    "Более 30% договоров было расторгнуто."
   ]
  },
  {
   "cell_type": "code",
   "execution_count": 39,
   "id": "f6c23d6d",
   "metadata": {},
   "outputs": [
    {
     "data": {
      "image/png": "[encoded data removed]",
      "text/plain": [
       "<Figure size 432x288 with 1 Axes>"
      ]
     },
     "metadata": {
      "needs_background": "light"
     },
     "output_type": "display_data"
    }
   ],
   "source": [
    "palette = {0:\"darkcyan\",\n",
    "           1:\"red\"}\n",
    "data['begin_year'] = data['begin_date'].dt.year\n",
    "sns.countplot(x=\"begin_year\", hue=\"churn\", data=data, palette=palette)\n",
    "plt.legend(title=False, loc='upper right', labels=['Остались', 'Ушли'])\n",
    "plt.xlabel(' ')\n",
    "plt.ylabel('Количество пользователей')\n",
    "plt.title('Отток клиентов по дате заключения договора');"
   ]
  },
  {
   "cell_type": "markdown",
   "id": "bfa2c6a9",
   "metadata": {},
   "source": [
    "Видим, что отток клиентов рос медленно и постепенно пропорционально росту количества новых клиентов, но в 2019 году произошёл резкий скачок - количество расторгнутых контрактов превысило количество новых."
   ]
  },
  {
   "cell_type": "code",
   "execution_count": 40,
   "id": "0560e69a",
   "metadata": {},
   "outputs": [],
   "source": [
    "data = data.drop(['begin_year'], axis=1)"
   ]
  },
  {
   "cell_type": "markdown",
   "id": "df2973af",
   "metadata": {},
   "source": [
    "Посмотрим, как распределяется количество ушедших клиентов в зависимости от различных факторов. Начнём с распределения по типу оплаты - ежемесячно или долгосрочно."
   ]
  },
  {
   "cell_type": "code",
   "execution_count": 41,
   "id": "cefe6f1e",
   "metadata": {},
   "outputs": [
    {
     "data": {
      "image/png": "[encoded data removed]",
      "text/plain": [
       "<Figure size 432x288 with 1 Axes>"
      ]
     },
     "metadata": {
      "needs_background": "light"
     },
     "output_type": "display_data"
    }
   ],
   "source": [
    "sns.countplot(x=\"type\", hue=\"churn\", data=data, palette=palette)\n",
    "plt.legend(title=False, loc='upper right', labels=['Остались', 'Ушли'])\n",
    "plt.xlabel(' ')\n",
    "plt.ylabel('Количество пользователей')\n",
    "plt.title('Отток клиентов по типу оплаты');"
   ]
  },
  {
   "cell_type": "markdown",
   "id": "e0c4a3d6",
   "metadata": {},
   "source": [
    "Самый большой отток клиентов происходит в группе, совершающей оплату на ежемесячной основе.\n",
    "\n",
    "Посмотрим, есть ли корреляция в зависимости от наличия иждивенцев или партнёра:"
   ]
  },
  {
   "cell_type": "code",
   "execution_count": 42,
   "id": "4d3e6f45",
   "metadata": {},
   "outputs": [
    {
     "data": {
      "image/png": "[encoded data removed]",
      "text/plain": [
       "<Figure size 432x288 with 1 Axes>"
      ]
     },
     "metadata": {
      "needs_background": "light"
     },
     "output_type": "display_data"
    }
   ],
   "source": [
    "sns.countplot(x=\"dependents\", hue=\"churn\", data=data, palette=palette)\n",
    "plt.legend(title=False, loc='upper right', labels=['Остались', 'Ушли'])\n",
    "plt.xticks(\n",
    "    [0, 1], \n",
    "    [\"Нет\", \"Есть\"])\n",
    "plt.xlabel(' ')\n",
    "plt.ylabel('Количество пользователей')\n",
    "plt.title('Отток клиентов по наличию иждивенцев');"
   ]
  },
  {
   "cell_type": "code",
   "execution_count": 43,
   "id": "aaf6876d",
   "metadata": {},
   "outputs": [
    {
     "data": {
      "image/png": "[encoded data removed]",
      "text/plain": [
       "<Figure size 432x288 with 1 Axes>"
      ]
     },
     "metadata": {
      "needs_background": "light"
     },
     "output_type": "display_data"
    }
   ],
   "source": [
    "sns.countplot(x=\"partner\", hue=\"churn\", data=data, palette=palette)\n",
    "plt.legend(title=False, loc='upper right', labels=['Остались', 'Ушли'])\n",
    "plt.xticks(\n",
    "    [0, 1], \n",
    "    [\"Нет\", \"Есть\"])\n",
    "plt.xlabel(' ')\n",
    "plt.ylabel('Количество пользователей')\n",
    "plt.title('Отток клиентов по наличию партнёра');"
   ]
  },
  {
   "cell_type": "markdown",
   "id": "15876019",
   "metadata": {},
   "source": [
    "Одинокоживущие абоненты чаще прекращают пользоваться услугами компании по сравнению с теми, у кого есть иждивенцы и партнёры, но в целом, опираясь на графики, нельзя сказать, что влияние этих факторов существенно, так как в процентном соотношении разница не слишком велика. \n",
    "\n",
    "Посмотрим на распределение оттока в зависимости от способа получения счёта за услуги:"
   ]
  },
  {
   "cell_type": "code",
   "execution_count": 44,
   "id": "7b22b6db",
   "metadata": {},
   "outputs": [
    {
     "data": {
      "image/png": "[encoded data removed]",
      "text/plain": [
       "<Figure size 432x288 with 1 Axes>"
      ]
     },
     "metadata": {
      "needs_background": "light"
     },
     "output_type": "display_data"
    }
   ],
   "source": [
    "sns.countplot(x=\"paperless_billing\", hue=\"churn\", data=data, palette=palette)\n",
    "plt.legend(title=False, loc='upper right', labels=['Остались', 'Ушли'])\n",
    "plt.xticks(\n",
    "    [0, 1], \n",
    "    [\"Бумажная квитанция\", \"Электронная квитанция\"])\n",
    "plt.xlabel(' ')\n",
    "plt.ylabel('Количество пользователей')\n",
    "plt.title('Отток клиентов по способу получения счёта');"
   ]
  },
  {
   "cell_type": "markdown",
   "id": "d95121ef",
   "metadata": {},
   "source": [
    "Среди тех, кто отказался от бумажных квитанций, процент ушедших выше.\n",
    "\n",
    "Рассмотрим, как способ расчёта влияет на количество ушедших клиентов:"
   ]
  },
  {
   "cell_type": "code",
   "execution_count": 45,
   "id": "a3533ca9",
   "metadata": {},
   "outputs": [
    {
     "data": {
      "image/png": "[encoded data removed]",
      "text/plain": [
       "<Figure size 432x288 with 1 Axes>"
      ]
     },
     "metadata": {
      "needs_background": "light"
     },
     "output_type": "display_data"
    }
   ],
   "source": [
    "sns.countplot(x=\"payment_method\", hue=\"churn\", data=data, palette=palette)\n",
    "plt.legend(title=False, loc='upper right', labels=['Остались', 'Ушли'])\n",
    "plt.xticks(rotation=10)\n",
    "plt.xlabel(' ')\n",
    "plt.ylabel('Количество пользователей')\n",
    "plt.title('Отток клиентов по способу расчёта');"
   ]
  },
  {
   "cell_type": "markdown",
   "id": "488c95a8",
   "metadata": {},
   "source": [
    "Клиенты, использующие автоматические способы оплаты являются более надёжными. Процент оттока среди клиентов, используюзих электронный расчёт, очень велик - компанию покидает почти половина таких клиентов."
   ]
  },
  {
   "cell_type": "markdown",
   "id": "3c674bfe",
   "metadata": {},
   "source": [
    "Построим диаграмму оттока по способу подключения интернета:"
   ]
  },
  {
   "cell_type": "code",
   "execution_count": 46,
   "id": "75a9eb69",
   "metadata": {},
   "outputs": [
    {
     "data": {
      "image/png": "[encoded data removed]",
      "text/plain": [
       "<Figure size 432x288 with 1 Axes>"
      ]
     },
     "metadata": {
      "needs_background": "light"
     },
     "output_type": "display_data"
    }
   ],
   "source": [
    "sns.countplot(x=\"internet_service\", hue=\"churn\", data=data, palette=palette)\n",
    "plt.legend(title=False, loc='upper right', labels=['Остались', 'Ушли'])\n",
    "plt.xlabel(' ')\n",
    "plt.ylabel('Количество пользователей')\n",
    "plt.title('Отток клиентов по способу подключения интернета');"
   ]
  },
  {
   "cell_type": "markdown",
   "id": "269af327",
   "metadata": {},
   "source": [
    "Пользователи интернета, подключённого через оптоволокно, гораздо чаще прекращают пользоваться услугами компании в сравнениями с пользователями DSL-интернета."
   ]
  },
  {
   "cell_type": "markdown",
   "id": "2e0c5c2a",
   "metadata": {},
   "source": [
    "Посмотрим на существование корреляции между значениями в таблице contract. Для этого построим график и матрицу корреляции:"
   ]
  },
  {
   "cell_type": "code",
   "execution_count": 47,
   "id": "def3f64a",
   "metadata": {},
   "outputs": [
    {
     "data": {
      "image/png": "[encoded data removed]",
      "text/plain": [
       "<Figure size 432x288 with 1 Axes>"
      ]
     },
     "metadata": {
      "needs_background": "light"
     },
     "output_type": "display_data"
    }
   ],
   "source": [
    "data.plot(x='monthly_charges', y='total_charges', kind='scatter');"
   ]
  },
  {
   "cell_type": "code",
   "execution_count": 48,
   "id": "a1ea2935",
   "metadata": {},
   "outputs": [
    {
     "data": {
      "text/html": [
       "<div>\n",
       "<style scoped>\n",
       "    .dataframe tbody tr th:only-of-type {\n",
       "        vertical-align: middle;\n",
       "    }\n",
       "\n",
       "    .dataframe tbody tr th {\n",
       "        vertical-align: top;\n",
       "    }\n",
       "\n",
       "    .dataframe thead th {\n",
       "        text-align: right;\n",
       "    }\n",
       "</style>\n",
       "<table border=\"1\" class=\"dataframe\">\n",
       "  <thead>\n",
       "    <tr style=\"text-align: right;\">\n",
       "      <th></th>\n",
       "      <th>paperless_billing</th>\n",
       "      <th>monthly_charges</th>\n",
       "      <th>total_charges</th>\n",
       "      <th>churn</th>\n",
       "      <th>contract_duration</th>\n",
       "    </tr>\n",
       "  </thead>\n",
       "  <tbody>\n",
       "    <tr>\n",
       "      <th>paperless_billing</th>\n",
       "      <td>1.000000</td>\n",
       "      <td>0.352150</td>\n",
       "      <td>0.157830</td>\n",
       "      <td>0.191825</td>\n",
       "      <td>0.006059</td>\n",
       "    </tr>\n",
       "    <tr>\n",
       "      <th>monthly_charges</th>\n",
       "      <td>0.352150</td>\n",
       "      <td>1.000000</td>\n",
       "      <td>0.651065</td>\n",
       "      <td>0.193356</td>\n",
       "      <td>0.247754</td>\n",
       "    </tr>\n",
       "    <tr>\n",
       "      <th>total_charges</th>\n",
       "      <td>0.157830</td>\n",
       "      <td>0.651065</td>\n",
       "      <td>1.000000</td>\n",
       "      <td>-0.199484</td>\n",
       "      <td>0.825811</td>\n",
       "    </tr>\n",
       "    <tr>\n",
       "      <th>churn</th>\n",
       "      <td>0.191825</td>\n",
       "      <td>0.193356</td>\n",
       "      <td>-0.199484</td>\n",
       "      <td>1.000000</td>\n",
       "      <td>-0.352673</td>\n",
       "    </tr>\n",
       "    <tr>\n",
       "      <th>contract_duration</th>\n",
       "      <td>0.006059</td>\n",
       "      <td>0.247754</td>\n",
       "      <td>0.825811</td>\n",
       "      <td>-0.352673</td>\n",
       "      <td>1.000000</td>\n",
       "    </tr>\n",
       "  </tbody>\n",
       "</table>\n",
       "</div>"
      ],
      "text/plain": [
       "                   paperless_billing  monthly_charges  total_charges  \\\n",
       "paperless_billing           1.000000         0.352150       0.157830   \n",
       "monthly_charges             0.352150         1.000000       0.651065   \n",
       "total_charges               0.157830         0.651065       1.000000   \n",
       "churn                       0.191825         0.193356      -0.199484   \n",
       "contract_duration           0.006059         0.247754       0.825811   \n",
       "\n",
       "                      churn  contract_duration  \n",
       "paperless_billing  0.191825           0.006059  \n",
       "monthly_charges    0.193356           0.247754  \n",
       "total_charges     -0.199484           0.825811  \n",
       "churn              1.000000          -0.352673  \n",
       "contract_duration -0.352673           1.000000  "
      ]
     },
     "execution_count": 48,
     "metadata": {},
     "output_type": "execute_result"
    }
   ],
   "source": [
    "contract.corr()"
   ]
  },
  {
   "cell_type": "markdown",
   "id": "3c0266a3",
   "metadata": {},
   "source": [
    "Имеем два признака, которые сильно коррелируют с признаком total_charges: это monthly_charges (коэффициент Пирсона 0,65) и contract_duration (коэффициент Пирсона 0,82). Видим на графике прямую зависимость между суммой ежемесячных трат клиента и общей суммой трат, с зависимостью между признаками \"длительность контракта\" и \"суммарные траты\" нет сомнений - чем дольше пользователь является клиентом компании, тем больше его суммарные траты. Перед обучением модели нужно будет удалить один из столбцов - total_charges (как раз в нём у нас были пропуски).\n",
    "\n",
    "Взглянем на распределение значений ежемесячных трат:"
   ]
  },
  {
   "cell_type": "code",
   "execution_count": 49,
   "id": "3d7f4a03",
   "metadata": {},
   "outputs": [
    {
     "data": {
      "image/png": "[encoded data removed]",
      "text/plain": [
       "<Figure size 1080x432 with 1 Axes>"
      ]
     },
     "metadata": {
      "needs_background": "light"
     },
     "output_type": "display_data"
    }
   ],
   "source": [
    "plt.figure(figsize=(15,6))\n",
    "plt.grid()\n",
    "sns.histplot(data=data, x=\"monthly_charges\", bins=200, kde=True)\n",
    "plt.xlabel('Потрачено в месяц')\n",
    "plt.ylabel('Значение')\n",
    "plt.xticks(np.arange(20, 130, 5))\n",
    "plt.title('Распределение значений ежемесячных трат');"
   ]
  },
  {
   "cell_type": "markdown",
   "id": "9cf27ecd",
   "metadata": {},
   "source": [
    "У графика много пиков - каждый из них приходится на \"юбилейное\" число (20, 25, 30 и т.д.). Возможно, это связано с системой предоплаты, а не постоплаты - скорее всего, пользователи вносят сумму кратную пяти.\n",
    "\n",
    "Построим диаграмму размаха:"
   ]
  },
  {
   "cell_type": "code",
   "execution_count": 50,
   "id": "3d2a7327",
   "metadata": {},
   "outputs": [
    {
     "data": {
      "image/png": "[encoded data removed]",
      "text/plain": [
       "<Figure size 432x288 with 1 Axes>"
      ]
     },
     "metadata": {
      "needs_background": "light"
     },
     "output_type": "display_data"
    }
   ],
   "source": [
    "sns.boxplot(x=data['monthly_charges'])\n",
    "plt.xlabel('Потрачено в месяц')\n",
    "plt.title('Диаграмма размаха значений ежемесячных трат');"
   ]
  },
  {
   "cell_type": "markdown",
   "id": "3c5f5dc5",
   "metadata": {},
   "source": [
    "Несмотря на разброс значений ежемесячных трат, согласно диаграмме размаха в нашей выборке отсутствуют аномалии. Большинство пользователей тратит на услуги от 35 до 90 в месяц, в среднем 64."
   ]
  },
  {
   "cell_type": "markdown",
   "id": "536d0c78",
   "metadata": {},
   "source": [
    "Построим диаграммы для суммарных значений трат:"
   ]
  },
  {
   "cell_type": "code",
   "execution_count": 51,
   "id": "b4eda122",
   "metadata": {},
   "outputs": [
    {
     "data": {
      "image/png": "[encoded data removed]",
      "text/plain": [
       "<Figure size 1080x432 with 1 Axes>"
      ]
     },
     "metadata": {
      "needs_background": "light"
     },
     "output_type": "display_data"
    }
   ],
   "source": [
    "plt.figure(figsize=(15,6))\n",
    "plt.grid()\n",
    "sns.histplot(data=data, x=\"total_charges\", bins=200, kde=True)\n",
    "plt.xlabel('Потрачено всего')\n",
    "plt.ylabel('Значение')\n",
    "plt.title('Распределение значений суммарных трат');"
   ]
  },
  {
   "cell_type": "code",
   "execution_count": 52,
   "id": "a2073e6e",
   "metadata": {},
   "outputs": [
    {
     "data": {
      "image/png": "[encoded data removed]",
      "text/plain": [
       "<Figure size 432x288 with 1 Axes>"
      ]
     },
     "metadata": {
      "needs_background": "light"
     },
     "output_type": "display_data"
    }
   ],
   "source": [
    "sns.boxplot(x=data['total_charges'])\n",
    "plt.xlabel('Потрачено всего')\n",
    "plt.title('Диаграмма размаха значений суммарных трат');"
   ]
  },
  {
   "cell_type": "markdown",
   "id": "0dddc746",
   "metadata": {},
   "source": [
    "Выбросов также нет, данные распределены иначе чем значения в столбце monthly_charges - график сильно скошен вправо, что говорит о том, что в нашей выборке много крупных значений total_charges. Это может быть связано с тем, что значительная часть клиентов уже длительное время пользуется услугами компании."
   ]
  },
  {
   "cell_type": "code",
   "execution_count": 53,
   "id": "ccf3c7cb",
   "metadata": {},
   "outputs": [
    {
     "data": {
      "text/html": [
       "<div>\n",
       "<style scoped>\n",
       "    .dataframe tbody tr th:only-of-type {\n",
       "        vertical-align: middle;\n",
       "    }\n",
       "\n",
       "    .dataframe tbody tr th {\n",
       "        vertical-align: top;\n",
       "    }\n",
       "\n",
       "    .dataframe thead th {\n",
       "        text-align: right;\n",
       "    }\n",
       "</style>\n",
       "<table border=\"1\" class=\"dataframe\">\n",
       "  <thead>\n",
       "    <tr style=\"text-align: right;\">\n",
       "      <th></th>\n",
       "      <th>monthly_charges</th>\n",
       "      <th>total_charges</th>\n",
       "    </tr>\n",
       "  </thead>\n",
       "  <tbody>\n",
       "    <tr>\n",
       "      <th>count</th>\n",
       "      <td>7043.000000</td>\n",
       "      <td>7032.000000</td>\n",
       "    </tr>\n",
       "    <tr>\n",
       "      <th>mean</th>\n",
       "      <td>64.761692</td>\n",
       "      <td>2283.300441</td>\n",
       "    </tr>\n",
       "    <tr>\n",
       "      <th>std</th>\n",
       "      <td>30.090047</td>\n",
       "      <td>2266.771362</td>\n",
       "    </tr>\n",
       "    <tr>\n",
       "      <th>min</th>\n",
       "      <td>18.250000</td>\n",
       "      <td>18.800000</td>\n",
       "    </tr>\n",
       "    <tr>\n",
       "      <th>25%</th>\n",
       "      <td>35.500000</td>\n",
       "      <td>401.450000</td>\n",
       "    </tr>\n",
       "    <tr>\n",
       "      <th>50%</th>\n",
       "      <td>70.350000</td>\n",
       "      <td>1397.475000</td>\n",
       "    </tr>\n",
       "    <tr>\n",
       "      <th>75%</th>\n",
       "      <td>89.850000</td>\n",
       "      <td>3794.737500</td>\n",
       "    </tr>\n",
       "    <tr>\n",
       "      <th>max</th>\n",
       "      <td>118.750000</td>\n",
       "      <td>8684.800000</td>\n",
       "    </tr>\n",
       "  </tbody>\n",
       "</table>\n",
       "</div>"
      ],
      "text/plain": [
       "       monthly_charges  total_charges\n",
       "count      7043.000000    7032.000000\n",
       "mean         64.761692    2283.300441\n",
       "std          30.090047    2266.771362\n",
       "min          18.250000      18.800000\n",
       "25%          35.500000     401.450000\n",
       "50%          70.350000    1397.475000\n",
       "75%          89.850000    3794.737500\n",
       "max         118.750000    8684.800000"
      ]
     },
     "execution_count": 53,
     "metadata": {},
     "output_type": "execute_result"
    }
   ],
   "source": [
    "data[['monthly_charges', 'total_charges']].describe()"
   ]
  },
  {
   "cell_type": "markdown",
   "id": "82eae587",
   "metadata": {},
   "source": [
    "Оценим соотношение ежемесячных трат среди действительных клиентов и тех, кто расторгнул договор с компанией:"
   ]
  },
  {
   "cell_type": "code",
   "execution_count": 54,
   "id": "80e1ffe3",
   "metadata": {},
   "outputs": [
    {
     "data": {
      "image/png": "[encoded data removed]",
      "text/plain": [
       "<Figure size 1080x432 with 2 Axes>"
      ]
     },
     "metadata": {
      "needs_background": "light"
     },
     "output_type": "display_data"
    }
   ],
   "source": [
    "fig, axes = plt.subplots(2, 1, sharex=True, sharey=True, figsize=(15,6))\n",
    "fig.suptitle('Ежемесячные траты')\n",
    "plt.xlabel(' ')\n",
    "axes[0].grid()\n",
    "axes[1].grid()\n",
    "\n",
    "#остались\n",
    "sns.histplot(data=data[data['churn'] == 0], x=\"monthly_charges\", bins=120, kde=True, ax=axes[0])\n",
    "axes[0].set_title('Остались')\n",
    "\n",
    "# ушли\n",
    "sns.histplot(data=data[data['churn'] == 1], x=\"monthly_charges\", bins=120, kde=True, ax=axes[1])\n",
    "plt.xticks(np.arange(20, 130, 5))\n",
    "axes[1].set_title('Ушли');"
   ]
  },
  {
   "cell_type": "markdown",
   "id": "cc2a2d5d",
   "metadata": {},
   "source": [
    "На графике мы видим, что большинство лояльных клиентов тратят на услуги связи 20-30 в месяц, тогда как большинство ушедших клиентов тратили на услуги провайдера сумму больше среднего значения 64 в месяц.\n",
    "\n",
    "Рассмотрим соотношение между лояльными и нелояльными клиентами среди пользователей интернет-услуг компании и тех, кто пользуется услугами стационарной телефонной связи:"
   ]
  },
  {
   "cell_type": "code",
   "execution_count": 55,
   "id": "6674e7e2",
   "metadata": {},
   "outputs": [
    {
     "data": {
      "image/png": "[encoded data removed]",
      "text/plain": [
       "<Figure size 432x288 with 1 Axes>"
      ]
     },
     "metadata": {
      "needs_background": "light"
     },
     "output_type": "display_data"
    }
   ],
   "source": [
    "sns.countplot(x=\"internet_user\", hue=\"churn\", data=data, palette=palette)\n",
    "plt.xticks(\n",
    "    [0, 1], \n",
    "    [\"Не используют интернет\", \"Используют интернет\"])\n",
    "plt.legend(title=False, loc='upper left', labels=['Остались', 'Ушли'])\n",
    "plt.xlabel(' ')\n",
    "plt.ylabel('Количество пользователей')\n",
    "plt.title('Отток клиентов среди пользователей интернет-услуг');"
   ]
  },
  {
   "cell_type": "code",
   "execution_count": 56,
   "id": "d811c6ff",
   "metadata": {},
   "outputs": [
    {
     "data": {
      "image/png": "[encoded data removed]",
      "text/plain": [
       "<Figure size 432x288 with 1 Axes>"
      ]
     },
     "metadata": {
      "needs_background": "light"
     },
     "output_type": "display_data"
    }
   ],
   "source": [
    "sns.countplot(x=\"phone_user\", hue=\"churn\", data=data, palette=palette)\n",
    "plt.xticks(\n",
    "    [0, 1], \n",
    "    [\"Не используют телефонную связь\", \"Используют телефонную связь\"], fontsize=9)\n",
    "plt.legend(title=False, loc='upper left', labels=['Остались', 'Ушли'])\n",
    "plt.xlabel(' ')\n",
    "plt.ylabel('Количество пользователей')\n",
    "plt.title('Отток клиентов среди пользователей услуг стационарной телефонной связи');"
   ]
  },
  {
   "cell_type": "markdown",
   "id": "2ccd118d",
   "metadata": {},
   "source": [
    "Мы видим небольшое приемущество у стационарного телефона: среди тех, кто не пользуется услугами стационарной телефонной связи, соотношение нелояльных клиентов к лояльным выше, чем в остальных группах. Так же видим, что среди пользователей интернета чаще встречаются недовольные клиенты по сравнению с пользователями стационарного телефона. Клиенты, которые не являются пользователями интернета от нашей компании (а, следовательно, являются *только* абонентами стационарной телефонной связи), чаще остаются довольны качеством услуг."
   ]
  },
  {
   "cell_type": "markdown",
   "id": "134c848d",
   "metadata": {},
   "source": [
    "### Выводы исследовательского анализа данных <a id=\"EDA_result\"></a>\n",
    "\n",
    "1. Развитие компании оставалось стабильным на протяжении последних 7 лет. В конце 2019 и в 2020 году количество новых клиентов начало резко расти, но и отток клиентов так же резко вырос в конце 2019. В целом, с компанией работает много лояльных клиентов, продолжающих пользоваться услугами длительное время.\n",
    "2. Наиболее лояльными клиентами являются:\n",
    "    * заключающие годичные и двухгодичные контракты;\n",
    "    * подключающие автоплатёж;\n",
    "3. Пользователи интернета через оптоволокно чаще уходят, чем пользователи DSL подключения\n",
    "4. Среди пользователей телефоном больше процент довольных клиентов, чем среди пользователей интернета от компании."
   ]
  },
  {
   "cell_type": "markdown",
   "id": "7bc42849",
   "metadata": {},
   "source": [
    "## Обучение моделей <a id=\"model\"></a>"
   ]
  },
  {
   "cell_type": "markdown",
   "id": "0ea59096",
   "metadata": {},
   "source": [
    "Подготовим данные к обучению моделей\n",
    "1. Удалим столбец total_charges как кореллирующий\n",
    "2. Удалим столбец с идентификатором пользователя\n",
    "3. Применим One Hot Encoding\n",
    "4. Разделим выборки на обучающую и тестовую\n",
    "5. Обучим модели и проверим их с помощью кросс-валидации"
   ]
  },
  {
   "cell_type": "code",
   "execution_count": 57,
   "id": "79783e34",
   "metadata": {},
   "outputs": [],
   "source": [
    "df = data.drop(['total_charges', 'customer_id', 'begin_date'], axis=1)\n",
    "df = pd.get_dummies(df, drop_first=True)"
   ]
  },
  {
   "cell_type": "code",
   "execution_count": 58,
   "id": "5c9ab6e1",
   "metadata": {},
   "outputs": [
    {
     "name": "stdout",
     "output_type": "stream",
     "text": [
      "<class 'pandas.core.frame.DataFrame'>\n",
      "Int64Index: 7043 entries, 0 to 7042\n",
      "Data columns (total 24 columns):\n",
      " #   Column                                  Non-Null Count  Dtype  \n",
      "---  ------                                  --------------  -----  \n",
      " 0   paperless_billing                       7043 non-null   int64  \n",
      " 1   monthly_charges                         7043 non-null   float64\n",
      " 2   churn                                   7043 non-null   int64  \n",
      " 3   contract_duration                       7043 non-null   int64  \n",
      " 4   senior_citizen                          7043 non-null   int64  \n",
      " 5   partner                                 7043 non-null   int64  \n",
      " 6   dependents                              7043 non-null   int64  \n",
      " 7   online_security                         7043 non-null   float64\n",
      " 8   online_backup                           7043 non-null   float64\n",
      " 9   device_protection                       7043 non-null   float64\n",
      " 10  tech_support                            7043 non-null   float64\n",
      " 11  streaming_tv                            7043 non-null   float64\n",
      " 12  streaming_movies                        7043 non-null   float64\n",
      " 13  internet_user                           7043 non-null   float64\n",
      " 14  multiple_lines                          7043 non-null   float64\n",
      " 15  phone_user                              7043 non-null   float64\n",
      " 16  type_One year                           7043 non-null   uint8  \n",
      " 17  type_Two year                           7043 non-null   uint8  \n",
      " 18  payment_method_Credit card (automatic)  7043 non-null   uint8  \n",
      " 19  payment_method_Electronic check         7043 non-null   uint8  \n",
      " 20  payment_method_Mailed check             7043 non-null   uint8  \n",
      " 21  gender_Male                             7043 non-null   uint8  \n",
      " 22  internet_service_Fiber optic            7043 non-null   uint8  \n",
      " 23  internet_service_no service             7043 non-null   uint8  \n",
      "dtypes: float64(10), int64(6), uint8(8)\n",
      "memory usage: 1.2 MB\n"
     ]
    }
   ],
   "source": [
    "df.info()"
   ]
  },
  {
   "cell_type": "code",
   "execution_count": 59,
   "id": "42bb3856",
   "metadata": {},
   "outputs": [
    {
     "name": "stdout",
     "output_type": "stream",
     "text": [
      "(5282, 23)\n",
      "(5282,)\n",
      "(1761, 23)\n",
      "(1761,)\n"
     ]
    }
   ],
   "source": [
    "features = df.drop(['churn'], axis=1)\n",
    "target = df['churn']\n",
    "\n",
    "features_train, features_test, target_train, target_test = train_test_split(\n",
    "    features, target, test_size=0.25, random_state=12345)\n",
    "\n",
    "print(features_train.shape)\n",
    "print(target_train.shape)\n",
    "print(features_test.shape)\n",
    "print(target_test.shape)"
   ]
  },
  {
   "cell_type": "code",
   "execution_count": 60,
   "id": "59dac3c1",
   "metadata": {},
   "outputs": [
    {
     "data": {
      "text/html": [
       "<div>\n",
       "<style scoped>\n",
       "    .dataframe tbody tr th:only-of-type {\n",
       "        vertical-align: middle;\n",
       "    }\n",
       "\n",
       "    .dataframe tbody tr th {\n",
       "        vertical-align: top;\n",
       "    }\n",
       "\n",
       "    .dataframe thead th {\n",
       "        text-align: right;\n",
       "    }\n",
       "</style>\n",
       "<table border=\"1\" class=\"dataframe\">\n",
       "  <thead>\n",
       "    <tr style=\"text-align: right;\">\n",
       "      <th></th>\n",
       "      <th>paperless_billing</th>\n",
       "      <th>monthly_charges</th>\n",
       "      <th>contract_duration</th>\n",
       "      <th>senior_citizen</th>\n",
       "      <th>partner</th>\n",
       "      <th>dependents</th>\n",
       "      <th>online_security</th>\n",
       "      <th>online_backup</th>\n",
       "      <th>device_protection</th>\n",
       "      <th>tech_support</th>\n",
       "      <th>...</th>\n",
       "      <th>multiple_lines</th>\n",
       "      <th>phone_user</th>\n",
       "      <th>type_One year</th>\n",
       "      <th>type_Two year</th>\n",
       "      <th>payment_method_Credit card (automatic)</th>\n",
       "      <th>payment_method_Electronic check</th>\n",
       "      <th>payment_method_Mailed check</th>\n",
       "      <th>gender_Male</th>\n",
       "      <th>internet_service_Fiber optic</th>\n",
       "      <th>internet_service_no service</th>\n",
       "    </tr>\n",
       "  </thead>\n",
       "  <tbody>\n",
       "    <tr>\n",
       "      <th>0</th>\n",
       "      <td>1</td>\n",
       "      <td>29.85</td>\n",
       "      <td>31</td>\n",
       "      <td>0</td>\n",
       "      <td>1</td>\n",
       "      <td>0</td>\n",
       "      <td>0.0</td>\n",
       "      <td>1.0</td>\n",
       "      <td>0.0</td>\n",
       "      <td>0.0</td>\n",
       "      <td>...</td>\n",
       "      <td>0.0</td>\n",
       "      <td>0.0</td>\n",
       "      <td>0</td>\n",
       "      <td>0</td>\n",
       "      <td>0</td>\n",
       "      <td>1</td>\n",
       "      <td>0</td>\n",
       "      <td>0</td>\n",
       "      <td>0</td>\n",
       "      <td>0</td>\n",
       "    </tr>\n",
       "    <tr>\n",
       "      <th>1</th>\n",
       "      <td>0</td>\n",
       "      <td>56.95</td>\n",
       "      <td>1036</td>\n",
       "      <td>0</td>\n",
       "      <td>0</td>\n",
       "      <td>0</td>\n",
       "      <td>1.0</td>\n",
       "      <td>0.0</td>\n",
       "      <td>1.0</td>\n",
       "      <td>0.0</td>\n",
       "      <td>...</td>\n",
       "      <td>0.0</td>\n",
       "      <td>1.0</td>\n",
       "      <td>1</td>\n",
       "      <td>0</td>\n",
       "      <td>0</td>\n",
       "      <td>0</td>\n",
       "      <td>1</td>\n",
       "      <td>1</td>\n",
       "      <td>0</td>\n",
       "      <td>0</td>\n",
       "    </tr>\n",
       "    <tr>\n",
       "      <th>2</th>\n",
       "      <td>1</td>\n",
       "      <td>53.85</td>\n",
       "      <td>61</td>\n",
       "      <td>0</td>\n",
       "      <td>0</td>\n",
       "      <td>0</td>\n",
       "      <td>1.0</td>\n",
       "      <td>1.0</td>\n",
       "      <td>0.0</td>\n",
       "      <td>0.0</td>\n",
       "      <td>...</td>\n",
       "      <td>0.0</td>\n",
       "      <td>1.0</td>\n",
       "      <td>0</td>\n",
       "      <td>0</td>\n",
       "      <td>0</td>\n",
       "      <td>0</td>\n",
       "      <td>1</td>\n",
       "      <td>1</td>\n",
       "      <td>0</td>\n",
       "      <td>0</td>\n",
       "    </tr>\n",
       "    <tr>\n",
       "      <th>3</th>\n",
       "      <td>0</td>\n",
       "      <td>42.30</td>\n",
       "      <td>1371</td>\n",
       "      <td>0</td>\n",
       "      <td>0</td>\n",
       "      <td>0</td>\n",
       "      <td>1.0</td>\n",
       "      <td>0.0</td>\n",
       "      <td>1.0</td>\n",
       "      <td>1.0</td>\n",
       "      <td>...</td>\n",
       "      <td>0.0</td>\n",
       "      <td>0.0</td>\n",
       "      <td>1</td>\n",
       "      <td>0</td>\n",
       "      <td>0</td>\n",
       "      <td>0</td>\n",
       "      <td>0</td>\n",
       "      <td>1</td>\n",
       "      <td>0</td>\n",
       "      <td>0</td>\n",
       "    </tr>\n",
       "    <tr>\n",
       "      <th>4</th>\n",
       "      <td>1</td>\n",
       "      <td>70.70</td>\n",
       "      <td>61</td>\n",
       "      <td>0</td>\n",
       "      <td>0</td>\n",
       "      <td>0</td>\n",
       "      <td>0.0</td>\n",
       "      <td>0.0</td>\n",
       "      <td>0.0</td>\n",
       "      <td>0.0</td>\n",
       "      <td>...</td>\n",
       "      <td>0.0</td>\n",
       "      <td>1.0</td>\n",
       "      <td>0</td>\n",
       "      <td>0</td>\n",
       "      <td>0</td>\n",
       "      <td>1</td>\n",
       "      <td>0</td>\n",
       "      <td>0</td>\n",
       "      <td>1</td>\n",
       "      <td>0</td>\n",
       "    </tr>\n",
       "  </tbody>\n",
       "</table>\n",
       "<p>5 rows × 23 columns</p>\n",
       "</div>"
      ],
      "text/plain": [
       "   paperless_billing  monthly_charges  contract_duration  senior_citizen  \\\n",
       "0                  1            29.85                 31               0   \n",
       "1                  0            56.95               1036               0   \n",
       "2                  1            53.85                 61               0   \n",
       "3                  0            42.30               1371               0   \n",
       "4                  1            70.70                 61               0   \n",
       "\n",
       "   partner  dependents  online_security  online_backup  device_protection  \\\n",
       "0        1           0              0.0            1.0                0.0   \n",
       "1        0           0              1.0            0.0                1.0   \n",
       "2        0           0              1.0            1.0                0.0   \n",
       "3        0           0              1.0            0.0                1.0   \n",
       "4        0           0              0.0            0.0                0.0   \n",
       "\n",
       "   tech_support  ...  multiple_lines  phone_user  type_One year  \\\n",
       "0           0.0  ...             0.0         0.0              0   \n",
       "1           0.0  ...             0.0         1.0              1   \n",
       "2           0.0  ...             0.0         1.0              0   \n",
       "3           1.0  ...             0.0         0.0              1   \n",
       "4           0.0  ...             0.0         1.0              0   \n",
       "\n",
       "   type_Two year  payment_method_Credit card (automatic)  \\\n",
       "0              0                                       0   \n",
       "1              0                                       0   \n",
       "2              0                                       0   \n",
       "3              0                                       0   \n",
       "4              0                                       0   \n",
       "\n",
       "   payment_method_Electronic check  payment_method_Mailed check  gender_Male  \\\n",
       "0                                1                            0            0   \n",
       "1                                0                            1            1   \n",
       "2                                0                            1            1   \n",
       "3                                0                            0            1   \n",
       "4                                1                            0            0   \n",
       "\n",
       "   internet_service_Fiber optic  internet_service_no service  \n",
       "0                             0                            0  \n",
       "1                             0                            0  \n",
       "2                             0                            0  \n",
       "3                             0                            0  \n",
       "4                             1                            0  \n",
       "\n",
       "[5 rows x 23 columns]"
      ]
     },
     "execution_count": 60,
     "metadata": {},
     "output_type": "execute_result"
    }
   ],
   "source": [
    "features.head()"
   ]
  },
  {
   "cell_type": "code",
   "execution_count": 61,
   "id": "d39029c6",
   "metadata": {},
   "outputs": [],
   "source": [
    "roc_auc_scorer = make_scorer(roc_auc_score, greater_is_better=True,\n",
    "                             needs_threshold=True)"
   ]
  },
  {
   "cell_type": "markdown",
   "id": "ca1c8ce3",
   "metadata": {},
   "source": [
    "### Логистическая регрессия <a id=\"regression\"></a>"
   ]
  },
  {
   "cell_type": "markdown",
   "id": "a518254e",
   "metadata": {},
   "source": [
    "Подберём гиперпараметры для логистической регрессии и обучим модель:"
   ]
  },
  {
   "cell_type": "code",
   "execution_count": 62,
   "id": "a8148d18",
   "metadata": {},
   "outputs": [
    {
     "name": "stdout",
     "output_type": "stream",
     "text": [
      "Fitting 5 folds for each of 58 candidates, totalling 290 fits\n"
     ]
    },
    {
     "data": {
      "text/plain": [
       "GridSearchCV(cv=5, estimator=LogisticRegression(),\n",
       "             param_grid={'C': array([0.1, 0.2, 0.3, 0.4, 0.5, 0.6, 0.7, 0.8, 0.9, 1. , 1.1, 1.2, 1.3,\n",
       "       1.4, 1.5, 1.6, 1.7, 1.8, 1.9, 2. , 2.1, 2.2, 2.3, 2.4, 2.5, 2.6,\n",
       "       2.7, 2.8, 2.9]),\n",
       "                         'penalty': ['l1', 'l2'], 'solver': ['liblinear']},\n",
       "             scoring=make_scorer(roc_auc_score, needs_threshold=True),\n",
       "             verbose=1)"
      ]
     },
     "execution_count": 62,
     "metadata": {},
     "output_type": "execute_result"
    }
   ],
   "source": [
    "param_grid_logreg = {\n",
    "    'penalty' : ['l1', \"l2\"],\n",
    "    'C': np.arange(0.1, 3, 0.1),\n",
    "    'solver' : ['liblinear']    \n",
    "}\n",
    "\n",
    "logreg = GridSearchCV(LogisticRegression(),\n",
    "                         param_grid = param_grid_logreg,\n",
    "                         scoring=roc_auc_scorer, cv = 5, verbose = 1)\n",
    "logreg.fit(features_train, target_train)"
   ]
  },
  {
   "cell_type": "code",
   "execution_count": 63,
   "id": "4093985b",
   "metadata": {},
   "outputs": [
    {
     "name": "stdout",
     "output_type": "stream",
     "text": [
      "Наилучшие параметры: LogisticRegression(C=1.4000000000000001, penalty='l1', solver='liblinear')\n",
      "Среднее значение AUC-ROC логистической регрессии после кросс-валидации: 0.84\n"
     ]
    }
   ],
   "source": [
    "print('Наилучшие параметры:', logreg.best_estimator_)\n",
    "print('Среднее значение AUC-ROC логистической регрессии после кросс-валидации: {:.2f}'.format(logreg.best_score_))"
   ]
  },
  {
   "cell_type": "markdown",
   "id": "6e4aae0e",
   "metadata": {},
   "source": [
    "### Градиентный бустинг LGBM <a id=\"lgbm\"></a>"
   ]
  },
  {
   "cell_type": "markdown",
   "id": "f86bb786",
   "metadata": {},
   "source": [
    "Подберём гиперпараметры и обучим модель:"
   ]
  },
  {
   "cell_type": "code",
   "execution_count": 64,
   "id": "34f945b2",
   "metadata": {},
   "outputs": [
    {
     "name": "stdout",
     "output_type": "stream",
     "text": [
      "Запуск GridSearch...\n",
      "Fitting 5 folds for each of 320 candidates, totalling 1600 fits\n"
     ]
    },
    {
     "data": {
      "text/plain": [
       "GridSearchCV(cv=5, estimator=LGBMClassifier(random_state=12345),\n",
       "             param_grid={'learning_rate': [0.1, 0.2, 0.03, 0.003],\n",
       "                         'max_depth': [3, 5, 8, 10],\n",
       "                         'n_estimators': [10, 20, 50, 100, 200],\n",
       "                         'num_leaves': [20, 50, 250, 400]},\n",
       "             scoring=make_scorer(roc_auc_score, needs_threshold=True),\n",
       "             verbose=1)"
      ]
     },
     "execution_count": 64,
     "metadata": {},
     "output_type": "execute_result"
    }
   ],
   "source": [
    "params = {\n",
    "    'num_leaves': [20, 50, 250, 400],\n",
    "    'learning_rate':[0.1, 0.2, 0.03, 0.003],\n",
    "    'max_depth': [3, 5, 8, 10],\n",
    "    'n_estimators':[10, 20, 50, 100, 200]\n",
    "}\n",
    "\n",
    "print('Запуск GridSearch...')\n",
    "lgbm = GridSearchCV(lgb.LGBMClassifier(random_state=12345), params, scoring=roc_auc_scorer, cv=5, verbose = 1)\n",
    "lgbm.fit(features_train, target_train)"
   ]
  },
  {
   "cell_type": "code",
   "execution_count": 65,
   "id": "78e44718",
   "metadata": {},
   "outputs": [
    {
     "name": "stdout",
     "output_type": "stream",
     "text": [
      "Лучшие параметры:\n",
      "{'learning_rate': 0.2, 'max_depth': 3, 'n_estimators': 200, 'num_leaves': 20}\n",
      "Среднее значение AUC-ROC после кросс-валидации:\n",
      "0.9034548195382428\n"
     ]
    }
   ],
   "source": [
    "print('Лучшие параметры:')\n",
    "print(lgbm.best_params_)\n",
    "\n",
    "print('Среднее значение AUC-ROC после кросс-валидации:')\n",
    "print(lgbm.best_score_)"
   ]
  },
  {
   "cell_type": "markdown",
   "id": "136ed565",
   "metadata": {},
   "source": [
    "Построим график важности признаков:"
   ]
  },
  {
   "cell_type": "code",
   "execution_count": 66,
   "id": "666f532c",
   "metadata": {},
   "outputs": [
    {
     "data": {
      "image/png": "[encoded data removed]",
      "text/plain": [
       "<Figure size 1080x432 with 1 Axes>"
      ]
     },
     "metadata": {
      "needs_background": "light"
     },
     "output_type": "display_data"
    }
   ],
   "source": [
    "importances = lgbm.best_estimator_.feature_importances_\n",
    "feature_names = list(features.columns)\n",
    "lgbm_importances = pd.Series(importances, index=feature_names)\n",
    "\n",
    "fig, ax = plt.subplots(figsize=(15,6))\n",
    "lgbm_importances.plot.barh(ax=ax)\n",
    "ax.set_title(\"Важность признаков для модели LGBM\")\n",
    "fig.tight_layout()"
   ]
  },
  {
   "cell_type": "markdown",
   "id": "ae84e06f",
   "metadata": {},
   "source": [
    "Наиболее важные признаки - длительность контракта и ежемесячные траты на услуги."
   ]
  },
  {
   "cell_type": "markdown",
   "id": "c13898af",
   "metadata": {},
   "source": [
    "### Случайный лес <a id=\"forest\"></a>"
   ]
  },
  {
   "cell_type": "markdown",
   "id": "ad5bb5cd",
   "metadata": {},
   "source": [
    "Подберём параметры и обучим случайный лес:"
   ]
  },
  {
   "cell_type": "code",
   "execution_count": 67,
   "id": "7bc7fc99",
   "metadata": {},
   "outputs": [
    {
     "name": "stdout",
     "output_type": "stream",
     "text": [
      "Fitting 5 folds for each of 288 candidates, totalling 1440 fits\n"
     ]
    },
    {
     "data": {
      "text/plain": [
       "GridSearchCV(cv=5, estimator=RandomForestClassifier(), n_jobs=-1,\n",
       "             param_grid={'bootstrap': [True], 'max_depth': [10, 40, 80, 110],\n",
       "                         'max_features': [2, 3], 'min_samples_leaf': [3, 4, 5],\n",
       "                         'min_samples_split': [8, 10, 12],\n",
       "                         'n_estimators': [50, 100, 150, 300]},\n",
       "             scoring=make_scorer(roc_auc_score, needs_threshold=True),\n",
       "             verbose=2)"
      ]
     },
     "execution_count": 67,
     "metadata": {},
     "output_type": "execute_result"
    }
   ],
   "source": [
    "param_grid = {\n",
    "    'bootstrap': [True],\n",
    "    'max_depth': [10, 40, 80, 110],\n",
    "    'max_features':[2, 3],\n",
    "    'min_samples_leaf': [3, 4, 5],\n",
    "    'min_samples_split':[8, 10, 12],\n",
    "    'n_estimators': [50, 100, 150, 300]\n",
    "}\n",
    "\n",
    "forest = GridSearchCV(estimator = RandomForestClassifier(), param_grid = param_grid, \n",
    "                          cv = 5, scoring=roc_auc_scorer, n_jobs = -1, verbose = 2)\n",
    "\n",
    "forest.fit(features_train, target_train)\n"
   ]
  },
  {
   "cell_type": "code",
   "execution_count": 68,
   "id": "4d6d6898",
   "metadata": {},
   "outputs": [
    {
     "name": "stdout",
     "output_type": "stream",
     "text": [
      "Лучшие параметры:\n",
      "{'bootstrap': True, 'max_depth': 10, 'max_features': 3, 'min_samples_leaf': 4, 'min_samples_split': 10, 'n_estimators': 300}\n",
      "Среднее значение AUC-ROC после кросс-валидации:\n",
      "0.8560524991365028\n"
     ]
    }
   ],
   "source": [
    "print('Лучшие параметры:')\n",
    "print(forest.best_params_)\n",
    "\n",
    "print('Среднее значение AUC-ROC после кросс-валидации:')\n",
    "print(forest.best_score_)"
   ]
  },
  {
   "cell_type": "markdown",
   "id": "2d5dc17d",
   "metadata": {},
   "source": [
    "Построим график важности признаков:"
   ]
  },
  {
   "cell_type": "code",
   "execution_count": 69,
   "id": "31a2ba37",
   "metadata": {},
   "outputs": [
    {
     "data": {
      "image/png": "[encoded data removed]",
      "text/plain": [
       "<Figure size 1080x432 with 1 Axes>"
      ]
     },
     "metadata": {
      "needs_background": "light"
     },
     "output_type": "display_data"
    }
   ],
   "source": [
    "importances = forest.best_estimator_.feature_importances_\n",
    "feature_names = list(features.columns)\n",
    "forest_importances = pd.Series(importances, index=feature_names)\n",
    "\n",
    "fig, ax = plt.subplots(figsize=(15,6))\n",
    "forest_importances.plot.barh(ax=ax)\n",
    "ax.set_title(\"Важность признаков для модели леса\")\n",
    "fig.tight_layout()"
   ]
  },
  {
   "cell_type": "markdown",
   "id": "21217345",
   "metadata": {},
   "source": [
    "Мы получили следующие значения метрики AUC-ROC после валидации:"
   ]
  },
  {
   "cell_type": "code",
   "execution_count": 70,
   "id": "67e9c50c",
   "metadata": {},
   "outputs": [
    {
     "data": {
      "text/html": [
       "<div>\n",
       "<style scoped>\n",
       "    .dataframe tbody tr th:only-of-type {\n",
       "        vertical-align: middle;\n",
       "    }\n",
       "\n",
       "    .dataframe tbody tr th {\n",
       "        vertical-align: top;\n",
       "    }\n",
       "\n",
       "    .dataframe thead th {\n",
       "        text-align: right;\n",
       "    }\n",
       "</style>\n",
       "<table border=\"1\" class=\"dataframe\">\n",
       "  <thead>\n",
       "    <tr style=\"text-align: right;\">\n",
       "      <th></th>\n",
       "      <th>Модель</th>\n",
       "      <th>Значение AUC-ROC</th>\n",
       "    </tr>\n",
       "  </thead>\n",
       "  <tbody>\n",
       "    <tr>\n",
       "      <th>0</th>\n",
       "      <td>Модель логистической регрессии</td>\n",
       "      <td>0.84</td>\n",
       "    </tr>\n",
       "    <tr>\n",
       "      <th>1</th>\n",
       "      <td>Модель градиентного бустинга LightGBM</td>\n",
       "      <td>0.90</td>\n",
       "    </tr>\n",
       "    <tr>\n",
       "      <th>2</th>\n",
       "      <td>Модель случайного леса</td>\n",
       "      <td>0.86</td>\n",
       "    </tr>\n",
       "  </tbody>\n",
       "</table>\n",
       "</div>"
      ],
      "text/plain": [
       "                                  Модель Значение AUC-ROC\n",
       "0         Модель логистической регрессии             0.84\n",
       "1  Модель градиентного бустинга LightGBM             0.90\n",
       "2                 Модель случайного леса             0.86"
      ]
     },
     "execution_count": 70,
     "metadata": {},
     "output_type": "execute_result"
    }
   ],
   "source": [
    "data = [\n",
    "    ['Модель логистической регрессии', '{:.2f}'.format(logreg.best_score_)],\n",
    "    ['Модель градиентного бустинга LightGBM', '{:.2f}'.format(lgbm.best_score_)],\n",
    "    ['Модель случайного леса', '{:.2f}'.format(forest.best_score_)],\n",
    "]\n",
    "columns = ['Модель', 'Значение AUC-ROC']\n",
    "results = pd.DataFrame(data=data, columns=columns)\n",
    "results"
   ]
  },
  {
   "cell_type": "markdown",
   "id": "a53a644e",
   "metadata": {},
   "source": [
    "## Проверка моделей <a id=\"test\"></a>"
   ]
  },
  {
   "cell_type": "markdown",
   "id": "dd6aeb13",
   "metadata": {},
   "source": [
    "Лучший результат после кросс-валидации показала модель градиентного бустинга - проверим её на тестовой выборке."
   ]
  },
  {
   "cell_type": "code",
   "execution_count": 71,
   "id": "e5cbfb62",
   "metadata": {},
   "outputs": [
    {
     "name": "stdout",
     "output_type": "stream",
     "text": [
      "AUC-ROC модели градиентного бустинга LGBM: 0.91\n"
     ]
    }
   ],
   "source": [
    "lgbm_score = roc_auc_score(target_test, lgbm.predict_proba(features_test)[:, 1])\n",
    "print('AUC-ROC модели градиентного бустинга LGBM:', '{:.2f}'.format(lgbm_score))"
   ]
  },
  {
   "cell_type": "markdown",
   "id": "ab92f8b7",
   "metadata": {},
   "source": [
    "## Выводы <a id=\"conclusion\"></a>"
   ]
  },
  {
   "cell_type": "markdown",
   "id": "aa12b233",
   "metadata": {},
   "source": [
    "Нам удалось создать модель, с высокой точностью предсказывающую отток клиентов - это модель градиентного бустинга LGBM. Значение целевой метрики AUC-ROC составило 0,91."
   ]
  },
  {
   "cell_type": "code",
   "execution_count": null,
   "id": "8730ef82",
   "metadata": {},
   "outputs": [],
   "source": []
  }
 ],
 "metadata": {
  "ExecuteTimeLog": [
   {
    "duration": 1939,
    "start_time": "2022-08-04T05:00:18.061Z"
   },
   {
    "duration": 3,
    "start_time": "2022-08-04T05:00:20.002Z"
   },
   {
    "duration": 103,
    "start_time": "2022-08-04T05:00:21.367Z"
   },
   {
    "duration": 19,
    "start_time": "2022-08-04T05:01:01.328Z"
   },
   {
    "duration": 15,
    "start_time": "2022-08-04T05:01:02.231Z"
   },
   {
    "duration": 13,
    "start_time": "2022-08-04T05:01:02.925Z"
   },
   {
    "duration": 12,
    "start_time": "2022-08-04T05:01:03.821Z"
   },
   {
    "duration": 10,
    "start_time": "2022-08-04T05:01:04.303Z"
   },
   {
    "duration": 3,
    "start_time": "2022-08-04T05:01:27.881Z"
   },
   {
    "duration": 6,
    "start_time": "2022-08-04T05:01:30.318Z"
   },
   {
    "duration": 5,
    "start_time": "2022-08-04T05:01:36.867Z"
   },
   {
    "duration": 16,
    "start_time": "2022-08-04T05:01:37.592Z"
   },
   {
    "duration": 16,
    "start_time": "2022-08-04T05:01:42.637Z"
   },
   {
    "duration": 16,
    "start_time": "2022-08-04T05:01:52.083Z"
   },
   {
    "duration": 10,
    "start_time": "2022-08-04T05:01:53.665Z"
   },
   {
    "duration": 5,
    "start_time": "2022-08-04T05:01:56.023Z"
   },
   {
    "duration": 4,
    "start_time": "2022-08-04T05:02:01.272Z"
   },
   {
    "duration": 8,
    "start_time": "2022-08-04T05:02:02.503Z"
   },
   {
    "duration": 20,
    "start_time": "2022-08-04T05:02:03.556Z"
   },
   {
    "duration": 5,
    "start_time": "2022-08-04T05:03:55.742Z"
   },
   {
    "duration": 5,
    "start_time": "2022-08-04T05:03:56.354Z"
   },
   {
    "duration": 13,
    "start_time": "2022-08-04T05:03:56.481Z"
   },
   {
    "duration": 4,
    "start_time": "2022-08-04T05:03:59.833Z"
   },
   {
    "duration": 29,
    "start_time": "2022-08-04T05:04:00.035Z"
   },
   {
    "duration": 15,
    "start_time": "2022-08-04T05:04:00.845Z"
   },
   {
    "duration": 12,
    "start_time": "2022-08-04T05:04:01.835Z"
   },
   {
    "duration": 20,
    "start_time": "2022-08-04T05:04:02.587Z"
   },
   {
    "duration": 10,
    "start_time": "2022-08-04T05:04:02.737Z"
   },
   {
    "duration": 4,
    "start_time": "2022-08-04T05:04:04.248Z"
   },
   {
    "duration": 15,
    "start_time": "2022-08-04T05:04:04.431Z"
   },
   {
    "duration": 11,
    "start_time": "2022-08-04T05:04:05.097Z"
   },
   {
    "duration": 27,
    "start_time": "2022-08-04T05:04:07.192Z"
   },
   {
    "duration": 42,
    "start_time": "2022-08-04T05:04:08.766Z"
   },
   {
    "duration": 16,
    "start_time": "2022-08-04T05:04:12.884Z"
   },
   {
    "duration": 18,
    "start_time": "2022-08-04T05:04:57.287Z"
   },
   {
    "duration": 266,
    "start_time": "2022-08-04T05:05:26.134Z"
   },
   {
    "duration": 5,
    "start_time": "2022-08-04T05:05:26.734Z"
   },
   {
    "duration": 204,
    "start_time": "2022-08-04T05:05:27.458Z"
   },
   {
    "duration": 5,
    "start_time": "2022-08-04T05:05:27.832Z"
   },
   {
    "duration": 153,
    "start_time": "2022-08-04T05:05:28.327Z"
   },
   {
    "duration": 270,
    "start_time": "2022-08-04T05:05:28.993Z"
   },
   {
    "duration": 142,
    "start_time": "2022-08-04T05:05:29.283Z"
   },
   {
    "duration": 140,
    "start_time": "2022-08-04T05:05:29.738Z"
   },
   {
    "duration": 183,
    "start_time": "2022-08-04T05:05:30.172Z"
   },
   {
    "duration": 184,
    "start_time": "2022-08-04T05:05:30.634Z"
   },
   {
    "duration": 162,
    "start_time": "2022-08-04T05:05:31.134Z"
   },
   {
    "duration": 12,
    "start_time": "2022-08-04T05:05:31.317Z"
   },
   {
    "duration": 561,
    "start_time": "2022-08-04T05:05:31.331Z"
   },
   {
    "duration": 122,
    "start_time": "2022-08-04T05:05:31.894Z"
   },
   {
    "duration": 571,
    "start_time": "2022-08-04T05:05:32.840Z"
   },
   {
    "duration": 104,
    "start_time": "2022-08-04T05:05:33.417Z"
   },
   {
    "duration": 19,
    "start_time": "2022-08-04T05:05:33.693Z"
   },
   {
    "duration": 730,
    "start_time": "2022-08-04T05:05:34.249Z"
   },
   {
    "duration": 182,
    "start_time": "2022-08-04T05:05:34.982Z"
   },
   {
    "duration": 159,
    "start_time": "2022-08-04T05:05:35.166Z"
   },
   {
    "duration": 15,
    "start_time": "2022-08-04T05:07:27.281Z"
   },
   {
    "duration": 13,
    "start_time": "2022-08-04T05:08:05.143Z"
   },
   {
    "duration": 9,
    "start_time": "2022-08-04T05:08:09.431Z"
   },
   {
    "duration": 24,
    "start_time": "2022-08-04T05:08:10.258Z"
   },
   {
    "duration": 3,
    "start_time": "2022-08-04T05:08:12.677Z"
   },
   {
    "duration": 89473,
    "start_time": "2022-08-04T05:08:55.635Z"
   },
   {
    "duration": 5,
    "start_time": "2022-08-04T05:10:25.110Z"
   },
   {
    "duration": 127554,
    "start_time": "2022-08-04T05:13:44.452Z"
   },
   {
    "duration": 5,
    "start_time": "2022-08-04T05:15:52.008Z"
   },
   {
    "duration": 436,
    "start_time": "2022-08-04T05:15:52.014Z"
   },
   {
    "duration": 5107,
    "start_time": "2022-08-04T05:18:18.001Z"
   },
   {
    "duration": 3,
    "start_time": "2022-08-04T05:18:23.110Z"
   },
   {
    "duration": 418,
    "start_time": "2022-08-04T05:18:23.115Z"
   },
   {
    "duration": 9,
    "start_time": "2022-08-04T05:18:23.535Z"
   },
   {
    "duration": 11,
    "start_time": "2022-08-04T05:19:02.857Z"
   },
   {
    "duration": 12,
    "start_time": "2022-08-04T05:19:03.601Z"
   }
  ],
  "kernelspec": {
   "display_name": "Python 3",
   "language": "python",
   "name": "python3"
  },
  "language_info": {
   "codemirror_mode": {
    "name": "ipython",
    "version": 3
   },
   "file_extension": ".py",
   "mimetype": "text/x-python",
   "name": "python",
   "nbconvert_exporter": "python",
   "pygments_lexer": "ipython3",
   "version": "3.8.8"
  },
  "toc": {
   "base_numbering": 1,
   "nav_menu": {},
   "number_sections": true,
   "sideBar": true,
   "skip_h1_title": true,
   "title_cell": "Table of Contents",
   "title_sidebar": "Contents",
   "toc_cell": false,
   "toc_position": {},
   "toc_section_display": true,
   "toc_window_display": false
  }
 },
 "nbformat": 4,
 "nbformat_minor": 5
}
